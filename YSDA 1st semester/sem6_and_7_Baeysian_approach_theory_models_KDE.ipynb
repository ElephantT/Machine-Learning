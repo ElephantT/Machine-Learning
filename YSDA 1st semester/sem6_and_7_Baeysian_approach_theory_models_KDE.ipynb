{
 "cells": [
  {
   "cell_type": "code",
   "execution_count": 1,
   "metadata": {
    "slideshow": {
     "slide_type": "skip"
    }
   },
   "outputs": [],
   "source": [
    "%matplotlib inline\n",
    "import matplotlib.pyplot as plt\n",
    "import seaborn as sns\n",
    "sns.set()\n",
    "import numpy as np"
   ]
  },
  {
   "cell_type": "markdown",
   "metadata": {
    "slideshow": {
     "slide_type": "slide"
    }
   },
   "source": [
    "# Преподобный Байес и его секта"
   ]
  },
  {
   "cell_type": "markdown",
   "metadata": {
    "slideshow": {
     "slide_type": "slide"
    }
   },
   "source": [
    "![](https://www.investigacionyciencia.es/images/13450/imageFacebookThumbnail.jpg)"
   ]
  },
  {
   "cell_type": "markdown",
   "metadata": {
    "slideshow": {
     "slide_type": "slide"
    }
   },
   "source": [
    "## Восстановление плотности"
   ]
  },
  {
   "cell_type": "markdown",
   "metadata": {
    "slideshow": {
     "slide_type": "fragment"
    }
   },
   "source": [
    "**Дано**:\n",
    "* обучающая выборка $X^{\\ell}=(x_i, y_i)_{i=1}^{\\ell}$\n",
    "\n",
    "**Найти**:\n",
    "* совместную плотность признаков-ответов $p(x, y)$"
   ]
  },
  {
   "cell_type": "markdown",
   "metadata": {
    "slideshow": {
     "slide_type": "fragment"
    }
   },
   "source": [
    "Если бы мы смогли найти эту плотность, то были бы в шоколаде... На практике всё сложнее."
   ]
  },
  {
   "cell_type": "markdown",
   "metadata": {
    "slideshow": {
     "slide_type": "slide"
    }
   },
   "source": [
    "## Непараметрические методы восстановления плотности"
   ]
  },
  {
   "cell_type": "markdown",
   "metadata": {
    "slideshow": {
     "slide_type": "slide"
    }
   },
   "source": [
    "Рассмотрим всё на одномерной картинке: так будет понятнее. Давайте нагенерируем немножечко данных:"
   ]
  },
  {
   "cell_type": "code",
   "execution_count": 2,
   "metadata": {
    "slideshow": {
     "slide_type": "fragment"
    }
   },
   "outputs": [],
   "source": [
    "def make_data(N, f=0.3, rseed=1):\n",
    "    rand = np.random.RandomState(rseed)\n",
    "    x = rand.randn(N)\n",
    "    x[int(f * N):] += 5\n",
    "    return x\n",
    "\n",
    "x = make_data(1000)"
   ]
  },
  {
   "cell_type": "code",
   "execution_count": 3,
   "metadata": {
    "slideshow": {
     "slide_type": "fragment"
    }
   },
   "outputs": [
    {
     "data": {
      "image/png": "[encoded data removed]",
      "text/plain": [
       "<Figure size 432x288 with 1 Axes>"
      ]
     },
     "metadata": {},
     "output_type": "display_data"
    }
   ],
   "source": [
    "hist = plt.hist(x, bins=30, density=True)"
   ]
  },
  {
   "cell_type": "markdown",
   "metadata": {
    "slideshow": {
     "slide_type": "fragment"
    }
   },
   "source": [
    "Красота, не правда ли? :) Два выраженных пика, все дела."
   ]
  },
  {
   "cell_type": "markdown",
   "metadata": {
    "slideshow": {
     "slide_type": "slide"
    }
   },
   "source": [
    "Но от разбиения на корзины зависит слишком многое. Смотрим:"
   ]
  },
  {
   "cell_type": "code",
   "execution_count": 4,
   "metadata": {
    "slideshow": {
     "slide_type": "fragment"
    }
   },
   "outputs": [],
   "source": [
    "x = make_data(20)\n",
    "bins = np.linspace(-5, 10, 10)"
   ]
  },
  {
   "cell_type": "code",
   "execution_count": 5,
   "metadata": {
    "slideshow": {
     "slide_type": "fragment"
    }
   },
   "outputs": [
    {
     "data": {
      "image/png": "[encoded data removed]",
      "text/plain": [
       "<Figure size 864x288 with 2 Axes>"
      ]
     },
     "metadata": {},
     "output_type": "display_data"
    }
   ],
   "source": [
    "fig, ax = plt.subplots(1, 2, figsize=(12, 4),\n",
    "                       sharex=True, sharey=True,\n",
    "                       subplot_kw={'xlim':(-4, 9),\n",
    "                                   'ylim':(-0.02, 0.3)})\n",
    "fig.subplots_adjust(wspace=0.05)\n",
    "for i, offset in enumerate([0.0, 0.6]):\n",
    "    ax[i].hist(x, bins=bins + offset, density=True)\n",
    "    ax[i].plot(x, np.full_like(x, -0.01), '|k',\n",
    "               markeredgewidth=1)"
   ]
  },
  {
   "cell_type": "markdown",
   "metadata": {
    "slideshow": {
     "slide_type": "slide"
    }
   },
   "source": [
    "Данные одни и те же, но как-то правая картинка даёт совсем неправильное представление о том, что происходит."
   ]
  },
  {
   "cell_type": "markdown",
   "metadata": {
    "slideshow": {
     "slide_type": "fragment"
    }
   },
   "source": [
    "Хочется учитывать не просто количество объектов, попавщее в корзину, а именно настоящую плотность. Давайте попробуем немножечко сгладить:"
   ]
  },
  {
   "cell_type": "code",
   "execution_count": 6,
   "metadata": {
    "slideshow": {
     "slide_type": "fragment"
    }
   },
   "outputs": [
    {
     "data": {
      "image/png": "[encoded data removed]",
      "text/plain": [
       "<Figure size 432x288 with 1 Axes>"
      ]
     },
     "metadata": {},
     "output_type": "display_data"
    }
   ],
   "source": [
    "x_d = np.linspace(-4, 8, 2000)\n",
    "density = sum((abs(xi - x_d) < 0.5) for xi in x)\n",
    "\n",
    "plt.fill_between(x_d, density, alpha=0.5)\n",
    "plt.plot(x, np.full_like(x, -0.1), '|k', markeredgewidth=1)\n",
    "\n",
    "plt.axis([-4, 8, -0.2, 8]);"
   ]
  },
  {
   "cell_type": "markdown",
   "metadata": {
    "slideshow": {
     "slide_type": "slide"
    }
   },
   "source": [
    "Получилось получше! Но всё равно немного угловато. Давайте сгладим каким-нибудь ядром:"
   ]
  },
  {
   "cell_type": "code",
   "execution_count": 7,
   "metadata": {
    "slideshow": {
     "slide_type": "fragment"
    }
   },
   "outputs": [
    {
     "data": {
      "text/plain": [
       "[-4, 8, -0.2, 5]"
      ]
     },
     "execution_count": 7,
     "metadata": {},
     "output_type": "execute_result"
    },
    {
     "data": {
      "image/png": "[encoded data removed]",
      "text/plain": [
       "<Figure size 432x288 with 1 Axes>"
      ]
     },
     "metadata": {},
     "output_type": "display_data"
    }
   ],
   "source": [
    "from scipy.stats import norm\n",
    "x_d = np.linspace(-4, 8, 1000)\n",
    "density = sum(norm(xi).pdf(x_d) for xi in x)\n",
    "\n",
    "plt.fill_between(x_d, density, alpha=0.5)\n",
    "plt.plot(x, np.full_like(x, -0.1), '|k', markeredgewidth=1)\n",
    "\n",
    "plt.axis([-4, 8, -0.2, 5])"
   ]
  },
  {
   "cell_type": "markdown",
   "metadata": {
    "slideshow": {
     "slide_type": "fragment"
    }
   },
   "source": [
    "О, вот так уже совсем похоже на реальное положение дел."
   ]
  },
  {
   "cell_type": "markdown",
   "metadata": {
    "slideshow": {
     "slide_type": "slide"
    }
   },
   "source": [
    "Благо, в sklearn есть метод, который делает всё за нас. Занимаемся мы Kernel Density Estimation'ом (KDE), что и отражается в названии метода:"
   ]
  },
  {
   "cell_type": "code",
   "execution_count": 8,
   "metadata": {
    "slideshow": {
     "slide_type": "fragment"
    }
   },
   "outputs": [
    {
     "data": {
      "text/plain": [
       "[<matplotlib.lines.Line2D at 0x7fc301c7d310>]"
      ]
     },
     "execution_count": 8,
     "metadata": {},
     "output_type": "execute_result"
    },
    {
     "data": {
      "image/png": "[encoded data removed]",
      "text/plain": [
       "<Figure size 432x288 with 1 Axes>"
      ]
     },
     "metadata": {},
     "output_type": "display_data"
    }
   ],
   "source": [
    "from sklearn.neighbors import KernelDensity\n",
    "\n",
    "kde = KernelDensity(bandwidth=1.0, kernel='gaussian')\n",
    "kde.fit(x[:, None])\n",
    "\n",
    "logprob = kde.score_samples(x_d[:, None])\n",
    "\n",
    "plt.fill_between(x_d, np.exp(logprob), alpha=0.5)\n",
    "plt.ylim(-0.02, 0.22)\n",
    "plt.plot(x, np.full_like(x, -0.01), '|k', markeredgewidth=1)"
   ]
  },
  {
   "cell_type": "markdown",
   "metadata": {
    "slideshow": {
     "slide_type": "fragment"
    }
   },
   "source": [
    "Если поиграться с параметром bandwidth (ширина окна), то можно заметить, что далеко не для всех его значений плотность выглядит так радужно, как хотелось бы."
   ]
  },
  {
   "cell_type": "markdown",
   "metadata": {
    "slideshow": {
     "slide_type": "slide"
    }
   },
   "source": [
    "Т.к. этот параметр так сильно влияет на наш метод, хорошо бы найти его \"оптимальное\" значение... Благо, на помощь приходит кросс-валидация! И что особенно радостно, в sklearn есть стандартные для этого средства!"
   ]
  },
  {
   "cell_type": "code",
   "execution_count": 9,
   "metadata": {
    "slideshow": {
     "slide_type": "fragment"
    }
   },
   "outputs": [
    {
     "data": {
      "text/plain": [
       "GridSearchCV(cv=LeaveOneOut(), error_score=nan,\n",
       "             estimator=KernelDensity(algorithm='auto', atol=0, bandwidth=1.0,\n",
       "                                     breadth_first=True, kernel='gaussian',\n",
       "                                     leaf_size=40, metric='euclidean',\n",
       "                                     metric_params=None, rtol=0),\n",
       "             iid='deprecated', n_jobs=None,\n",
       "             param_grid={'bandwidth': array([ 0.1       ,  0.10476158,  0.10974988,  0.1149757 ,  0.12045035,\n",
       "        0.12618569,  0.13219411,  0.13848864,  0.1450...\n",
       "        3.27454916,  3.43046929,  3.59381366,  3.76493581,  3.94420606,\n",
       "        4.1320124 ,  4.32876128,  4.53487851,  4.75081016,  4.97702356,\n",
       "        5.21400829,  5.46227722,  5.72236766,  5.9948425 ,  6.28029144,\n",
       "        6.57933225,  6.8926121 ,  7.22080902,  7.56463328,  7.92482898,\n",
       "        8.30217568,  8.69749003,  9.11162756,  9.54548457, 10.        ])},\n",
       "             pre_dispatch='2*n_jobs', refit=True, return_train_score=False,\n",
       "             scoring=None, verbose=0)"
      ]
     },
     "execution_count": 9,
     "metadata": {},
     "output_type": "execute_result"
    }
   ],
   "source": [
    "from sklearn.model_selection import GridSearchCV\n",
    "from sklearn.model_selection import LeaveOneOut\n",
    "\n",
    "bandwidths = 10 ** np.linspace(-1, 1, 100)\n",
    "grid = GridSearchCV(KernelDensity(kernel='gaussian'),\n",
    "                    {'bandwidth': bandwidths},\n",
    "                    cv=LeaveOneOut())\n",
    "grid.fit(x[:, None])"
   ]
  },
  {
   "cell_type": "code",
   "execution_count": 10,
   "metadata": {
    "slideshow": {
     "slide_type": "fragment"
    }
   },
   "outputs": [
    {
     "data": {
      "text/plain": [
       "{'bandwidth': 1.1233240329780276}"
      ]
     },
     "execution_count": 10,
     "metadata": {},
     "output_type": "execute_result"
    }
   ],
   "source": [
    "grid.best_params_"
   ]
  },
  {
   "cell_type": "markdown",
   "metadata": {
    "slideshow": {
     "slide_type": "slide"
    }
   },
   "source": [
    "## Параметрические методы восстановления плотности"
   ]
  },
  {
   "cell_type": "markdown",
   "metadata": {
    "slideshow": {
     "slide_type": "slide"
    }
   },
   "source": [
    "В таких методах мы сами придумываем модель плотности вероятности, остаётся лишь подобрать параметры."
   ]
  },
  {
   "cell_type": "markdown",
   "metadata": {
    "slideshow": {
     "slide_type": "fragment"
    }
   },
   "source": [
    "Пусть у нас модель\n",
    "$$\n",
    "    p(x)=\\phi(x; \\theta)\n",
    "$$\n",
    "\n",
    "Предполагаем, что все объекты выборки распределены независимо друг от друга и подбираем $\\theta$ с помощью метода максимального правдоподобия:\n",
    "$$\n",
    "\\theta = \\arg\\max_{\\theta} \\sum\\limits_{i=1}^{\\ell}\\ln\\phi(x_i; \\theta)\n",
    "$$\n",
    "\n",
    "Дифференцируем, приравниваем к 0, получаем оценки."
   ]
  },
  {
   "cell_type": "markdown",
   "metadata": {
    "slideshow": {
     "slide_type": "slide"
    }
   },
   "source": [
    "## Байесовский классификатор"
   ]
  },
  {
   "cell_type": "markdown",
   "metadata": {
    "slideshow": {
     "slide_type": "slide"
    }
   },
   "source": [
    "Вообще, мы хотим решать задачу классификации:\n",
    "$$\n",
    "    y = \\arg\\max_{y}p(y|x)\n",
    "$$"
   ]
  },
  {
   "cell_type": "markdown",
   "metadata": {
    "slideshow": {
     "slide_type": "fragment"
    }
   },
   "source": [
    "Если бы мы умели вот так взять и выписать условную вероятность $y$ при условии $x$... Давайте лучше попробуем перевернуть всё немножечко с ног на голову."
   ]
  },
  {
   "cell_type": "markdown",
   "metadata": {
    "slideshow": {
     "slide_type": "slide"
    }
   },
   "source": [
    "Вспоминаем формулу Байеса:"
   ]
  },
  {
   "cell_type": "markdown",
   "metadata": {
    "slideshow": {
     "slide_type": "fragment"
    }
   },
   "source": [
    "![](https://upload.wikimedia.org/wikipedia/commons/thumb/1/18/Bayes%27_Theorem_MMB_01.jpg/1920px-Bayes%27_Theorem_MMB_01.jpg)"
   ]
  },
  {
   "cell_type": "markdown",
   "metadata": {
    "slideshow": {
     "slide_type": "slide"
    }
   },
   "source": [
    "$$\n",
    "p(y|x) = \\frac{p(x|y)p(y)}{p(x)} \\propto p(x|y)p(y)\n",
    "$$"
   ]
  },
  {
   "cell_type": "markdown",
   "metadata": {
    "slideshow": {
     "slide_type": "fragment"
    }
   },
   "source": [
    "Кажется, что $p(x|y)$ и $p(y)$ посчитать намного проще, чем $p(y|x)$"
   ]
  },
  {
   "cell_type": "markdown",
   "metadata": {
    "slideshow": {
     "slide_type": "slide"
    }
   },
   "source": [
    "## Наивный байесовский классификатор"
   ]
  },
  {
   "cell_type": "markdown",
   "metadata": {
    "slideshow": {
     "slide_type": "slide"
    }
   },
   "source": [
    "**НАИВНО** предположим, что все признаки у нас независимы. Тогда\n",
    "$$\n",
    "p(x|y)p(y)=p(y)\\prod\\limits_{i=1}^mp(x^i|y)\n",
    "$$"
   ]
  },
  {
   "cell_type": "markdown",
   "metadata": {
    "slideshow": {
     "slide_type": "fragment"
    }
   },
   "source": [
    "Как правило, $p(y)$ - это частоты ответов, а $p(x^i|y)$ зависит от признака."
   ]
  },
  {
   "cell_type": "markdown",
   "metadata": {
    "slideshow": {
     "slide_type": "slide"
    }
   },
   "source": [
    "### Дискретный случай"
   ]
  },
  {
   "cell_type": "markdown",
   "metadata": {
    "slideshow": {
     "slide_type": "fragment"
    }
   },
   "source": [
    "Пусть, не ограничивая общности, $x^i$ может принимать различные значения от 1 до $k$. И пусть $n_j$ - сколько раз в обучающей выборке встретился этот признак со значением $j$\n",
    "* Maximum likelihood\n",
    "$$\n",
    "            \\hat p(x^i|y) = \\frac{n_{x^i}}{\\sum\\limits_{j=1}^k n_j}\n",
    "$$\n",
    "* Add-one smoothing\n",
    "$$\n",
    "            \\hat p(x^i|y) = \\frac{1 + n_{x^i}}{k + \\sum\\limits_{j=1}^k n_j}\t\t\n",
    "$$\n"
   ]
  },
  {
   "cell_type": "markdown",
   "metadata": {
    "slideshow": {
     "slide_type": "slide"
    }
   },
   "source": [
    "* Adaptive/Laplace smoothing\n",
    "$$\n",
    "            \\hat p(x^i|y) = \\frac{\\alpha_{x^i} + n_{x^i}}{\\sum\\limits_{j=1}^k (\\alpha_j + n_j)}\t\t\n",
    "$$"
   ]
  },
  {
   "cell_type": "markdown",
   "metadata": {
    "slideshow": {
     "slide_type": "fragment"
    }
   },
   "source": [
    "Вы не поверите, но всё это соответствует параметрическому методу восстановление плотности, если считать, что данные распределены мультиномиально. Причём просто отличается заданием априорной вероятности на распределение :) За подробностями - в курс байесовских методов в следующем семестре!"
   ]
  },
  {
   "cell_type": "markdown",
   "metadata": {
    "slideshow": {
     "slide_type": "slide"
    }
   },
   "source": [
    "### Непрерывный случай"
   ]
  },
  {
   "cell_type": "markdown",
   "metadata": {
    "slideshow": {
     "slide_type": "fragment"
    }
   },
   "source": [
    "Тут тоже можно использовать всякие среднее, медиану (мы уже знаем, каким распределениям они соответствуют), а также KDE, рассмотренный нами выше :)"
   ]
  },
  {
   "cell_type": "markdown",
   "metadata": {},
   "source": [
    "Сгенерируем немного данных:"
   ]
  },
  {
   "cell_type": "code",
   "execution_count": 44,
   "metadata": {
    "slideshow": {
     "slide_type": "fragment"
    }
   },
   "outputs": [
    {
     "data": {
      "image/png": "[encoded data removed]",
      "text/plain": [
       "<Figure size 432x288 with 1 Axes>"
      ]
     },
     "metadata": {},
     "output_type": "display_data"
    }
   ],
   "source": [
    "from sklearn.datasets import make_blobs\n",
    "X, y = make_blobs(100, 2, centers=2, random_state=2, cluster_std=1.5)\n",
    "plt.scatter(X[:, 0], X[:, 1], c=y, s=50, cmap='RdBu');"
   ]
  },
  {
   "cell_type": "markdown",
   "metadata": {
    "slideshow": {
     "slide_type": "slide"
    }
   },
   "source": [
    "Для наивных байесовских классификаторов в sklearn есть метод:"
   ]
  },
  {
   "cell_type": "code",
   "execution_count": 45,
   "metadata": {
    "slideshow": {
     "slide_type": "fragment"
    }
   },
   "outputs": [
    {
     "data": {
      "text/plain": [
       "GaussianNB(priors=None, var_smoothing=1e-09)"
      ]
     },
     "execution_count": 45,
     "metadata": {},
     "output_type": "execute_result"
    }
   ],
   "source": [
    "from sklearn.naive_bayes import GaussianNB\n",
    "model = GaussianNB()\n",
    "model.fit(X, y)"
   ]
  },
  {
   "cell_type": "markdown",
   "metadata": {
    "slideshow": {
     "slide_type": "slide"
    }
   },
   "source": [
    "**Задание 1 (1 балл), разминка.** Прикрутите нашу визуализацию разделяющей гиперплоскости к байесовскому классификатору. Почему она имеет такой вид? Какой он будет в общем случае, если мы в качестве распределения берём гауссово и решаем задачу двухклассовой классификации?"
   ]
  },
  {
   "cell_type": "code",
   "execution_count": 46,
   "metadata": {
    "slideshow": {
     "slide_type": "fragment"
    }
   },
   "outputs": [],
   "source": [
    "def plot_results(model, X, y, level=1.0, cmap=plt.cm.OrRd, use_decision_function=True, title='', \n",
    "                 plot_support_vectors=True):\n",
    "    # plot the line, the points, and the nearest vectors to the plane\n",
    "    plt.figure(1, figsize=(10, 8))\n",
    "    plt.clf()\n",
    "\n",
    "    plt.scatter(X[:, 0], X[:, 1], c=y, zorder=10, cmap=cmap, s=50, edgecolor='black')\n",
    "\n",
    "    plt.axis('tight')\n",
    "    \n",
    "    def get_shifted_bounds(v, fraction=1.0/10):\n",
    "        v_min, v_max = np.min(v), np.max(v)\n",
    "        v_shift = np.abs(v_max - v_min) * fraction\n",
    "        return v_min - v_shift, v_max + v_shift\n",
    "\n",
    "    x_min, x_max = get_shifted_bounds(X[:, 0])\n",
    "    y_min, y_max = get_shifted_bounds(X[:, 1])\n",
    "\n",
    "    XX, YY = np.mgrid[x_min:x_max:500j, y_min:y_max:500j]\n",
    "\n",
    "    if hasattr(model, \"decision_function\") and use_decision_function:\n",
    "        Z = model.decision_function(np.c_[XX.ravel(), YY.ravel()])\n",
    "    else:\n",
    "        Z = model.predict(np.c_[XX.ravel(), YY.ravel()])\n",
    "\n",
    "    # Put the result into a color plot\n",
    "    Z = Z.reshape(XX.shape)\n",
    "    plt.figure(1, figsize=(10, 8))\n",
    "    plt.pcolormesh(XX, YY, Z, cmap=cmap)\n",
    "\n",
    "    plt.xlim(x_min, x_max)\n",
    "    plt.ylim(y_min, y_max)\n",
    "    plt.title(title)\n",
    "\n",
    "    plt.xticks(())\n",
    "    plt.yticks(())\n",
    "    plt.show()"
   ]
  },
  {
   "cell_type": "code",
   "execution_count": 47,
   "metadata": {},
   "outputs": [
    {
     "data": {
      "image/png": "[encoded data removed]",
      "text/plain": [
       "<Figure size 720x576 with 1 Axes>"
      ]
     },
     "metadata": {},
     "output_type": "display_data"
    }
   ],
   "source": [
    "plot_results(model, X, y, level=1.0)"
   ]
  },
  {
   "attachments": {
    "image.png": {
     "image/png": "[encoded data removed]"
    }
   },
   "cell_type": "markdown",
   "metadata": {
    "slideshow": {
     "slide_type": "fragment"
    }
   },
   "source": [
    "Мы находим где вероятности для какого класса больше и соответственным образом красим точку. На sklearn есть примеры как визуализируется NB. В общем случае, когда точки находят друг на друга всё таки учитывается то, что вероятности не сильно различаются для разных классов.\n",
    "![image.png](attachment:image.png)"
   ]
  },
  {
   "cell_type": "markdown",
   "metadata": {
    "slideshow": {
     "slide_type": "slide"
    }
   },
   "source": [
    "## А теперь в бой!"
   ]
  },
  {
   "cell_type": "markdown",
   "metadata": {
    "slideshow": {
     "slide_type": "slide"
    }
   },
   "source": [
    "Давайте сравним \"наивный\" байесовский классификатор и не такой уж и наивный."
   ]
  },
  {
   "cell_type": "markdown",
   "metadata": {
    "slideshow": {
     "slide_type": "fragment"
    }
   },
   "source": [
    "Для этого загрузим набор рукописных цифр и попробуем решить задачу многоклассовой классификации с помощью \"наивного\" байесовского классификатора:"
   ]
  },
  {
   "cell_type": "code",
   "execution_count": 50,
   "metadata": {
    "slideshow": {
     "slide_type": "fragment"
    }
   },
   "outputs": [
    {
     "data": {
      "text/plain": [
       "0.8069281956050759"
      ]
     },
     "execution_count": 50,
     "metadata": {},
     "output_type": "execute_result"
    }
   ],
   "source": [
    "from sklearn.datasets import load_digits\n",
    "from sklearn.model_selection import cross_val_score\n",
    "\n",
    "digits = load_digits()\n",
    "cross_val_score(GaussianNB(), digits.data, digits.target, cv=5).mean()"
   ]
  },
  {
   "cell_type": "markdown",
   "metadata": {
    "slideshow": {
     "slide_type": "fragment"
    }
   },
   "source": [
    "Неплохо... Но можно лучше!"
   ]
  },
  {
   "cell_type": "markdown",
   "metadata": {
    "slideshow": {
     "slide_type": "slide"
    }
   },
   "source": [
    "**Задание 2 (2 балла), \"наивный\" повзрослел**. Давайте избавимся от детской наивности и научим байесовский классификатор вести себя по-мужски!\n",
    "* разделите тренировочную выборку по меткам классов\n",
    "\n",
    "* для каждого куска получите распределение $p(x|y)$, используя KDE\n",
    "\n",
    "* пусть $p(y)$ будет равно доли объектов с классом $y$\n",
    "\n",
    "* при предсказании, выдавайте класс с максимальной апостериорной вероятностью, то есть с максимумом $p(x|y)p(y)$\n",
    "\n",
    "* чтобы подобрать оптимальное значение ширины окна стандартной кросс-валидацией, оберните это всё в класс с интерфейсом ниже"
   ]
  },
  {
   "cell_type": "code",
   "execution_count": 96,
   "metadata": {
    "slideshow": {
     "slide_type": "slide"
    }
   },
   "outputs": [],
   "source": [
    "from sklearn.base import BaseEstimator, ClassifierMixin\n",
    "\n",
    "class KDEClassifier(BaseEstimator, ClassifierMixin):\n",
    "    def __init__(self, bandwidth=1.0, kernel='gaussian'):\n",
    "        self.bandwidth = bandwidth\n",
    "        self.kernel = kernel\n",
    "        self.classes_ = []\n",
    "        self.distributed_data_for_class_ = []\n",
    "        self.prob_of_class_ = []    \n",
    "        self.data_for_each_class_ = []\n",
    "        \n",
    "    def fit(self, X, y):\n",
    "        self.classes_ = np.unique(y)\n",
    "        for unique_class in self.classes_:\n",
    "            self.data_for_each_class_.append(X[y == unique_class])\n",
    "        for data_for_class in self.data_for_each_class_:\n",
    "            self.distributed_data_for_class_.append(\n",
    "                KernelDensity(bandwidth=self.bandwidth, kernel=self.kernel).fit(data_for_class))\n",
    "            self.prob_of_class_.append(np.log(data_for_class.shape[0] / X.shape[0]))\n",
    "        return self\n",
    "        \n",
    "    def predict_proba(self, X):\n",
    "        probabilities = []\n",
    "        for data_after_KDE in self.distributed_data_for_class_:\n",
    "            probabilities.append(data_after_KDE.score_samples(X));\n",
    "        probabilities = np.array(probabilities)\n",
    "        probabilities = probabilities.T\n",
    "        return np.exp(probabilities + self.prob_of_class_) / np.sum(np.exp(probabilities + self.prob_of_class_))\n",
    "        \n",
    "    def predict(self, X):\n",
    "        return self.classes_[np.argmax(self.predict_proba(X), 1)]"
   ]
  },
  {
   "cell_type": "code",
   "execution_count": 97,
   "metadata": {},
   "outputs": [
    {
     "data": {
      "text/plain": [
       "GridSearchCV(cv=None, error_score=nan,\n",
       "             estimator=KDEClassifier(bandwidth=1.0, kernel='gaussian'),\n",
       "             iid='deprecated', n_jobs=None,\n",
       "             param_grid={'bandwidth': array([ 0.1       ,  0.10476158,  0.10974988,  0.1149757 ,  0.12045035,\n",
       "        0.12618569,  0.13219411,  0.13848864,  0.14508288,  0.15199111,\n",
       "        0.15922828,  0.16681005,  0.17475284,  0.18307383,  0.19179103,\n",
       "        0.2009233 ,  0.21049041,  0.22051307,  0.23101...\n",
       "        3.27454916,  3.43046929,  3.59381366,  3.76493581,  3.94420606,\n",
       "        4.1320124 ,  4.32876128,  4.53487851,  4.75081016,  4.97702356,\n",
       "        5.21400829,  5.46227722,  5.72236766,  5.9948425 ,  6.28029144,\n",
       "        6.57933225,  6.8926121 ,  7.22080902,  7.56463328,  7.92482898,\n",
       "        8.30217568,  8.69749003,  9.11162756,  9.54548457, 10.        ])},\n",
       "             pre_dispatch='2*n_jobs', refit=True, return_train_score=False,\n",
       "             scoring=None, verbose=0)"
      ]
     },
     "execution_count": 97,
     "metadata": {},
     "output_type": "execute_result"
    }
   ],
   "source": [
    "bandwidths = 10 ** np.linspace(-1, 1, 100)\n",
    "grid = GridSearchCV(KDEClassifier(), {'bandwidth': bandwidths})\n",
    "grid.fit(digits.data, digits.target)"
   ]
  },
  {
   "cell_type": "code",
   "execution_count": 98,
   "metadata": {},
   "outputs": [
    {
     "data": {
      "text/plain": [
       "0.9677298050139276"
      ]
     },
     "execution_count": 98,
     "metadata": {},
     "output_type": "execute_result"
    }
   ],
   "source": [
    "cross_val_score(KDEClassifier(bandwidth = grid.best_params_['bandwidth']), digits.data, digits.target, cv=5).mean()"
   ]
  }
 ],
 "metadata": {
  "celltoolbar": "Slideshow",
  "kernelspec": {
   "display_name": "Python 3",
   "language": "python",
   "name": "python3"
  },
  "language_info": {
   "codemirror_mode": {
    "name": "ipython",
    "version": 3
   },
   "file_extension": ".py",
   "mimetype": "text/x-python",
   "name": "python",
   "nbconvert_exporter": "python",
   "pygments_lexer": "ipython3",
   "version": "3.8.8"
  }
 },
 "nbformat": 4,
 "nbformat_minor": 2
}
