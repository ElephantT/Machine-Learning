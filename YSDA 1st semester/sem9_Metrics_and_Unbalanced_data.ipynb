{
 "cells": [
  {
   "cell_type": "code",
   "execution_count": 1,
   "metadata": {
    "slideshow": {
     "slide_type": "skip"
    }
   },
   "outputs": [],
   "source": [
    "import numpy as np\n",
    "import pandas as pd\n",
    "import matplotlib.pyplot as plt\n",
    "import seaborn as sns\n",
    "\n",
    "from sklearn.model_selection import train_test_split\n",
    "from sklearn.linear_model import LogisticRegression\n",
    "from sklearn.dummy import DummyClassifier\n",
    "from sklearn.metrics import accuracy_score, f1_score, plot_confusion_matrix, recall_score, precision_score\n",
    "from sklearn.datasets import make_blobs\n",
    "from sklearn.ensemble import RandomForestClassifier\n",
    "from sklearn.utils import resample"
   ]
  },
  {
   "cell_type": "code",
   "execution_count": 2,
   "metadata": {
    "slideshow": {
     "slide_type": "skip"
    }
   },
   "outputs": [],
   "source": [
    "plt.rcParams['figure.figsize'] = [20.0, 7.0]\n",
    "plt.rcParams.update({'font.size': 22,})\n",
    "\n",
    "sns.set_palette('viridis')\n",
    "sns.set_style('white')\n",
    "sns.set_context('talk', font_scale=0.8)"
   ]
  },
  {
   "cell_type": "markdown",
   "metadata": {
    "slideshow": {
     "slide_type": "slide"
    }
   },
   "source": [
    "# Метрики качества"
   ]
  },
  {
   "cell_type": "markdown",
   "metadata": {
    "slideshow": {
     "slide_type": "slide"
    }
   },
   "source": [
    "Поговорим о бинарной классификации (потому что ею будем пользоваться дальше) и о необычных метриках."
   ]
  },
  {
   "cell_type": "markdown",
   "metadata": {
    "slideshow": {
     "slide_type": "slide"
    }
   },
   "source": [
    "* Метрики - то, за что вам платят\n",
    "* Оптимизируемый функционал - то, как вы оптимизируете метрики"
   ]
  },
  {
   "cell_type": "markdown",
   "metadata": {
    "slideshow": {
     "slide_type": "slide"
    }
   },
   "source": [
    "## Бинарная классификация"
   ]
  },
  {
   "cell_type": "markdown",
   "metadata": {
    "slideshow": {
     "slide_type": "slide"
    }
   },
   "source": [
    "![](https://keytodatascience.com/wp-content/uploads/2019/09/binary-classification.jpg)"
   ]
  },
  {
   "cell_type": "markdown",
   "metadata": {
    "slideshow": {
     "slide_type": "fragment"
    }
   },
   "source": [
    "Большинство стандартных метрик бинарной классификации основано на этой матрице. "
   ]
  },
  {
   "cell_type": "markdown",
   "metadata": {
    "slideshow": {
     "slide_type": "slide"
    }
   },
   "source": [
    "$$\n",
    "\tAccuracy = \\frac{TP + TN}{TP + FP + FN + TN}\n",
    "$$\n",
    "\t"
   ]
  },
  {
   "cell_type": "markdown",
   "metadata": {
    "slideshow": {
     "slide_type": "fragment"
    }
   },
   "source": [
    "* Доля правильных ответов классификатора\n",
    "* Самый простой способ оценить качество классификации\n",
    "* Плохо работает, если классы несбалансированы"
   ]
  },
  {
   "cell_type": "markdown",
   "metadata": {
    "slideshow": {
     "slide_type": "slide"
    }
   },
   "source": [
    "$$\n",
    "Precision = \\frac{TP}{TP + FP}\n",
    "$$"
   ]
  },
  {
   "cell_type": "markdown",
   "metadata": {
    "slideshow": {
     "slide_type": "fragment"
    }
   },
   "source": [
    "* Precision (точность) - какая доля объектов, выделенных классификатором как положительные, действительно является положительной (при этом не важно, сколько мы классифицировали)\n",
    "* Ей важно, чтобы из всех, которые мы назвали положительными, было много по-настоящему положительных"
   ]
  },
  {
   "cell_type": "markdown",
   "metadata": {
    "slideshow": {
     "slide_type": "slide"
    }
   },
   "source": [
    "$$\n",
    "Recall = \\frac{TP}{TP + FN}\n",
    "$$"
   ]
  },
  {
   "cell_type": "markdown",
   "metadata": {
    "slideshow": {
     "slide_type": "fragment"
    }
   },
   "source": [
    "* Recall (полнота) - какая часть положительных объектов была выделена классификатором\n",
    "* Ей важно, чтобы для наибольшего количества положительных мы сказали, что они положительные, не очень важно, что говорим на остальных объектах"
   ]
  },
  {
   "cell_type": "markdown",
   "metadata": {
    "slideshow": {
     "slide_type": "slide"
    }
   },
   "source": [
    "А вообще, это далеко не всё..."
   ]
  },
  {
   "cell_type": "markdown",
   "metadata": {
    "slideshow": {
     "slide_type": "fragment"
    }
   },
   "source": [
    "![](https://i.ibb.co/xf1BWVN/Screenshot-from-2020-05-02-15-08-18.png)"
   ]
  },
  {
   "cell_type": "markdown",
   "metadata": {
    "slideshow": {
     "slide_type": "slide"
    }
   },
   "source": [
    "Сгенерируем небольшую простую выборку для задачи бинарной классификации и обучим логистическую регрессию:"
   ]
  },
  {
   "cell_type": "code",
   "execution_count": 3,
   "metadata": {
    "slideshow": {
     "slide_type": "fragment"
    }
   },
   "outputs": [
    {
     "data": {
      "image/png": "[encoded data removed]",
      "text/plain": [
       "<Figure size 1440x504 with 1 Axes>"
      ]
     },
     "metadata": {},
     "output_type": "display_data"
    }
   ],
   "source": [
    "X, y = make_blobs(n_samples=20, centers=[(-10, -10), (10, 10)], n_features=2, random_state=42)\n",
    "\n",
    "a = plt.scatter(X[:, 0], X[:, 1], c=y)\n",
    "\n",
    "lr = LogisticRegression(solver='liblinear', random_state=42).fit(X, y)"
   ]
  },
  {
   "cell_type": "markdown",
   "metadata": {
    "slideshow": {
     "slide_type": "slide"
    }
   },
   "source": [
    "**Задание 1**. Сгенерируйте тестовые выборки, содержащию не менее 10 различных объектов с ответами, так, чтобы для обученного классификатора, применённого на ней:\n",
    "* *(0.5 балла)* `Positive likelihood ratio` был равен 0\n",
    "* *(0.5 балла)* `Positive likelihood ratio` был равен 1\n",
    "\n",
    "Объясните, почему вы сгенерировали именно такие выборки."
   ]
  },
  {
   "cell_type": "code",
   "execution_count": 6,
   "metadata": {},
   "outputs": [],
   "source": [
    "from sklearn.metrics import confusion_matrix"
   ]
  },
  {
   "cell_type": "code",
   "execution_count": 26,
   "metadata": {
    "slideshow": {
     "slide_type": "fragment"
    }
   },
   "outputs": [
    {
     "name": "stdout",
     "output_type": "stream",
     "text": [
      "1 case: Positive likelihood ratio = 0.0\n"
     ]
    }
   ],
   "source": [
    "Xf, yf = make_blobs(n_samples=10, centers=[(10, 10)], n_features=2, random_state=42)\n",
    "tn, fp, fn, tp = confusion_matrix(yf, lr.predict(Xf)).ravel()\n",
    "print(\"1 case: Positive likelihood ratio = \" + str(tp / fp))"
   ]
  },
  {
   "cell_type": "code",
   "execution_count": 31,
   "metadata": {},
   "outputs": [
    {
     "name": "stdout",
     "output_type": "stream",
     "text": [
      "2 case: Positive likelihood ratio = 1.0\n"
     ]
    }
   ],
   "source": [
    "Xs, ys = make_blobs(n_samples=20, centers=[(10, 10), (10, 10)], n_features=2, random_state=42)\n",
    "tn, fp, fn, tp = confusion_matrix(ys, lr.predict(Xs)).ravel()\n",
    "print(\"2 case: Positive likelihood ratio = \" + str(tp / fp))"
   ]
  },
  {
   "cell_type": "markdown",
   "metadata": {
    "slideshow": {
     "slide_type": "fragment"
    }
   },
   "source": [
    "Positive likelihood ratio = TP/FP\n",
    "\n",
    "Значит для нуля нам нужно, чтобы наш классификатор не нашёл ни одной положительной метки (я перекинул класс 0 из прошлого датасэта в место для класса 1).\n",
    "\n",
    "А для единицы нужно, чтобы классификатор определил правильно только половину всех положительных меток (оба набора классов закинул туда, где раньше был только один класс)."
   ]
  },
  {
   "cell_type": "markdown",
   "metadata": {
    "slideshow": {
     "slide_type": "slide"
    }
   },
   "source": [
    "## Необычные метрики"
   ]
  },
  {
   "cell_type": "markdown",
   "metadata": {
    "slideshow": {
     "slide_type": "slide"
    }
   },
   "source": [
    "Чаще в жизни встречаются более сложные задачи, чем бинарная классификация. Например, задача машинного перевода. Как оценивать его качество - менее понятно. Даже, скажем прямо, вообще непонятно..."
   ]
  },
  {
   "cell_type": "markdown",
   "metadata": {
    "slideshow": {
     "slide_type": "slide"
    }
   },
   "source": [
    "Но люди не сидели на месте и придумали, например, [`BLEU`](https://en.wikipedia.org/wiki/BLEU). Он основан на униграммах, биграммах, триграммах и 4-граммах. Алгоритм примерно такой:\n",
    "* Найдём все нужные $n$-граммы размеров от 1 до 4\n",
    "* Посчитаем precision для $n$-грамм разера от 1 до 4\n",
    "* Возведём в экспоненту среднее от логарифма precision'ов\n",
    "* Умножим на brevity penalty: штраф за слишком короткие предложения"
   ]
  },
  {
   "cell_type": "markdown",
   "metadata": {
    "slideshow": {
     "slide_type": "fragment"
    }
   },
   "source": [
    "$$\n",
    "BLEU = BP * \\exp\\left(\\sum\\limits_{i=1}^n w_n \\log (p_n)\\right)\n",
    "$$\n",
    "$$\n",
    "BP = \\begin{cases}\n",
    "1, c \\geqslant r\\\\\n",
    "exp(1 - r/c), c < r\n",
    "\\end{cases}\n",
    "$$\n",
    "где $c$ - длина перевода, $r$ - длина настоящего предложения"
   ]
  },
  {
   "cell_type": "markdown",
   "metadata": {
    "slideshow": {
     "slide_type": "slide"
    }
   },
   "source": [
    "Рассмотрим на примере. Пусть есть настоящий перевод гласит \"The cat is sitting on the mat\". И есть два перевода:\n",
    "* On the mat is a cat \n",
    "* There is cat sitting cat\n",
    "\n",
    "Найдём precision'ы для первого:"
   ]
  },
  {
   "cell_type": "markdown",
   "metadata": {
    "slideshow": {
     "slide_type": "fragment"
    }
   },
   "source": [
    "![](https://miro.medium.com/max/1400/1*WSYhIsrWwRcdReNiGQ7Z2Q.png)"
   ]
  },
  {
   "cell_type": "markdown",
   "metadata": {
    "slideshow": {
     "slide_type": "slide"
    }
   },
   "source": [
    "Если нет ни одной 4-граммы, то BLEU равен 0. Чтобы всё же оценить разницу, посчитаем BLEU3, где не используются 4-граммы:"
   ]
  },
  {
   "cell_type": "code",
   "execution_count": 32,
   "metadata": {
    "slideshow": {
     "slide_type": "fragment"
    }
   },
   "outputs": [
    {
     "name": "stdout",
     "output_type": "stream",
     "text": [
      "Score for \" on the mat is a cat \" is  5.5546715329196825e-78\n",
      "Score for \" there is cat sitting on the cat \" is  6.313993041533344e-78\n"
     ]
    },
    {
     "name": "stderr",
     "output_type": "stream",
     "text": [
      "/home/elephant/anaconda3/lib/python3.7/site-packages/nltk/translate/bleu_score.py:516: UserWarning: \n",
      "The hypothesis contains 0 counts of 4-gram overlaps.\n",
      "Therefore the BLEU score evaluates to 0, independently of\n",
      "how many N-gram overlaps of lower order it contains.\n",
      "Consider using lower n-gram order or use SmoothingFunction()\n",
      "  warnings.warn(_msg)\n"
     ]
    }
   ],
   "source": [
    "from nltk.translate.bleu_score import sentence_bleu\n",
    "\n",
    "reference = [['the', 'cat', 'is', 'sitting', 'on', 'the', 'mat']]\n",
    "candidate1 = ['on','the', 'mat', 'is', 'a', 'cat']\n",
    "candidate2 = ['there', 'is', 'cat', 'sitting', 'on', 'the', 'cat']\n",
    "\n",
    "score1 = sentence_bleu(reference, candidate1)\n",
    "score2 = sentence_bleu(reference, candidate2)\n",
    "\n",
    "print('Score for \"', ' '.join(candidate1), '\" is ', score1)\n",
    "print('Score for \"', ' '.join(candidate2), '\" is ', score2)"
   ]
  },
  {
   "cell_type": "markdown",
   "metadata": {
    "slideshow": {
     "slide_type": "slide"
    }
   },
   "source": [
    "Ну а вообще то, подходит метрика для задачи и коррелирует ли с реальностью - вопрос очень сложный. По идее, надо для метрик это определять. То есть сделать метрику для метрик..."
   ]
  },
  {
   "cell_type": "markdown",
   "metadata": {
    "slideshow": {
     "slide_type": "fragment"
    }
   },
   "source": [
    "![](https://i.ibb.co/MCJ0xhL/metrics.jpg)"
   ]
  },
  {
   "cell_type": "markdown",
   "metadata": {
    "slideshow": {
     "slide_type": "slide"
    }
   },
   "source": [
    "# Несбалансированные выборки"
   ]
  },
  {
   "cell_type": "markdown",
   "metadata": {
    "slideshow": {
     "slide_type": "slide"
    }
   },
   "source": [
    "## Датасет"
   ]
  },
  {
   "cell_type": "markdown",
   "metadata": {
    "slideshow": {
     "slide_type": "slide"
    }
   },
   "source": [
    "Сегодня нас будет интересовать [датасет](https://www.kaggle.com/mlg-ulb/creditcardfraud) транзакций кредитных карт, некоторые из которых мошеннические. Можно загрузить [данные](https://yadi.sk/i/f-Q6hy6YUn7drA) напрямую. Посмотрим на них:"
   ]
  },
  {
   "cell_type": "code",
   "execution_count": 34,
   "metadata": {
    "slideshow": {
     "slide_type": "fragment"
    }
   },
   "outputs": [
    {
     "data": {
      "text/html": [
       "<div>\n",
       "<style scoped>\n",
       "    .dataframe tbody tr th:only-of-type {\n",
       "        vertical-align: middle;\n",
       "    }\n",
       "\n",
       "    .dataframe tbody tr th {\n",
       "        vertical-align: top;\n",
       "    }\n",
       "\n",
       "    .dataframe thead th {\n",
       "        text-align: right;\n",
       "    }\n",
       "</style>\n",
       "<table border=\"1\" class=\"dataframe\">\n",
       "  <thead>\n",
       "    <tr style=\"text-align: right;\">\n",
       "      <th></th>\n",
       "      <th>Time</th>\n",
       "      <th>V1</th>\n",
       "      <th>V2</th>\n",
       "      <th>V3</th>\n",
       "      <th>V4</th>\n",
       "      <th>V5</th>\n",
       "      <th>V6</th>\n",
       "      <th>V7</th>\n",
       "      <th>V8</th>\n",
       "      <th>V9</th>\n",
       "      <th>...</th>\n",
       "      <th>V21</th>\n",
       "      <th>V22</th>\n",
       "      <th>V23</th>\n",
       "      <th>V24</th>\n",
       "      <th>V25</th>\n",
       "      <th>V26</th>\n",
       "      <th>V27</th>\n",
       "      <th>V28</th>\n",
       "      <th>Amount</th>\n",
       "      <th>Class</th>\n",
       "    </tr>\n",
       "  </thead>\n",
       "  <tbody>\n",
       "    <tr>\n",
       "      <th>0</th>\n",
       "      <td>0.0</td>\n",
       "      <td>-1.359807</td>\n",
       "      <td>-0.072781</td>\n",
       "      <td>2.536347</td>\n",
       "      <td>1.378155</td>\n",
       "      <td>-0.338321</td>\n",
       "      <td>0.462388</td>\n",
       "      <td>0.239599</td>\n",
       "      <td>0.098698</td>\n",
       "      <td>0.363787</td>\n",
       "      <td>...</td>\n",
       "      <td>-0.018307</td>\n",
       "      <td>0.277838</td>\n",
       "      <td>-0.110474</td>\n",
       "      <td>0.066928</td>\n",
       "      <td>0.128539</td>\n",
       "      <td>-0.189115</td>\n",
       "      <td>0.133558</td>\n",
       "      <td>-0.021053</td>\n",
       "      <td>149.62</td>\n",
       "      <td>0</td>\n",
       "    </tr>\n",
       "    <tr>\n",
       "      <th>1</th>\n",
       "      <td>0.0</td>\n",
       "      <td>1.191857</td>\n",
       "      <td>0.266151</td>\n",
       "      <td>0.166480</td>\n",
       "      <td>0.448154</td>\n",
       "      <td>0.060018</td>\n",
       "      <td>-0.082361</td>\n",
       "      <td>-0.078803</td>\n",
       "      <td>0.085102</td>\n",
       "      <td>-0.255425</td>\n",
       "      <td>...</td>\n",
       "      <td>-0.225775</td>\n",
       "      <td>-0.638672</td>\n",
       "      <td>0.101288</td>\n",
       "      <td>-0.339846</td>\n",
       "      <td>0.167170</td>\n",
       "      <td>0.125895</td>\n",
       "      <td>-0.008983</td>\n",
       "      <td>0.014724</td>\n",
       "      <td>2.69</td>\n",
       "      <td>0</td>\n",
       "    </tr>\n",
       "    <tr>\n",
       "      <th>2</th>\n",
       "      <td>1.0</td>\n",
       "      <td>-1.358354</td>\n",
       "      <td>-1.340163</td>\n",
       "      <td>1.773209</td>\n",
       "      <td>0.379780</td>\n",
       "      <td>-0.503198</td>\n",
       "      <td>1.800499</td>\n",
       "      <td>0.791461</td>\n",
       "      <td>0.247676</td>\n",
       "      <td>-1.514654</td>\n",
       "      <td>...</td>\n",
       "      <td>0.247998</td>\n",
       "      <td>0.771679</td>\n",
       "      <td>0.909412</td>\n",
       "      <td>-0.689281</td>\n",
       "      <td>-0.327642</td>\n",
       "      <td>-0.139097</td>\n",
       "      <td>-0.055353</td>\n",
       "      <td>-0.059752</td>\n",
       "      <td>378.66</td>\n",
       "      <td>0</td>\n",
       "    </tr>\n",
       "    <tr>\n",
       "      <th>3</th>\n",
       "      <td>1.0</td>\n",
       "      <td>-0.966272</td>\n",
       "      <td>-0.185226</td>\n",
       "      <td>1.792993</td>\n",
       "      <td>-0.863291</td>\n",
       "      <td>-0.010309</td>\n",
       "      <td>1.247203</td>\n",
       "      <td>0.237609</td>\n",
       "      <td>0.377436</td>\n",
       "      <td>-1.387024</td>\n",
       "      <td>...</td>\n",
       "      <td>-0.108300</td>\n",
       "      <td>0.005274</td>\n",
       "      <td>-0.190321</td>\n",
       "      <td>-1.175575</td>\n",
       "      <td>0.647376</td>\n",
       "      <td>-0.221929</td>\n",
       "      <td>0.062723</td>\n",
       "      <td>0.061458</td>\n",
       "      <td>123.50</td>\n",
       "      <td>0</td>\n",
       "    </tr>\n",
       "    <tr>\n",
       "      <th>4</th>\n",
       "      <td>2.0</td>\n",
       "      <td>-1.158233</td>\n",
       "      <td>0.877737</td>\n",
       "      <td>1.548718</td>\n",
       "      <td>0.403034</td>\n",
       "      <td>-0.407193</td>\n",
       "      <td>0.095921</td>\n",
       "      <td>0.592941</td>\n",
       "      <td>-0.270533</td>\n",
       "      <td>0.817739</td>\n",
       "      <td>...</td>\n",
       "      <td>-0.009431</td>\n",
       "      <td>0.798278</td>\n",
       "      <td>-0.137458</td>\n",
       "      <td>0.141267</td>\n",
       "      <td>-0.206010</td>\n",
       "      <td>0.502292</td>\n",
       "      <td>0.219422</td>\n",
       "      <td>0.215153</td>\n",
       "      <td>69.99</td>\n",
       "      <td>0</td>\n",
       "    </tr>\n",
       "  </tbody>\n",
       "</table>\n",
       "<p>5 rows × 31 columns</p>\n",
       "</div>"
      ],
      "text/plain": [
       "   Time        V1        V2        V3        V4        V5        V6        V7  \\\n",
       "0   0.0 -1.359807 -0.072781  2.536347  1.378155 -0.338321  0.462388  0.239599   \n",
       "1   0.0  1.191857  0.266151  0.166480  0.448154  0.060018 -0.082361 -0.078803   \n",
       "2   1.0 -1.358354 -1.340163  1.773209  0.379780 -0.503198  1.800499  0.791461   \n",
       "3   1.0 -0.966272 -0.185226  1.792993 -0.863291 -0.010309  1.247203  0.237609   \n",
       "4   2.0 -1.158233  0.877737  1.548718  0.403034 -0.407193  0.095921  0.592941   \n",
       "\n",
       "         V8        V9  ...       V21       V22       V23       V24       V25  \\\n",
       "0  0.098698  0.363787  ... -0.018307  0.277838 -0.110474  0.066928  0.128539   \n",
       "1  0.085102 -0.255425  ... -0.225775 -0.638672  0.101288 -0.339846  0.167170   \n",
       "2  0.247676 -1.514654  ...  0.247998  0.771679  0.909412 -0.689281 -0.327642   \n",
       "3  0.377436 -1.387024  ... -0.108300  0.005274 -0.190321 -1.175575  0.647376   \n",
       "4 -0.270533  0.817739  ... -0.009431  0.798278 -0.137458  0.141267 -0.206010   \n",
       "\n",
       "        V26       V27       V28  Amount  Class  \n",
       "0 -0.189115  0.133558 -0.021053  149.62      0  \n",
       "1  0.125895 -0.008983  0.014724    2.69      0  \n",
       "2 -0.139097 -0.055353 -0.059752  378.66      0  \n",
       "3 -0.221929  0.062723  0.061458  123.50      0  \n",
       "4  0.502292  0.219422  0.215153   69.99      0  \n",
       "\n",
       "[5 rows x 31 columns]"
      ]
     },
     "execution_count": 34,
     "metadata": {},
     "output_type": "execute_result"
    }
   ],
   "source": [
    "df = pd.read_csv('creditcard.csv')\n",
    "\n",
    "df.head()"
   ]
  },
  {
   "cell_type": "markdown",
   "metadata": {
    "slideshow": {
     "slide_type": "fragment"
    }
   },
   "source": [
    "`V1`, ..., `V28` - это фичи, полученные из исходных данных с помощью PCA. `Time` - время, прошедшее с первой транзакции. `Amount` - сумма транзакции. `Class` равен 1, если транзакция мошенническая и 0 иначе."
   ]
  },
  {
   "cell_type": "markdown",
   "metadata": {
    "slideshow": {
     "slide_type": "slide"
    }
   },
   "source": [
    "Посмотрим на распределение классов по выборке:"
   ]
  },
  {
   "cell_type": "code",
   "execution_count": 35,
   "metadata": {
    "slideshow": {
     "slide_type": "fragment"
    }
   },
   "outputs": [
    {
     "name": "stdout",
     "output_type": "stream",
     "text": [
      "0    284315\n",
      "1       492\n",
      "Name: Class, dtype: int64\n",
      "Class 0 ratio:  0.9982725143693799\n",
      "Class 1 ratio:  0.001727485630620034\n"
     ]
    }
   ],
   "source": [
    "print(df.Class.value_counts())\n",
    "print ('Class 0 ratio: ', len(df[df.Class == 0]) / len(df))\n",
    "print ('Class 1 ratio: ', len(df[df.Class == 1]) / len(df))"
   ]
  },
  {
   "cell_type": "markdown",
   "metadata": {
    "slideshow": {
     "slide_type": "fragment"
    }
   },
   "source": [
    "То есть мошеннических транзакций чуть меньше 0.2% от всех..."
   ]
  },
  {
   "cell_type": "markdown",
   "metadata": {
    "slideshow": {
     "slide_type": "slide"
    }
   },
   "source": [
    "## Простая модель"
   ]
  },
  {
   "cell_type": "markdown",
   "metadata": {
    "slideshow": {
     "slide_type": "slide"
    }
   },
   "source": [
    "Ладно, будем считать, что мы этого не видели, и обучим какую-нибудь простую модель на максимизацию accuracy:"
   ]
  },
  {
   "cell_type": "code",
   "execution_count": 36,
   "metadata": {
    "slideshow": {
     "slide_type": "fragment"
    }
   },
   "outputs": [],
   "source": [
    "y = df.Class\n",
    "X = df.drop('Class', axis=1)\n",
    "\n",
    "X_train, X_test, y_train, y_test = train_test_split(X, y, test_size=0.25, random_state=42)"
   ]
  },
  {
   "cell_type": "code",
   "execution_count": 37,
   "metadata": {
    "slideshow": {
     "slide_type": "fragment"
    }
   },
   "outputs": [
    {
     "name": "stdout",
     "output_type": "stream",
     "text": [
      "Accuracy score:  0.9984129659279234\n"
     ]
    }
   ],
   "source": [
    "dummy = DummyClassifier(strategy='most_frequent').fit(X_train, y_train)\n",
    "dummy_pred = dummy.predict(X_test)\n",
    "print('Accuracy score: ', accuracy_score(y_test, dummy_pred))"
   ]
  },
  {
   "cell_type": "markdown",
   "metadata": {
    "slideshow": {
     "slide_type": "slide"
    }
   },
   "source": [
    "![](https://i.ibb.co/c37mT0m/harold.jpg)"
   ]
  },
  {
   "cell_type": "markdown",
   "metadata": {
    "slideshow": {
     "slide_type": "slide"
    }
   },
   "source": [
    "Казалось бы: точность больше 99%, что ещё надо? Но если посмотреть на ответы внимательнее:"
   ]
  },
  {
   "cell_type": "code",
   "execution_count": 38,
   "metadata": {
    "slideshow": {
     "slide_type": "fragment"
    }
   },
   "outputs": [
    {
     "name": "stdout",
     "output_type": "stream",
     "text": [
      "Unique predicted labels:  [0]\n"
     ]
    }
   ],
   "source": [
    "print('Unique predicted labels: ', (np.unique(dummy_pred)))"
   ]
  },
  {
   "cell_type": "markdown",
   "metadata": {
    "slideshow": {
     "slide_type": "fragment"
    }
   },
   "source": [
    "Кажется, это не то, чего мы хотим. Всё-таки задача была в том, чтобы **выявлять** мошенников."
   ]
  },
  {
   "cell_type": "markdown",
   "metadata": {
    "slideshow": {
     "slide_type": "slide"
    }
   },
   "source": [
    "## Модели посложнее"
   ]
  },
  {
   "cell_type": "markdown",
   "metadata": {
    "slideshow": {
     "slide_type": "slide"
    }
   },
   "source": [
    "### Логистическая регрессия"
   ]
  },
  {
   "cell_type": "code",
   "execution_count": 39,
   "metadata": {
    "slideshow": {
     "slide_type": "slide"
    }
   },
   "outputs": [],
   "source": [
    "lr = LogisticRegression(solver='liblinear').fit(X_train, y_train)\n",
    "lr_pred = lr.predict(X_test)"
   ]
  },
  {
   "cell_type": "code",
   "execution_count": 40,
   "metadata": {
    "slideshow": {
     "slide_type": "fragment"
    }
   },
   "outputs": [
    {
     "name": "stdout",
     "output_type": "stream",
     "text": [
      "Accuracy score:  0.9989607033510295\n"
     ]
    }
   ],
   "source": [
    "print ('Accuracy score: ', accuracy_score(y_test, lr_pred))"
   ]
  },
  {
   "cell_type": "markdown",
   "metadata": {
    "slideshow": {
     "slide_type": "slide"
    }
   },
   "source": [
    "Получше, чем было, но всё ли в порядке тут со значениями?"
   ]
  },
  {
   "cell_type": "code",
   "execution_count": 41,
   "metadata": {
    "slideshow": {
     "slide_type": "fragment"
    }
   },
   "outputs": [
    {
     "data": {
      "text/plain": [
       "0    71117\n",
       "1       85\n",
       "Name: 0, dtype: int64"
      ]
     },
     "execution_count": 41,
     "metadata": {},
     "output_type": "execute_result"
    }
   ],
   "source": [
    "predictions = pd.DataFrame(lr_pred)\n",
    "predictions[0].value_counts()"
   ]
  },
  {
   "cell_type": "markdown",
   "metadata": {
    "slideshow": {
     "slide_type": "fragment"
    }
   },
   "source": [
    "Да, кажется, хоть иногда, но мы всё же говорим, что транзакции мошеннические."
   ]
  },
  {
   "cell_type": "markdown",
   "metadata": {
    "slideshow": {
     "slide_type": "slide"
    }
   },
   "source": [
    "А вообще, если задуматься, то для этой задачи accuracy не очень показательная. Кажется, тут нас интересует в первую очередь recall, чтобы уж точно не допустить мошеннических транзакций. Заодно будем считать и precision с F1."
   ]
  },
  {
   "cell_type": "code",
   "execution_count": 42,
   "metadata": {
    "slideshow": {
     "slide_type": "fragment"
    }
   },
   "outputs": [
    {
     "name": "stdout",
     "output_type": "stream",
     "text": [
      "Recall score:  0.5486725663716814\n",
      "Precision score:  0.7294117647058823\n",
      "F1 score:  0.6262626262626262\n"
     ]
    }
   ],
   "source": [
    "print ('Recall score: ', recall_score(y_test, lr_pred))\n",
    "print ('Precision score: ', precision_score(y_test, lr_pred))\n",
    "print ('F1 score: ', f1_score(y_test, lr_pred))"
   ]
  },
  {
   "cell_type": "markdown",
   "metadata": {
    "slideshow": {
     "slide_type": "slide"
    }
   },
   "source": [
    "Кроме этого, полезно смотреть на confusion matrix, которая нам может дать более хорошее представление об ошибках, совершаемых моделью:"
   ]
  },
  {
   "cell_type": "code",
   "execution_count": 43,
   "metadata": {
    "slideshow": {
     "slide_type": "fragment"
    }
   },
   "outputs": [
    {
     "data": {
      "text/plain": [
       "<sklearn.metrics._plot.confusion_matrix.ConfusionMatrixDisplay at 0x7f06d06da0d0>"
      ]
     },
     "execution_count": 43,
     "metadata": {},
     "output_type": "execute_result"
    },
    {
     "data": {
      "image/png": "[encoded data removed]",
      "text/plain": [
       "<Figure size 1440x504 with 2 Axes>"
      ]
     },
     "metadata": {},
     "output_type": "display_data"
    }
   ],
   "source": [
    "plot_confusion_matrix(lr, X_test, y_test, values_format='g')"
   ]
  },
  {
   "cell_type": "markdown",
   "metadata": {
    "slideshow": {
     "slide_type": "slide"
    }
   },
   "source": [
    "### Случайный лес"
   ]
  },
  {
   "cell_type": "markdown",
   "metadata": {
    "slideshow": {
     "slide_type": "slide"
    }
   },
   "source": [
    "Говорят, что случайный лес вообще крутой и как-то исходно лучше для несбалансированных выборок, чем другие методы. Проверим:"
   ]
  },
  {
   "cell_type": "code",
   "execution_count": 44,
   "metadata": {
    "slideshow": {
     "slide_type": "fragment"
    }
   },
   "outputs": [],
   "source": [
    "rfc = RandomForestClassifier(n_estimators=10).fit(X_train, y_train)\n",
    "rfc_pred = rfc.predict(X_test)"
   ]
  },
  {
   "cell_type": "code",
   "execution_count": 45,
   "metadata": {
    "slideshow": {
     "slide_type": "slide"
    }
   },
   "outputs": [
    {
     "name": "stdout",
     "output_type": "stream",
     "text": [
      "Accuracy score:  0.9995084407741356\n",
      "Recall score:  0.7787610619469026\n",
      "Precision score:  0.8979591836734694\n",
      "F1 score:  0.8341232227488151\n"
     ]
    }
   ],
   "source": [
    "print ('Accuracy score: ', accuracy_score(y_test, rfc_pred))\n",
    "print ('Recall score: ', recall_score(y_test, rfc_pred))\n",
    "print ('Precision score: ', precision_score(y_test, rfc_pred))\n",
    "print ('F1 score: ', f1_score(y_test, rfc_pred))"
   ]
  },
  {
   "cell_type": "code",
   "execution_count": 46,
   "metadata": {
    "slideshow": {
     "slide_type": "slide"
    }
   },
   "outputs": [
    {
     "data": {
      "text/plain": [
       "<sklearn.metrics._plot.confusion_matrix.ConfusionMatrixDisplay at 0x7f06d144ef90>"
      ]
     },
     "execution_count": 46,
     "metadata": {},
     "output_type": "execute_result"
    },
    {
     "data": {
      "image/png": "[encoded data removed]",
      "text/plain": [
       "<Figure size 1440x504 with 2 Axes>"
      ]
     },
     "metadata": {},
     "output_type": "display_data"
    }
   ],
   "source": [
    "plot_confusion_matrix(rfc, X_test, y_test, values_format='g')"
   ]
  },
  {
   "cell_type": "markdown",
   "metadata": {
    "slideshow": {
     "slide_type": "slide"
    }
   },
   "source": [
    "## Методы сэмплирования"
   ]
  },
  {
   "cell_type": "markdown",
   "metadata": {
    "slideshow": {
     "slide_type": "slide"
    }
   },
   "source": [
    "Один из методов превращения выборки в сбалансированную - это сэмплирование. По итогу мы хотим, чтобы объектов обоих классов было поровну. Есть два простых метода: undersampling и oversampling. Легче всего пояснить на картинке:"
   ]
  },
  {
   "cell_type": "markdown",
   "metadata": {
    "slideshow": {
     "slide_type": "fragment"
    }
   },
   "source": [
    "![](https://miro.medium.com/max/725/0*FeIp1t4uEcW5LmSM.png)"
   ]
  },
  {
   "cell_type": "markdown",
   "metadata": {
    "slideshow": {
     "slide_type": "fragment"
    }
   },
   "source": [
    "Что ж, такие простые методы есть уже готвые: [`sklearn.utils.resample`](https://scikit-learn.org/stable/modules/generated/sklearn.utils.resample.html)"
   ]
  },
  {
   "cell_type": "markdown",
   "metadata": {
    "slideshow": {
     "slide_type": "slide"
    }
   },
   "source": [
    "**Важный момент**: проводить изменения выборки стоит уже после разделения на обучающую и тестовую. Это нужно, потому что:\n",
    "* мы хотим тестировать качество на исходных, а не на изменённых данных\n",
    "* мы не хотим, чтобы в тестовую выборку попали те объекты, которые есть в тренировочной"
   ]
  },
  {
   "cell_type": "markdown",
   "metadata": {
    "slideshow": {
     "slide_type": "slide"
    }
   },
   "source": [
    "Чтобы воспользоваться сэмплингом, объединим объекты с ответами обратно и отделим оба класса друг от друга:"
   ]
  },
  {
   "cell_type": "code",
   "execution_count": 47,
   "metadata": {
    "slideshow": {
     "slide_type": "fragment"
    }
   },
   "outputs": [],
   "source": [
    "X = pd.concat([X_train, y_train], axis=1)\n",
    "not_fraud = X[X.Class==0]\n",
    "fraud = X[X.Class==1]"
   ]
  },
  {
   "cell_type": "markdown",
   "metadata": {
    "slideshow": {
     "slide_type": "slide"
    }
   },
   "source": [
    "### Oversampling"
   ]
  },
  {
   "cell_type": "code",
   "execution_count": 48,
   "metadata": {
    "slideshow": {
     "slide_type": "slide"
    }
   },
   "outputs": [
    {
     "data": {
      "text/plain": [
       "0    213226\n",
       "1    213226\n",
       "Name: Class, dtype: int64"
      ]
     },
     "execution_count": 48,
     "metadata": {},
     "output_type": "execute_result"
    }
   ],
   "source": [
    "fraud_oversampled = resample(fraud,\n",
    "                              replace=True,\n",
    "                              n_samples=len(not_fraud),\n",
    "                              random_state=42)\n",
    "\n",
    "oversampled = pd.concat([not_fraud, fraud_oversampled])\n",
    "\n",
    "oversampled.Class.value_counts()"
   ]
  },
  {
   "cell_type": "code",
   "execution_count": 49,
   "metadata": {
    "slideshow": {
     "slide_type": "fragment"
    }
   },
   "outputs": [],
   "source": [
    "y_train = oversampled.Class\n",
    "X_train = oversampled.drop('Class', axis=1)\n",
    "\n",
    "oversampled_clf = LogisticRegression(solver='liblinear').fit(X_train, y_train)\n",
    "\n",
    "oversampled_pred = oversampled_clf.predict(X_test)"
   ]
  },
  {
   "cell_type": "code",
   "execution_count": 50,
   "metadata": {
    "slideshow": {
     "slide_type": "slide"
    }
   },
   "outputs": [
    {
     "name": "stdout",
     "output_type": "stream",
     "text": [
      "Accuracy score:  0.9781747703716188\n",
      "Recall score:  0.911504424778761\n",
      "Precision score:  0.06253794778384943\n",
      "F1 score:  0.11704545454545455\n"
     ]
    }
   ],
   "source": [
    "print ('Accuracy score: ', accuracy_score(y_test, oversampled_pred))\n",
    "print ('Recall score: ', recall_score(y_test, oversampled_pred))\n",
    "print ('Precision score: ', precision_score(y_test, oversampled_pred))\n",
    "print ('F1 score: ', f1_score(y_test, oversampled_pred))"
   ]
  },
  {
   "cell_type": "code",
   "execution_count": 51,
   "metadata": {
    "slideshow": {
     "slide_type": "slide"
    }
   },
   "outputs": [
    {
     "data": {
      "text/plain": [
       "<sklearn.metrics._plot.confusion_matrix.ConfusionMatrixDisplay at 0x7f06d09ba150>"
      ]
     },
     "execution_count": 51,
     "metadata": {},
     "output_type": "execute_result"
    },
    {
     "data": {
      "image/png": "[encoded data removed]",
      "text/plain": [
       "<Figure size 1440x504 with 2 Axes>"
      ]
     },
     "metadata": {},
     "output_type": "display_data"
    }
   ],
   "source": [
    "plot_confusion_matrix(oversampled_clf, X_test, y_test, values_format='g')"
   ]
  },
  {
   "cell_type": "markdown",
   "metadata": {
    "slideshow": {
     "slide_type": "slide"
    }
   },
   "source": [
    "### Undersampling"
   ]
  },
  {
   "cell_type": "code",
   "execution_count": 52,
   "metadata": {
    "slideshow": {
     "slide_type": "slide"
    }
   },
   "outputs": [
    {
     "data": {
      "text/plain": [
       "0    379\n",
       "1    379\n",
       "Name: Class, dtype: int64"
      ]
     },
     "execution_count": 52,
     "metadata": {},
     "output_type": "execute_result"
    }
   ],
   "source": [
    "not_fraud_undersampled = resample(not_fraud,\n",
    "                                  replace = False,\n",
    "                                  n_samples = len(fraud),\n",
    "                                  random_state = 42)\n",
    "\n",
    "undersampled = pd.concat([not_fraud_undersampled, fraud])\n",
    "\n",
    "undersampled.Class.value_counts()"
   ]
  },
  {
   "cell_type": "code",
   "execution_count": 53,
   "metadata": {
    "slideshow": {
     "slide_type": "fragment"
    }
   },
   "outputs": [],
   "source": [
    "y_train = undersampled.Class\n",
    "X_train = undersampled.drop('Class', axis=1)\n",
    "\n",
    "undersampled_clf = LogisticRegression(solver='liblinear').fit(X_train, y_train)\n",
    "\n",
    "undersampled_pred = undersampled_clf.predict(X_test)"
   ]
  },
  {
   "cell_type": "code",
   "execution_count": 54,
   "metadata": {
    "slideshow": {
     "slide_type": "slide"
    }
   },
   "outputs": [
    {
     "name": "stdout",
     "output_type": "stream",
     "text": [
      "Accuracy score:  0.9798741608381787\n",
      "Recall score:  0.9026548672566371\n",
      "Precision score:  0.06692913385826772\n",
      "F1 score:  0.12461820403176545\n"
     ]
    }
   ],
   "source": [
    "print ('Accuracy score: ', accuracy_score(y_test, undersampled_pred))\n",
    "print ('Recall score: ', recall_score(y_test, undersampled_pred))\n",
    "print ('Precision score: ', precision_score(y_test, undersampled_pred))\n",
    "print ('F1 score: ', f1_score(y_test, undersampled_pred))"
   ]
  },
  {
   "cell_type": "code",
   "execution_count": 55,
   "metadata": {
    "slideshow": {
     "slide_type": "slide"
    }
   },
   "outputs": [
    {
     "data": {
      "text/plain": [
       "<sklearn.metrics._plot.confusion_matrix.ConfusionMatrixDisplay at 0x7f06d0c7bad0>"
      ]
     },
     "execution_count": 55,
     "metadata": {},
     "output_type": "execute_result"
    },
    {
     "data": {
      "image/png": "[encoded data removed]",
      "text/plain": [
       "<Figure size 1440x504 with 2 Axes>"
      ]
     },
     "metadata": {},
     "output_type": "display_data"
    }
   ],
   "source": [
    "plot_confusion_matrix(undersampled_clf, X_test, y_test, values_format='g')"
   ]
  },
  {
   "cell_type": "markdown",
   "metadata": {
    "slideshow": {
     "slide_type": "slide"
    }
   },
   "source": [
    "Главная проблема downsampling'а в том, что мы теряем много данных. А так в целом очень даже и неплохо получается :)"
   ]
  },
  {
   "cell_type": "markdown",
   "metadata": {
    "slideshow": {
     "slide_type": "slide"
    }
   },
   "source": [
    "###  Более сложные методы"
   ]
  },
  {
   "cell_type": "markdown",
   "metadata": {
    "slideshow": {
     "slide_type": "slide"
    }
   },
   "source": [
    "Более сложные методы - это так или иначе oversampling либо downsampling. Просто не такой обычный, как повторение существующих либо выкидывание данных. Один из них - [`SMOTE`](https://arxiv.org/abs/1106.1813). Его идея такая: давайте для каждого объекта найдём сколько-то ближайших соседей, проведём между ними отрезки и будем генерировать новые точки на этих отрезках. "
   ]
  },
  {
   "cell_type": "markdown",
   "metadata": {
    "slideshow": {
     "slide_type": "slide"
    }
   },
   "source": [
    "<img src=\"https://miro.medium.com/max/1400/1*6UFpLFl59O9e3e38ffTXJQ.png\" alt=\"drawing\" width=\"600\"/>"
   ]
  },
  {
   "cell_type": "markdown",
   "metadata": {
    "slideshow": {
     "slide_type": "slide"
    }
   },
   "source": [
    "Для проверки того, что может нам принести этот метод, воспользуемся библиотекой для несбалансированного обучения [`imblearn`](https://imbalanced-learn.readthedocs.io/en/stable/index.html):"
   ]
  },
  {
   "cell_type": "code",
   "execution_count": 58,
   "metadata": {
    "slideshow": {
     "slide_type": "fragment"
    }
   },
   "outputs": [],
   "source": [
    "from imblearn.over_sampling import SMOTE"
   ]
  },
  {
   "cell_type": "code",
   "execution_count": 59,
   "metadata": {
    "slideshow": {
     "slide_type": "slide"
    }
   },
   "outputs": [
    {
     "name": "stdout",
     "output_type": "stream",
     "text": [
      "0    213226\n",
      "1       379\n",
      "Name: Class, dtype: int64\n"
     ]
    }
   ],
   "source": [
    "X = pd.concat([not_fraud, fraud])\n",
    "print (X.Class.value_counts())\n",
    "\n",
    "y_train = X.Class\n",
    "X_train = X.drop('Class', axis=1)"
   ]
  },
  {
   "cell_type": "code",
   "execution_count": 61,
   "metadata": {
    "slideshow": {
     "slide_type": "fragment"
    }
   },
   "outputs": [
    {
     "name": "stdout",
     "output_type": "stream",
     "text": [
      "(426452, 30)\n",
      "213226\n"
     ]
    }
   ],
   "source": [
    "sm = SMOTE(random_state=42)\n",
    "\n",
    "X_train, y_train = sm.fit_resample(X_train, y_train)\n",
    "print (X_train.shape)\n",
    "print (len(y_train[y_train == 1]))"
   ]
  },
  {
   "cell_type": "code",
   "execution_count": 62,
   "metadata": {
    "slideshow": {
     "slide_type": "fragment"
    }
   },
   "outputs": [],
   "source": [
    "smote_clf = LogisticRegression(solver='liblinear').fit(X_train, y_train)\n",
    "\n",
    "smote_pred = smote_clf.predict(X_test)"
   ]
  },
  {
   "cell_type": "code",
   "execution_count": 63,
   "metadata": {
    "slideshow": {
     "slide_type": "slide"
    }
   },
   "outputs": [
    {
     "name": "stdout",
     "output_type": "stream",
     "text": [
      "Accuracy score:  0.9850285104351001\n",
      "Recall score:  0.8849557522123894\n",
      "Precision score:  0.08673026886383348\n",
      "F1 score:  0.15797788309636648\n"
     ]
    }
   ],
   "source": [
    "print ('Accuracy score: ', accuracy_score(y_test, smote_pred))\n",
    "print ('Recall score: ', recall_score(y_test, smote_pred))\n",
    "print ('Precision score: ', precision_score(y_test, smote_pred))\n",
    "print ('F1 score: ', f1_score(y_test, smote_pred))"
   ]
  },
  {
   "cell_type": "code",
   "execution_count": 64,
   "metadata": {
    "slideshow": {
     "slide_type": "slide"
    }
   },
   "outputs": [
    {
     "data": {
      "text/plain": [
       "<sklearn.metrics._plot.confusion_matrix.ConfusionMatrixDisplay at 0x7f06d03e6310>"
      ]
     },
     "execution_count": 64,
     "metadata": {},
     "output_type": "execute_result"
    },
    {
     "data": {
      "image/png": "[encoded data removed]",
      "text/plain": [
       "<Figure size 1440x504 with 2 Axes>"
      ]
     },
     "metadata": {},
     "output_type": "display_data"
    }
   ],
   "source": [
    "plot_confusion_matrix(smote_clf, X_test, y_test, values_format='g')"
   ]
  },
  {
   "cell_type": "markdown",
   "metadata": {
    "slideshow": {
     "slide_type": "slide"
    }
   },
   "source": [
    "**Задание 2** *(1 балл)*. Давайте попробуем реализовать подобие SMOTE своими руками. Для этого:\n",
    "* для каждого объекта из меньшего класса найдите ближайшего соседа\n",
    "* для генерации объекта между ними используйте линейную интерполяцию и равномерное распределение веса\n",
    "* при генерации очередного синтетического объекта выбирайте реальный объект равномерно случайным образом\n",
    "* проделайте oversampling, запустите на нём линейную регрессию, получите результаты метрик и сделайте выводы о том, хорош такой метод или нет и почему"
   ]
  },
  {
   "cell_type": "code",
   "execution_count": 94,
   "metadata": {
    "slideshow": {
     "slide_type": "fragment"
    }
   },
   "outputs": [],
   "source": [
    "from sklearn.neighbors import BallTree\n",
    "import pandas as pd\n",
    "from scipy.interpolate import LinearNDInterpolator"
   ]
  },
  {
   "cell_type": "code",
   "execution_count": 159,
   "metadata": {},
   "outputs": [],
   "source": [
    "tree = BallTree(fraud, leaf_size=2) \n",
    "dist, ind = tree.query(fraud[:], k=2)\n",
    "ind = ind[:, 1]\n",
    "sintetic = np.random.randint(low=0, high=(len(fraud) - 1), size=(len(not_fraud) - len(fraud)))\n",
    "\n",
    "first = np.array(fraud)[sintetic[range(len(not_fraud) - len(fraud))]]\n",
    "second = np.array(fraud)[ind[sintetic[range(len(not_fraud) - len(fraud))]].reshape(-1)]\n",
    "series_of_nans = pd.Series(([np.nan] * first.shape[1]))\n",
    "new_data = list()\n",
    "for i in range(len(first)):\n",
    "    new_data.append(np.mean([first[i], second[i]], axis=0))"
   ]
  },
  {
   "cell_type": "code",
   "execution_count": 175,
   "metadata": {},
   "outputs": [
    {
     "data": {
      "text/plain": [
       "0.0    213226\n",
       "1.0    213226\n",
       "Name: Class, dtype: int64"
      ]
     },
     "execution_count": 175,
     "metadata": {},
     "output_type": "execute_result"
    }
   ],
   "source": [
    "oversampling_fraud = np.concatenate((np.array(new_data), fraud))\n",
    "my_data = not_fraud.append(pd.DataFrame(oversampling_fraud, columns=not_fraud.columns), ignore_index=True)\n",
    "my_data.Class.value_counts()"
   ]
  },
  {
   "cell_type": "code",
   "execution_count": 176,
   "metadata": {},
   "outputs": [],
   "source": [
    "y_train = my_data.Class\n",
    "X_train = my_data.drop('Class', axis=1)\n",
    "\n",
    "my_clf = LogisticRegression(solver='liblinear').fit(X_train, y_train)\n",
    "\n",
    "my_pred = my_clf.predict(X_test)"
   ]
  },
  {
   "cell_type": "code",
   "execution_count": 177,
   "metadata": {},
   "outputs": [
    {
     "name": "stdout",
     "output_type": "stream",
     "text": [
      "Accuracy score:  0.9873177719726974\n",
      "Recall score:  0.8849557522123894\n",
      "Precision score:  0.10101010101010101\n",
      "F1 score:  0.1813236627379873\n"
     ]
    }
   ],
   "source": [
    "print ('Accuracy score: ', accuracy_score(y_test, my_pred))\n",
    "print ('Recall score: ', recall_score(y_test, my_pred))\n",
    "print ('Precision score: ', precision_score(y_test, my_pred))\n",
    "print ('F1 score: ', f1_score(y_test, my_pred))"
   ]
  },
  {
   "cell_type": "code",
   "execution_count": 178,
   "metadata": {},
   "outputs": [
    {
     "data": {
      "text/plain": [
       "<sklearn.metrics._plot.confusion_matrix.ConfusionMatrixDisplay at 0x7f06cbf4d910>"
      ]
     },
     "execution_count": 178,
     "metadata": {},
     "output_type": "execute_result"
    },
    {
     "data": {
      "image/png": "[encoded data removed]",
      "text/plain": [
       "<Figure size 1440x504 with 2 Axes>"
      ]
     },
     "metadata": {},
     "output_type": "display_data"
    }
   ],
   "source": [
    "plot_confusion_matrix(my_clf, X_test, y_test, values_format='g')"
   ]
  },
  {
   "cell_type": "markdown",
   "metadata": {
    "slideshow": {
     "slide_type": "fragment"
    }
   },
   "source": [
    "Хех, мы обогнали SMOTE, а именно в точности, ну и соответсвенно в F1. Ну, такой метод хорош (лучше чем обычное оверсэмплирование), если выполняются два условия (потому что так мы не копируем данные, а прямо генерим новые благодаря априорной инфе):\n",
    "1. Условие компактности для того класса, который будет использоваться для создания синтексических данных\n",
    "2. Что взяв среднее или ещё что от двух точек мы действительно можем утверждать, что получим тот же класс (по сути владеть априорной информацией подобного типа, что так можно)\n",
    "В нашем случае, ты говорил, что PCA нам сгенерит именно такие данные, ну и если в общем, то для транзакций ведь ивправду эти условия должны выполняться и это должно давать прирост в качестве (да и дало, почему-то лог рег сильно улучшилась после оверсэмплирования, хотя мы говорили, что ей не особо важна балансированность классов, но видимо действительно большое количество объектов, дало возможность не забивать на них, а действительно учитывать при обучении)."
   ]
  },
  {
   "cell_type": "markdown",
   "metadata": {},
   "source": [
    "ниже будет интересное наблюдение по этому виду сэмплирования"
   ]
  },
  {
   "cell_type": "markdown",
   "metadata": {
    "slideshow": {
     "slide_type": "slide"
    }
   },
   "source": [
    "## Реальная жизнь"
   ]
  },
  {
   "cell_type": "markdown",
   "metadata": {
    "slideshow": {
     "slide_type": "slide"
    }
   },
   "source": [
    "Представьте себе ситуацию: вы банк и за каждую транзакцию вы получаете комиссию в виде 10% от суммы транзакции. Если же транзакция оказалась мошеннической, то вы эту комиссию выплачиваете клиенту в качестве компенсации. За отменённую по вашей инициативе транзакцию вы комиссию не получаете. Очевидно, что в данной ситуации ни одна из метрик, которые мы обсуждали в этом разделе, не подойдёт."
   ]
  },
  {
   "cell_type": "markdown",
   "metadata": {
    "slideshow": {
     "slide_type": "slide"
    }
   },
   "source": [
    "Но вы же работаете в банке и хотите много денег!"
   ]
  },
  {
   "cell_type": "markdown",
   "metadata": {
    "slideshow": {
     "slide_type": "fragment"
    }
   },
   "source": [
    "<img src=\"https://avatars.mds.yandex.net/get-zen_doc/237236/pub_5d91b1151febd400b0563c15_5d91b1e7e6cb9b00ad469bde/scale_1200\" alt=\"drawing\" width=\"900\"/>"
   ]
  },
  {
   "cell_type": "markdown",
   "metadata": {
    "slideshow": {
     "slide_type": "slide"
    }
   },
   "source": [
    "**Задание 3**\n",
    "* *(0.5 балла)* Реализуйте метрику, показывающую, сколько денег вы заработаете на тестовом датасете. Примените её к тем моделям, которые мы обучали и посмотрите, какая ведёт себя лучше. Сделайте выводы, а также поразмышляйте на тему того, как связаны эта метрика с accuracy, reacall, precision и F1.\n",
    "* *(0.5 балла)* Придумайте способ сэмплирования (не важно, over или down), который поможет логистической регрессии без дополнительной настройки параметров улучшить значение метрики. Даже если не получится улучшить, аргументируйте, почему такой метод показался вам разумным и должен был сработать."
   ]
  },
  {
   "cell_type": "code",
   "execution_count": 187,
   "metadata": {},
   "outputs": [
    {
     "name": "stdout",
     "output_type": "stream",
     "text": [
      "617888.4349999999\n"
     ]
    }
   ],
   "source": [
    "# метрика, Class: 0-норм транз, 1-мошн транз, будет показывать сколько денег мы заработали\n",
    "def money_gain(X, y):\n",
    "    return (np.sum(X[y == 0]['Amount']) - np.sum(X[y == 1]['Amount'])) / 10\n",
    "print(money_gain(X_test, y_test))"
   ]
  },
  {
   "cell_type": "markdown",
   "metadata": {},
   "source": [
    "Ну, accuracy тут вообще ни к селу, ни к городу. \n",
    "1. Через recall впринципе можно выразить так, что нам нужно находить все транзакции мошенников, но оценивать мы будем не просто частоту, а суммы денег, что мы определили по отношению к тем, что действительно были мошшеническими. Тем самым мы можем денежно определить сколько денег мошенников мы отслеживаем.\n",
    "2. Через precision можно оценивать такую вещь - насколько точно мы отменяем заказы, а то есть, допустим банк берёт, и действительно вообще все дорогие транзакции отменяет, тогда precision метрика будет ужасной, и нам надо настраивать и под неё нашу модель, потому что тогда мы будем отменять слишком много заказов, которые не должны были, и клиенты просто будут уходить, потому что грубо говоря у нормально человека каждая третья транзакция отменяется, кому такое надо.\n",
    "3. Ну, и F1 - это комбинация двух предыдущих с различными весами, насколько нам важно одно, насколько другое."
   ]
  },
  {
   "cell_type": "code",
   "execution_count": 190,
   "metadata": {
    "slideshow": {
     "slide_type": "fragment"
    }
   },
   "outputs": [
    {
     "name": "stdout",
     "output_type": "stream",
     "text": [
      "oversampled_pred = 540113.567\n",
      "undersampled_pred = 482087.99100000004\n",
      "smote_pred = 596870.039\n",
      "my_pred = 607016.643\n"
     ]
    }
   ],
   "source": [
    "print(\"oversampled_pred = \" + str(money_gain(X_test, oversampled_pred)))\n",
    "print(\"undersampled_pred = \" + str(money_gain(X_test, undersampled_pred)))\n",
    "print(\"smote_pred = \" + str(money_gain(X_test, smote_pred)))\n",
    "print(\"my_pred = \" + str(money_gain(X_test, my_pred)))"
   ]
  },
  {
   "cell_type": "markdown",
   "metadata": {},
   "source": [
    "Хо-хо!! Да наше сэмплирование ещё и сделало всех, да при том как сильно! Всё таки если есть априорные знания о нужном классе, то, очевидно, нужно их использовать по максимуму (и SMOTE и наши синтетические данные сделали нереальное улучшение метрики). И да, видно, что уменьшие данных undersampling-ом оч сильно сказалось."
   ]
  },
  {
   "cell_type": "code",
   "execution_count": 237,
   "metadata": {},
   "outputs": [],
   "source": [
    "tree = BallTree(fraud, leaf_size=2) \n",
    "dist, ind = tree.query(fraud[:], k=2)\n",
    "ind = ind[:, 1]\n",
    "sintetic = np.random.randint(low=0, high=(len(fraud) - 1), size=(len(not_fraud) - len(fraud)))\n",
    "\n",
    "first = np.array(fraud)[sintetic[range(len(not_fraud) - len(fraud))]]\n",
    "second = np.array(fraud)[ind[sintetic[range(len(not_fraud) - len(fraud))]].reshape(-1)]\n",
    "series_of_nans = pd.Series(([np.nan] * first.shape[1]))\n",
    "new_data = list()\n",
    "for i in range(len(first)):\n",
    "    # ВОТ ТУТ ВОТ ИЗМЕНЕНИЕ - начал добавль не просто среднее а различные варианты комбинаций\n",
    "    new_data.append(np.mean([first[i], second[i], second[i]], axis=0))\n",
    "    new_data.append(np.mean([first[i], first[i], second[i]], axis=0))\n",
    "\n",
    "oversampling_fraud = np.concatenate((np.array(new_data), fraud))\n",
    "my_data = not_fraud.append(pd.DataFrame(oversampling_fraud, columns=not_fraud.columns), ignore_index=True)"
   ]
  },
  {
   "cell_type": "code",
   "execution_count": 238,
   "metadata": {},
   "outputs": [
    {
     "name": "stdout",
     "output_type": "stream",
     "text": [
      "(639299, 31)\n"
     ]
    }
   ],
   "source": [
    "my_data[\"Class\"].replace({1.5: 1}, inplace=True)\n",
    "my_data.Class.value_counts()\n",
    "print(my_data.shape)"
   ]
  },
  {
   "cell_type": "code",
   "execution_count": 239,
   "metadata": {},
   "outputs": [],
   "source": [
    "y_train = my_data.Class\n",
    "X_train = my_data.drop('Class', axis=1)"
   ]
  },
  {
   "cell_type": "code",
   "execution_count": 240,
   "metadata": {},
   "outputs": [
    {
     "name": "stdout",
     "output_type": "stream",
     "text": [
      "Index(['Time', 'V1', 'V2', 'V3', 'V4', 'V5', 'V6', 'V7', 'V8', 'V9', 'V10',\n",
      "       'V11', 'V12', 'V13', 'V14', 'V15', 'V16', 'V17', 'V18', 'V19', 'V20',\n",
      "       'V21', 'V22', 'V23', 'V24', 'V25', 'V26', 'V27', 'V28', 'Amount'],\n",
      "      dtype='object')\n"
     ]
    }
   ],
   "source": [
    "print(X_train.columns)"
   ]
  },
  {
   "cell_type": "code",
   "execution_count": 241,
   "metadata": {},
   "outputs": [
    {
     "name": "stdout",
     "output_type": "stream",
     "text": [
      "my_pred = 577157.121\n"
     ]
    }
   ],
   "source": [
    "my_clf = LogisticRegression(solver='liblinear').fit(X_train, y_train)\n",
    "\n",
    "my_pred = my_clf.predict(X_test)\n",
    "\n",
    "print(\"my_pred = \" + str(money_gain(X_test, my_pred)))"
   ]
  },
  {
   "cell_type": "code",
   "execution_count": null,
   "metadata": {},
   "outputs": [],
   "source": [
    "my_data = my_data.append(not_fraud)"
   ]
  },
  {
   "cell_type": "code",
   "execution_count": 247,
   "metadata": {},
   "outputs": [
    {
     "name": "stdout",
     "output_type": "stream",
     "text": [
      "my_pred = 607416.939\n"
     ]
    }
   ],
   "source": [
    "y_train = my_data.Class\n",
    "X_train = my_data.drop('Class', axis=1)\n",
    "\n",
    "my_clf = LogisticRegression(solver='liblinear').fit(X_train, y_train)\n",
    "\n",
    "my_pred = my_clf.predict(X_test)\n",
    "\n",
    "print(\"my_pred = \" + str(money_gain(X_test, my_pred)))"
   ]
  },
  {
   "cell_type": "markdown",
   "metadata": {},
   "source": [
    "Думал взять не среднее, а различные пропорции когда мы интерполяцию между двух точек делаем, вначале получилось ухудшение, т.к. соотношение классов стало 1:2 (из реализации видно, что теперь наоборот мошеннических транзакций слишком много), а потом я просто продублировал меньший класс (который нормальные транзакции), и в итоге качество получилось адекватное. Даже более того! - с первого же раза я обогнал лучшую предыдущую модель! (Ток пока писал заметил :)).\n",
    "\n",
    "Тогда из наших наблюдений всё таки можно сделать вывод, что для лог регрессии сбалансированность классов играет роль. \n",
    "\n",
    "Я нагенерил кучу ответов для варианта 1 (400к вариантов примерно), а пок класс 0 так и оставался равен 200к объектов - качество лишь ухудшилось. То есть добавив данные только к одному классу я ухушил модель, но просто сделав глупый oversampling для класс 0 с первого же раза получилось улучшение. Не могу сходу объяснить отчего такие изменения для нашей loss func, но попробую понять когда буду решать контест, а то как же это не погонять лог рег по-хорошенькому после Саши то :) Хотя ещё не знаю, можно ли будет там сэмплирование куда впихнуть, но если соображу, попробую)\n",
    "\n",
    "Так что всё таки на семинаре это был хороший совет - использовать сэмплирование как гиперпараметр для модели."
   ]
  }
 ],
 "metadata": {
  "celltoolbar": "Slideshow",
  "kernelspec": {
   "display_name": "Python 3",
   "language": "python",
   "name": "python3"
  },
  "language_info": {
   "codemirror_mode": {
    "name": "ipython",
    "version": 3
   },
   "file_extension": ".py",
   "mimetype": "text/x-python",
   "name": "python",
   "nbconvert_exporter": "python",
   "pygments_lexer": "ipython3",
   "version": "3.8.8"
  }
 },
 "nbformat": 4,
 "nbformat_minor": 2
}
