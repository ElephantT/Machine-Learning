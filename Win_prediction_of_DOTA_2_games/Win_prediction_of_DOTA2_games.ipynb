{
 "cells": [
  {
   "cell_type": "markdown",
   "metadata": {},
   "source": [
    "## Лабораторная работа 1. Введение в машинное обучение.\n",
    "\n",
    "![](https://newapplift-production.s3.amazonaws.com/comfy/cms/files/files/000/001/201/original/machine-learning-robots-dilbert.gif)\n",
    "\n",
    "Результат лабораторной работы − отчет. Мы предпочитаем принимать отчеты в формате ноутбуков Jupyter (ipynb-файл). Постарайтесь сделать ваш отчет интересным рассказом, последовательно отвечающим на вопросы из заданий. Помимо ответов на вопросы, в отчете так же должен быть код, однако чем меньше кода, тем лучше всем: нам − меньше проверять, вам —  проще найти ошибку или дополнить эксперимент. При проверке оценивается четкость ответов на вопросы, аккуратность отчета и кода.\n",
    "\n",
    "\n",
    "### Оценивание и штрафы\n",
    "\n",
    "* Каждая из задач имеет определенную «стоимость» (указана в скобках около задачи)\n",
    "* Максимально допустимая оценка за работу — 20 баллов\n",
    "* Сдавать задание после указанного срока сдачи нельзя\n",
    "* «Похожие» решения считаются плагиатом и все задействованные студенты (в том числе те, у кого списали) не могут получить за него больше 0 баллов и понижают карму (подробнее о плагиате см. на странице курса)\n",
    "* Если вы нашли решение какого-то из заданий в открытом источнике, необходимо прислать ссылку на этот источник (скорее всего вы будете не единственным, кто это нашел, поэтому чтобы исключить подозрение в плагиате, необходима ссылка на источник)\n",
    "* Не оцениваются задания с удалёнными формулировкам\n",
    "* Не оценивается лабораторная работа целиком, если она была выложена в открытый источник"
   ]
  },
  {
   "cell_type": "markdown",
   "metadata": {},
   "source": [
    "### Метрика качества\n",
    "\n",
    "Обучение и оценка качества модели производится на независимых множествах примеров. Как правило, имеющующиеся примеры разбивают на два подмножества: обучающее (train) и тестовое (test). Выбор пропорции разбиения — компромисс. Действительно, большой размер обучения ведет к более качественным алгоритмам, но бОльшему шуму при оценке модели на тесте. И наоборот, большой размер тестовой выборки ведет к менее шумной оценке качества, однако обученные модели получаются менее точными.\n",
    "\n",
    "Многие модели классификации предсказывают оценку принадлежности положительному классу $\\tilde{y}(x) \\in R$ (например, вероятность принадлежности классу 1). После этого принимают решение о классе объекта путем сравнения оценки с некоторым порогом $\\theta$:\n",
    "\n",
    "$$y(x) = \n",
    "\\begin{cases}\n",
    "+1, &\\text{если} \\; \\tilde{y}(x) \\geq \\theta \\\\\n",
    "-1, &\\text{если} \\; \\tilde{y}(x) < \\theta\n",
    "\\end{cases}\n",
    "$$\n",
    "\n",
    "В этом случае можно рассматривать метрики, которые умеют работать с исходным ответом классификатора. В задании мы будем работать с метрикой AUC-ROC, которую в данном случае можно считать как долю неправильно упорядоченных пар объектов, отсортированных по возрастанию предсказанной оценки принадлежности классу 1 (более подробно можно узнать на следующих лекциях или, например, [здесь](https://github.com/esokolov/ml-course-msu/blob/master/ML15/lecture-notes/Sem05_metrics.pdf)). Детального понимания принципов работы метрики AUC-ROC для выполнения этой лабораторной не требуется."
   ]
  },
  {
   "cell_type": "markdown",
   "metadata": {},
   "source": [
    "### Подбор гиперпараметров модели\n",
    "\n",
    "В задачах машинного обучения следует различать параметры модели и гиперпараметры (структурные параметры). Обычно параметры модели настраиваются в ходе обучения (например, веса в линейной модели), в то время как гиперпараметры задаются заранее (например, значение силы регуляризации в линейной модели). Каждая модель, как правило, имеет множество гиперпараметров и нет универсальных наборов гиперпараметров, оптимально работающих во всех задачах, поэтому для каждой задачи нужно подбирать свой набор.\n",
    "\n",
    "Для оптимизации гиперпараметров модели часто используют _перебор по сетке (grid search)_: для каждого гиперпараметра выбирается несколько значений, далее перебираются все комбинации значений и выбирается комбинация, на которой модель показывает лучшее качество (с точки зрения оптимизируемой метрики). Однако, в этом случае нужно грамотно оценивать построенную модель, а именно делать разбиение на обучающую и тестовую выборку.\n",
    "\n",
    "В этом случае сравнение большого числа моделей при переборе гиперпараметров приводит к ситуации, когда лучшая на тестовой подвыборке модель не сохраняет свои качества на новых данных. Можно сказать, что происходит _переобучение_ на тестовую выборку.\n",
    "\n",
    "Для устранения описанной выше проблемы, **можно разбить данные на 3 непересекающихся подвыборки: обучение, валидация и тест**. Валидационную подвыборку используют для сравнения моделей, а тестовую — для окончательной оценки качества и сравнения семейств моделей с подобранными гиперпараметрами.\n",
    "\n",
    "**Другой способ сравнения моделей — [кросс-валидация](http://bit.ly/1CHXsNH)**. \n",
    "\n",
    "Существуют различные **схемы кросс-валидации**:\n",
    "  - Leave-One-Out\n",
    "  - K-Fold\n",
    "  - Многократное случайное разбиение выборки\n",
    "  \n",
    "Кросс-валидация вычислительно затратна, особенно если вы делаете перебор по сетке с очень большим числом комбинации. С учетом конечности времени на выполнение задания, возникает ряд компромиссов: \n",
    "  - сетку гиперпараметров можно делать более разреженной, перебирая меньше значений каждого гиперпараметра; однако, не стоит забывать, что в таком случае можно пропустить хорошую комбинацию гиперпараметров;\n",
    "  - кросс-валидацию можно делать с меньшим числом разбиений или фолдов, но в таком случае оценка качества становится более шумной и увеличивается риск выбрать неоптимальный набор гиперпараметров из-за случайности разбиения;\n",
    "  - гиперпараметры можно оптимизировать последовательно (жадно) — один за другим, а не перебирать все комбинации; такая стратегия не всегда приводит к оптимальному набору;\n",
    "  - перебирать не все комбинации гиперпараметров, а небольшое число случайно выбранных."
   ]
  },
  {
   "cell_type": "markdown",
   "metadata": {},
   "source": [
    "В этой лабораторной работе мы научимся обучать модели машинного обучения, корректно ставить эксперименты, подбирать гиперпараметры, сравнивать и смешивать модели. Вам предлагается решить задачу бинарной классификации, а именно построить алгоритм, предсказывающий победу команды в компьютерной игре Dota2.\n",
    " \n",
    "Более подробно про данные можно почитать на странице первого конкурсного [соревнования](https://www.kaggle.com/t/f2f20fc510f042dfa9751a03c6108805). Целевой признак записан в переменной radiant_win. "
   ]
  },
  {
   "cell_type": "markdown",
   "metadata": {},
   "source": [
    "### Обучение классификаторов на вещественных признаках"
   ]
  },
  {
   "cell_type": "markdown",
   "metadata": {},
   "source": [
    "Загрузите набор данных *train.csv*, *gold.csv* и *lh.csv*. Чтобы лучше понимать, с чем вы работаете/корректно ли вы загрузили данные можно вывести несколько первых строк на экран."
   ]
  },
  {
   "cell_type": "code",
   "execution_count": 151,
   "metadata": {},
   "outputs": [],
   "source": [
    "import pandas as pd\n",
    "import numpy as np\n",
    "import sklearn\n",
    "from matplotlib import pyplot as plt"
   ]
  },
  {
   "cell_type": "code",
   "execution_count": 152,
   "metadata": {},
   "outputs": [],
   "source": [
    "train = pd.read_csv(\"train.csv\")\n",
    "gold = pd.read_csv(\"gold.csv\")\n",
    "lh = pd.read_csv(\"lh.csv\")\n",
    "events = pd.read_csv(\"events.csv\")"
   ]
  },
  {
   "cell_type": "markdown",
   "metadata": {},
   "source": [
    "Иногда в данных встречаются пропуски. Способ обозначения пропусков либо прописывается в описании к данным, либо на месте пропуска после чтения данных оказывается значение [NaN](https://docs.scipy.org/doc/numpy-1.13.0/user/misc.html). Более подробно о работе с пропусками в Pandas можно прочитать например [здесь](http://pandas.pydata.org/pandas-docs/stable/missing_data.html). \n",
    "\n",
    "В данном датасете пропущенные значения обозначены как \"-1\". \n",
    "\n",
    "**Задание 1** (1 балл) \n",
    "\n",
    "Проанализируйте датасет и найдите все признаки, имеющие пропущенные значения (опишите свои наблюдения). \n",
    "\n",
    "Предобработайте текущий датасет так, что бы в нём не осталось пропусков (обоснуйте свой выбор метода предобработки)."
   ]
  },
  {
   "cell_type": "code",
   "execution_count": 153,
   "metadata": {},
   "outputs": [],
   "source": [
    "def find_values(df, value):\n",
    "    for col in list(df.columns):\n",
    "        if not df[df[col] == value].empty:\n",
    "            print(df[df[col] == value].index)\n",
    "    return df"
   ]
  },
  {
   "cell_type": "code",
   "execution_count": 154,
   "metadata": {},
   "outputs": [
    {
     "name": "stdout",
     "output_type": "stream",
     "text": [
      "Int64Index([  205,   240,   406,   433,   544,   969,  1211,  1238,  1314,\n",
      "             1470,\n",
      "            ...\n",
      "            67303, 67396, 67561, 67940, 68160, 68279, 68598, 68679, 68777,\n",
      "            68852],\n",
      "           dtype='int64', length=418)\n",
      "mid            150\n",
      "event_type       3\n",
      "from_team     dire\n",
      "time            -1\n",
      "Name: 205, dtype: object\n"
     ]
    }
   ],
   "source": [
    "train = find_values(train, -1)\n",
    "gold = find_values(gold, -1)\n",
    "lh = find_values(lh, -1)\n",
    "events = find_values(events, -1)\n",
    "print(events.iloc[205])"
   ]
  },
  {
   "cell_type": "markdown",
   "metadata": {},
   "source": [
    "1. Добавил ещё events.csv чтобы проверить точно ли я нахожу эти -1 значения, правда там это не пропуски, ведь отсчёт времени идёт от -60\n",
    "2. Собственно, в наших данных train, gold, lh пропущенных данных нет, нам повезло"
   ]
  },
  {
   "cell_type": "markdown",
   "metadata": {},
   "source": [
    "В начале мы будем работать только с вещественными признаками. \n",
    "\n",
    "Возьмите из *gold.csv* и *lh.csv* данные по 600 секунде для каждого матча и подклейте их к *train.csv* (см. [булево индексирование](https://pandas.pydata.org/pandas-docs/stable/user_guide/indexing.html#boolean-indexing) и [join](https://pandas.pydata.org/pandas-docs/stable/reference/api/pandas.DataFrame.join.html?highlight=join#pandas.DataFrame.join))."
   ]
  },
  {
   "cell_type": "code",
   "execution_count": 155,
   "metadata": {},
   "outputs": [],
   "source": [
    "gold_each_10th = gold[9::10]\n",
    "lh_each_10th = lh[9::10]\n",
    "train_gold = train.join(gold_each_10th.set_index('mid'), on='mid', rsuffix = '_gold')\n",
    "train_gold_lh = train_gold.join(lh_each_10th.set_index('mid'), on='mid', rsuffix = '_lh')"
   ]
  },
  {
   "cell_type": "code",
   "execution_count": 156,
   "metadata": {},
   "outputs": [
    {
     "name": "stdout",
     "output_type": "stream",
     "text": [
      "(24974, 24)\n"
     ]
    },
    {
     "data": {
      "text/html": [
       "<div>\n",
       "<style scoped>\n",
       "    .dataframe tbody tr th:only-of-type {\n",
       "        vertical-align: middle;\n",
       "    }\n",
       "\n",
       "    .dataframe tbody tr th {\n",
       "        vertical-align: top;\n",
       "    }\n",
       "\n",
       "    .dataframe thead th {\n",
       "        text-align: right;\n",
       "    }\n",
       "</style>\n",
       "<table border=\"1\" class=\"dataframe\">\n",
       "  <thead>\n",
       "    <tr style=\"text-align: right;\">\n",
       "      <th></th>\n",
       "      <th>mid</th>\n",
       "      <th>radiant_won</th>\n",
       "      <th>times</th>\n",
       "      <th>player_0</th>\n",
       "      <th>player_1</th>\n",
       "      <th>player_2</th>\n",
       "      <th>player_3</th>\n",
       "      <th>player_4</th>\n",
       "      <th>player_5</th>\n",
       "      <th>player_6</th>\n",
       "      <th>...</th>\n",
       "      <th>player_0_lh</th>\n",
       "      <th>player_1_lh</th>\n",
       "      <th>player_2_lh</th>\n",
       "      <th>player_3_lh</th>\n",
       "      <th>player_4_lh</th>\n",
       "      <th>player_5_lh</th>\n",
       "      <th>player_6_lh</th>\n",
       "      <th>player_7_lh</th>\n",
       "      <th>player_8_lh</th>\n",
       "      <th>player_9_lh</th>\n",
       "    </tr>\n",
       "  </thead>\n",
       "  <tbody>\n",
       "    <tr>\n",
       "      <th>0</th>\n",
       "      <td>0</td>\n",
       "      <td>1</td>\n",
       "      <td>600</td>\n",
       "      <td>3454</td>\n",
       "      <td>5206</td>\n",
       "      <td>2613</td>\n",
       "      <td>4426</td>\n",
       "      <td>5755</td>\n",
       "      <td>4072</td>\n",
       "      <td>3997</td>\n",
       "      <td>...</td>\n",
       "      <td>4</td>\n",
       "      <td>43</td>\n",
       "      <td>3</td>\n",
       "      <td>57</td>\n",
       "      <td>41</td>\n",
       "      <td>34</td>\n",
       "      <td>35</td>\n",
       "      <td>75</td>\n",
       "      <td>2</td>\n",
       "      <td>46</td>\n",
       "    </tr>\n",
       "    <tr>\n",
       "      <th>1</th>\n",
       "      <td>1</td>\n",
       "      <td>0</td>\n",
       "      <td>600</td>\n",
       "      <td>2477</td>\n",
       "      <td>5760</td>\n",
       "      <td>3816</td>\n",
       "      <td>4353</td>\n",
       "      <td>5759</td>\n",
       "      <td>7659</td>\n",
       "      <td>5066</td>\n",
       "      <td>...</td>\n",
       "      <td>5</td>\n",
       "      <td>63</td>\n",
       "      <td>14</td>\n",
       "      <td>28</td>\n",
       "      <td>47</td>\n",
       "      <td>49</td>\n",
       "      <td>23</td>\n",
       "      <td>3</td>\n",
       "      <td>30</td>\n",
       "      <td>39</td>\n",
       "    </tr>\n",
       "    <tr>\n",
       "      <th>2</th>\n",
       "      <td>2</td>\n",
       "      <td>1</td>\n",
       "      <td>600</td>\n",
       "      <td>3604</td>\n",
       "      <td>1948</td>\n",
       "      <td>8581</td>\n",
       "      <td>4390</td>\n",
       "      <td>2869</td>\n",
       "      <td>3096</td>\n",
       "      <td>2301</td>\n",
       "      <td>...</td>\n",
       "      <td>34</td>\n",
       "      <td>6</td>\n",
       "      <td>69</td>\n",
       "      <td>42</td>\n",
       "      <td>23</td>\n",
       "      <td>6</td>\n",
       "      <td>12</td>\n",
       "      <td>56</td>\n",
       "      <td>13</td>\n",
       "      <td>12</td>\n",
       "    </tr>\n",
       "    <tr>\n",
       "      <th>3</th>\n",
       "      <td>4</td>\n",
       "      <td>1</td>\n",
       "      <td>600</td>\n",
       "      <td>3675</td>\n",
       "      <td>4103</td>\n",
       "      <td>5154</td>\n",
       "      <td>3030</td>\n",
       "      <td>2076</td>\n",
       "      <td>3920</td>\n",
       "      <td>3494</td>\n",
       "      <td>...</td>\n",
       "      <td>30</td>\n",
       "      <td>41</td>\n",
       "      <td>45</td>\n",
       "      <td>23</td>\n",
       "      <td>4</td>\n",
       "      <td>26</td>\n",
       "      <td>9</td>\n",
       "      <td>23</td>\n",
       "      <td>37</td>\n",
       "      <td>6</td>\n",
       "    </tr>\n",
       "    <tr>\n",
       "      <th>4</th>\n",
       "      <td>5</td>\n",
       "      <td>1</td>\n",
       "      <td>600</td>\n",
       "      <td>4252</td>\n",
       "      <td>2412</td>\n",
       "      <td>2545</td>\n",
       "      <td>4264</td>\n",
       "      <td>2544</td>\n",
       "      <td>4752</td>\n",
       "      <td>5389</td>\n",
       "      <td>...</td>\n",
       "      <td>42</td>\n",
       "      <td>5</td>\n",
       "      <td>16</td>\n",
       "      <td>30</td>\n",
       "      <td>3</td>\n",
       "      <td>42</td>\n",
       "      <td>24</td>\n",
       "      <td>53</td>\n",
       "      <td>12</td>\n",
       "      <td>14</td>\n",
       "    </tr>\n",
       "  </tbody>\n",
       "</table>\n",
       "<p>5 rows × 24 columns</p>\n",
       "</div>"
      ],
      "text/plain": [
       "   mid  radiant_won  times  player_0  player_1  player_2  player_3  player_4  \\\n",
       "0    0            1    600      3454      5206      2613      4426      5755   \n",
       "1    1            0    600      2477      5760      3816      4353      5759   \n",
       "2    2            1    600      3604      1948      8581      4390      2869   \n",
       "3    4            1    600      3675      4103      5154      3030      2076   \n",
       "4    5            1    600      4252      2412      2545      4264      2544   \n",
       "\n",
       "   player_5  player_6  ...  player_0_lh  player_1_lh  player_2_lh  \\\n",
       "0      4072      3997  ...            4           43            3   \n",
       "1      7659      5066  ...            5           63           14   \n",
       "2      3096      2301  ...           34            6           69   \n",
       "3      3920      3494  ...           30           41           45   \n",
       "4      4752      5389  ...           42            5           16   \n",
       "\n",
       "   player_3_lh  player_4_lh  player_5_lh  player_6_lh  player_7_lh  \\\n",
       "0           57           41           34           35           75   \n",
       "1           28           47           49           23            3   \n",
       "2           42           23            6           12           56   \n",
       "3           23            4           26            9           23   \n",
       "4           30            3           42           24           53   \n",
       "\n",
       "   player_8_lh  player_9_lh  \n",
       "0            2           46  \n",
       "1           30           39  \n",
       "2           13           12  \n",
       "3           37            6  \n",
       "4           12           14  \n",
       "\n",
       "[5 rows x 24 columns]"
      ]
     },
     "execution_count": 156,
     "metadata": {},
     "output_type": "execute_result"
    }
   ],
   "source": [
    "train_gold_lh_each_player = train_gold_lh\n",
    "print(train_gold_lh.shape)\n",
    "train_gold_lh.head(5)"
   ]
  },
  {
   "cell_type": "markdown",
   "metadata": {},
   "source": [
    "**Задание 2** (1 балл)\n",
    "\n",
    "Постройте для команд radiant и dire различные агригаты по игрокам на 600 секунде. Опишите какие именно агригаты вы построили и почему."
   ]
  },
  {
   "cell_type": "markdown",
   "metadata": {},
   "source": [
    "агригаты -> агрегаты ;)"
   ]
  },
  {
   "cell_type": "markdown",
   "metadata": {},
   "source": [
    "gold_team_radiant/dire = сумма золота для команды. \n",
    "\n",
    "Параметр куда легче воспринимать, чем кто сколько золота имеет, тем более не зная даже героев. Зная героев золото для каждого героя в разный момент времени представляет совершенно разную ценность, но даже пока герой не купил айтемы, оно ничего не стоит, так что по сути золото для каждого игрока для обучения модели не должен быть столь серьёзным параметром в нашем случае, и сумма должна дать куда больше.\n",
    "\n",
    "max_gold_team_radiant/dire = сколько золота у самого богатого игрока в команде.\n",
    "\n",
    "Параметр может дать полезную информацию особенно в тех случаях, когда золота в сумме у команд поровну, но сильно важно, как распределено это золото по команде (может один игрок имеет преимущество в несколько тысяч, тогда он может и 1 в 5 выиграть не редко). Опять же, зная информация о ролях и героях каждого игрока, распределние золота дало бы очень ценную информацию для нас, но, не зная этой информации ограничимся лишь информацией о самом богатом игроке. Хотя всё равно золото показывает куда меньше, чем информация о купленный предметах.\n",
    "\n",
    "lh_team_radiant/dire = сумма ласт хитов для команды\n",
    "\n",
    "Опять же, это жалкое подобие параметра опыта, который дан на сореве, но не в домашке, т.к. ласт хиты дают информацию о золоте и опыте, по сути, имея инфу о золоте. опыте и килах, информация о ласт хитах уже дана, но не имя ни опыта, ни килов - ласт хиты будут нашей заменой. Зная количества золота на команду и количества опыта можно примерно знать количество килов, что важный параметр, но там только приблизительное число, поэтому не особо охота его считать, но можно было бы\n",
    "\n",
    "P.S. да, я играл в игры такого жанра, но думая зная больше математики можно было бы найти даже больше классных агрегатов основанных на распределении всех этих штук между игроками"
   ]
  },
  {
   "cell_type": "code",
   "execution_count": 157,
   "metadata": {},
   "outputs": [
    {
     "name": "stderr",
     "output_type": "stream",
     "text": [
      "/home/elephant/anaconda3/lib/python3.7/site-packages/pandas/core/indexing.py:844: SettingWithCopyWarning: \n",
      "A value is trying to be set on a copy of a slice from a DataFrame.\n",
      "Try using .loc[row_indexer,col_indexer] = value instead\n",
      "\n",
      "See the caveats in the documentation: https://pandas.pydata.org/pandas-docs/stable/user_guide/indexing.html#returning-a-view-versus-a-copy\n",
      "  self.obj[key] = _infer_fill_value(value)\n",
      "/home/elephant/anaconda3/lib/python3.7/site-packages/pandas/core/indexing.py:965: SettingWithCopyWarning: \n",
      "A value is trying to be set on a copy of a slice from a DataFrame.\n",
      "Try using .loc[row_indexer,col_indexer] = value instead\n",
      "\n",
      "See the caveats in the documentation: https://pandas.pydata.org/pandas-docs/stable/user_guide/indexing.html#returning-a-view-versus-a-copy\n",
      "  self.obj[item] = s\n"
     ]
    }
   ],
   "source": [
    "col_list_radiant = list(gold_each_10th)[2:7]\n",
    "col_list_dire = list(gold_each_10th)[7:]\n",
    "\n",
    "gold_each_10th.loc[:, ('gold_team_radiant')]= gold_each_10th[col_list_radiant].sum(axis = 1)\n",
    "gold_each_10th.loc[:, ('gold_team_dire')] = gold_each_10th[col_list_dire].sum(axis = 1)\n",
    "gold_each_10th.loc[:, ('max_gold_team_radiant')] = gold_each_10th[col_list_radiant].max(axis = 1)\n",
    "gold_each_10th.loc[:, ('max_gold_team_dire')] = gold_each_10th[col_list_dire].max(axis = 1)\n",
    "lh_each_10th.loc[:, ('lh_team_radiant')] = lh_each_10th[col_list_radiant].sum(axis = 1)\n",
    "lh_each_10th.loc[:, ('lh_team_dire')] = lh_each_10th[col_list_dire].sum(axis = 1)\n",
    "\n",
    "gold_each_10th = gold_each_10th.drop(columns = list(gold_each_10th)[1:12])\n",
    "lh_each_10th = lh_each_10th.drop(columns = list(lh_each_10th)[1:12])"
   ]
  },
  {
   "cell_type": "code",
   "execution_count": 158,
   "metadata": {},
   "outputs": [],
   "source": [
    "train_gold = train.join(gold_each_10th.set_index('mid'), on='mid', rsuffix = '_gold')\n",
    "train_gold_lh = train_gold.join(lh_each_10th.set_index('mid'), on='mid', rsuffix = '_lh')"
   ]
  },
  {
   "cell_type": "markdown",
   "metadata": {},
   "source": [
    "Переделал train_gold_lh новые агрегаты и убрал старые значения, что использовались для агрегатов"
   ]
  },
  {
   "cell_type": "code",
   "execution_count": 159,
   "metadata": {},
   "outputs": [
    {
     "data": {
      "text/html": [
       "<div>\n",
       "<style scoped>\n",
       "    .dataframe tbody tr th:only-of-type {\n",
       "        vertical-align: middle;\n",
       "    }\n",
       "\n",
       "    .dataframe tbody tr th {\n",
       "        vertical-align: top;\n",
       "    }\n",
       "\n",
       "    .dataframe thead th {\n",
       "        text-align: right;\n",
       "    }\n",
       "</style>\n",
       "<table border=\"1\" class=\"dataframe\">\n",
       "  <thead>\n",
       "    <tr style=\"text-align: right;\">\n",
       "      <th></th>\n",
       "      <th>mid</th>\n",
       "      <th>radiant_won</th>\n",
       "      <th>gold_team_radiant</th>\n",
       "      <th>gold_team_dire</th>\n",
       "      <th>max_gold_team_radiant</th>\n",
       "      <th>max_gold_team_dire</th>\n",
       "      <th>lh_team_radiant</th>\n",
       "      <th>lh_team_dire</th>\n",
       "    </tr>\n",
       "  </thead>\n",
       "  <tbody>\n",
       "    <tr>\n",
       "      <th>0</th>\n",
       "      <td>0</td>\n",
       "      <td>1</td>\n",
       "      <td>21454</td>\n",
       "      <td>22095</td>\n",
       "      <td>5755</td>\n",
       "      <td>6384</td>\n",
       "      <td>148</td>\n",
       "      <td>192</td>\n",
       "    </tr>\n",
       "    <tr>\n",
       "      <th>1</th>\n",
       "      <td>1</td>\n",
       "      <td>0</td>\n",
       "      <td>22165</td>\n",
       "      <td>24536</td>\n",
       "      <td>5760</td>\n",
       "      <td>7659</td>\n",
       "      <td>157</td>\n",
       "      <td>144</td>\n",
       "    </tr>\n",
       "    <tr>\n",
       "      <th>2</th>\n",
       "      <td>2</td>\n",
       "      <td>1</td>\n",
       "      <td>21392</td>\n",
       "      <td>15548</td>\n",
       "      <td>8581</td>\n",
       "      <td>5130</td>\n",
       "      <td>174</td>\n",
       "      <td>99</td>\n",
       "    </tr>\n",
       "    <tr>\n",
       "      <th>3</th>\n",
       "      <td>4</td>\n",
       "      <td>1</td>\n",
       "      <td>18038</td>\n",
       "      <td>17484</td>\n",
       "      <td>5154</td>\n",
       "      <td>4458</td>\n",
       "      <td>143</td>\n",
       "      <td>101</td>\n",
       "    </tr>\n",
       "    <tr>\n",
       "      <th>4</th>\n",
       "      <td>5</td>\n",
       "      <td>1</td>\n",
       "      <td>16017</td>\n",
       "      <td>22041</td>\n",
       "      <td>4264</td>\n",
       "      <td>5389</td>\n",
       "      <td>96</td>\n",
       "      <td>145</td>\n",
       "    </tr>\n",
       "  </tbody>\n",
       "</table>\n",
       "</div>"
      ],
      "text/plain": [
       "   mid  radiant_won  gold_team_radiant  gold_team_dire  max_gold_team_radiant  \\\n",
       "0    0            1              21454           22095                   5755   \n",
       "1    1            0              22165           24536                   5760   \n",
       "2    2            1              21392           15548                   8581   \n",
       "3    4            1              18038           17484                   5154   \n",
       "4    5            1              16017           22041                   4264   \n",
       "\n",
       "   max_gold_team_dire  lh_team_radiant  lh_team_dire  \n",
       "0                6384              148           192  \n",
       "1                7659              157           144  \n",
       "2                5130              174            99  \n",
       "3                4458              143           101  \n",
       "4                5389               96           145  "
      ]
     },
     "execution_count": 159,
     "metadata": {},
     "output_type": "execute_result"
    }
   ],
   "source": [
    "train_new_parameters = train_gold_lh\n",
    "train_new_parameters.head()\n"
   ]
  },
  {
   "cell_type": "markdown",
   "metadata": {},
   "source": [
    "Сейчас и далее будем рассматривать следующие алгоритмы:\n",
    " - [Logistic Regression Classifier](https://scikit-learn.org/stable/modules/generated/sklearn.linear_model.LogisticRegression.html)\n",
    " - [C-Support Vector Classification](https://scikit-learn.org/stable/modules/generated/sklearn.svm.SVC.html)\n",
    " - [Multi-layer Perceptron Classifier](https://scikit-learn.org/stable/modules/generated/sklearn.neural_network.MLPClassifier.html)"
   ]
  },
  {
   "cell_type": "markdown",
   "metadata": {},
   "source": [
    "**Задание 3** (1.5 балла) \n",
    "\n",
    "Для каждого алгоритма выберете один гиперпараметр и подберите его оптимальное значение. Для подбора гиперпараметров воспользуйтесь перебором по сетке, который реализован в классе [GridSearchCV](http://scikit-learn.org/stable/modules/generated/sklearn.model_selection.GridSearchCV.html#sklearn.model_selection.GridSearchCV). В качестве схемы кросс-валидации используйте 5-Fold CV, которую можно задать с помощью класса [KFoldCV](http://scikit-learn.org/stable/modules/generated/sklearn.model_selection.KFold.html#sklearn.model_selection.KFold).\n",
    "\n",
    "Постройте график среднего значения качества по кросс-валидации алгоритма при заданном значении гиперпараметра, на котором также отобразите доверительный интервал. Для получения значения качества на каждом фолде, среднего значение качества и другой полезной информации можно воспользоваться полем [*cv results_*](http://scikit-learn.org/stable/modules/generated/sklearn.model_selection.GridSearchCV.html#sklearn.model_selection.GridSearchCV)\n",
    "\n",
    "У какого алгоритма наибольшее среднее значение качества? Наибольший доверительный интервал?"
   ]
  },
  {
   "cell_type": "code",
   "execution_count": 10,
   "metadata": {},
   "outputs": [],
   "source": [
    "from matplotlib import pyplot as plt\n",
    "import seaborn as sns\n",
    "from sklearn.linear_model import LogisticRegression\n",
    "from sklearn.neural_network import MLPClassifier\n",
    "# from sklearn.preprocessing import PolynomialFeatures\n",
    "from sklearn.model_selection import GridSearchCV\n",
    "from sklearn.model_selection import KFold\n",
    "# train_gold_lh_each_player - с данными про каждого игрока\n",
    "# train_new_parameters - с новыми данных про голду и ласт хиты без старых"
   ]
  },
  {
   "cell_type": "code",
   "execution_count": 11,
   "metadata": {},
   "outputs": [],
   "source": [
    "X = train_new_parameters\n",
    "log_reg_model = LogisticRegression()\n",
    "svm_model = sklearn.svm.SVC(kernel = 'rbf')\n",
    "mlpclassfier_model = MLPClassifier(activation = 'relu', solver = 'adam', alpha = 0.0001)\n",
    "\n",
    "log_reg_parameters = {'C':[0.0001, 0.1, 1, 10, 100, 10000]}\n",
    "svm_parameters = {'C':[0.001, 1, 100]}\n",
    "mlpclassfier_parameters = {'hidden_layer_sizes': [(50,50,50), (50,10), (100,), (10,), (1,)]}\n",
    "X.sort_values(by=['mid'])\n",
    "X_train = X.copy()\n",
    "y_train = X['radiant_won'].copy()\n",
    "X_train = X_train.drop(columns=['radiant_won', 'mid'])"
   ]
  },
  {
   "cell_type": "code",
   "execution_count": 18,
   "metadata": {},
   "outputs": [
    {
     "name": "stdout",
     "output_type": "stream",
     "text": [
      "Fitting 5 folds for each of 6 candidates, totalling 30 fits\n"
     ]
    },
    {
     "name": "stderr",
     "output_type": "stream",
     "text": [
      "[Parallel(n_jobs=-1)]: Using backend LokyBackend with 4 concurrent workers.\n",
      "[Parallel(n_jobs=-1)]: Done   5 tasks      | elapsed:    1.1s\n",
      "[Parallel(n_jobs=-1)]: Done  10 tasks      | elapsed:    1.2s\n",
      "[Parallel(n_jobs=-1)]: Done  17 tasks      | elapsed:    1.4s\n",
      "[Parallel(n_jobs=-1)]: Done  27 out of  30 | elapsed:    1.6s remaining:    0.2s\n",
      "[Parallel(n_jobs=-1)]: Done  30 out of  30 | elapsed:    1.7s finished\n"
     ]
    },
    {
     "data": {
      "text/plain": [
       "GridSearchCV(cv=KFold(n_splits=5, random_state=None, shuffle=False),\n",
       "             error_score=nan,\n",
       "             estimator=LogisticRegression(C=1.0, class_weight=None, dual=False,\n",
       "                                          fit_intercept=True,\n",
       "                                          intercept_scaling=1, l1_ratio=None,\n",
       "                                          max_iter=100, multi_class='auto',\n",
       "                                          n_jobs=None, penalty='l2',\n",
       "                                          random_state=None, solver='lbfgs',\n",
       "                                          tol=0.0001, verbose=0,\n",
       "                                          warm_start=False),\n",
       "             iid='deprecated', n_jobs=-1,\n",
       "             param_grid={'C': [0.0001, 0.1, 1, 10, 100, 10000]},\n",
       "             pre_dispatch='2*n_jobs', refit=True, return_train_score=False,\n",
       "             scoring=None, verbose=10)"
      ]
     },
     "execution_count": 18,
     "metadata": {},
     "output_type": "execute_result"
    }
   ],
   "source": [
    "from sklearn.model_selection import KFold\n",
    "log_reg_grid = GridSearchCV(log_reg_model, log_reg_parameters, verbose = 10, n_jobs=-1, cv=KFold())\n",
    "log_reg_grid.fit(X_train, y_train)"
   ]
  },
  {
   "cell_type": "code",
   "execution_count": 19,
   "metadata": {},
   "outputs": [
    {
     "name": "stdout",
     "output_type": "stream",
     "text": [
      "Fitting 5 folds for each of 3 candidates, totalling 15 fits\n"
     ]
    },
    {
     "name": "stderr",
     "output_type": "stream",
     "text": [
      "[Parallel(n_jobs=-1)]: Using backend LokyBackend with 4 concurrent workers.\n",
      "/home/elephant/anaconda3/lib/python3.7/site-packages/joblib/externals/loky/process_executor.py:706: UserWarning: A worker stopped while some jobs were given to the executor. This can be caused by a too short worker timeout or by a memory leak.\n",
      "  \"timeout or by a memory leak.\", UserWarning\n",
      "[Parallel(n_jobs=-1)]: Done   5 tasks      | elapsed:   44.9s\n",
      "[Parallel(n_jobs=-1)]: Done  10 out of  15 | elapsed:  1.1min remaining:   33.9s\n",
      "[Parallel(n_jobs=-1)]: Done  12 out of  15 | elapsed:  1.2min remaining:   18.2s\n",
      "[Parallel(n_jobs=-1)]: Done  15 out of  15 | elapsed:  1.5min finished\n"
     ]
    },
    {
     "data": {
      "text/plain": [
       "GridSearchCV(cv=KFold(n_splits=5, random_state=None, shuffle=False),\n",
       "             error_score=nan,\n",
       "             estimator=SVC(C=1.0, break_ties=False, cache_size=200,\n",
       "                           class_weight=None, coef0=0.0,\n",
       "                           decision_function_shape='ovr', degree=3,\n",
       "                           gamma='scale', kernel='rbf', max_iter=-1,\n",
       "                           probability=False, random_state=None, shrinking=True,\n",
       "                           tol=0.001, verbose=False),\n",
       "             iid='deprecated', n_jobs=-1, param_grid={'C': [0.001, 1, 100]},\n",
       "             pre_dispatch='2*n_jobs', refit=True, return_train_score=False,\n",
       "             scoring=None, verbose=10)"
      ]
     },
     "execution_count": 19,
     "metadata": {},
     "output_type": "execute_result"
    }
   ],
   "source": [
    "svm_grid = GridSearchCV(svm_model, svm_parameters, verbose = 10, n_jobs=-1, cv=KFold())\n",
    "svm_grid.fit(X_train, y_train)"
   ]
  },
  {
   "cell_type": "code",
   "execution_count": 20,
   "metadata": {
    "scrolled": true
   },
   "outputs": [
    {
     "name": "stdout",
     "output_type": "stream",
     "text": [
      "Fitting 5 folds for each of 5 candidates, totalling 25 fits\n"
     ]
    },
    {
     "name": "stderr",
     "output_type": "stream",
     "text": [
      "[Parallel(n_jobs=-1)]: Using backend LokyBackend with 4 concurrent workers.\n",
      "[Parallel(n_jobs=-1)]: Done   5 tasks      | elapsed:   34.9s\n",
      "[Parallel(n_jobs=-1)]: Done  10 tasks      | elapsed:   54.8s\n",
      "[Parallel(n_jobs=-1)]: Done  17 tasks      | elapsed:  1.3min\n",
      "[Parallel(n_jobs=-1)]: Done  21 out of  25 | elapsed:  1.4min remaining:   16.4s\n",
      "[Parallel(n_jobs=-1)]: Done  25 out of  25 | elapsed:  1.5min finished\n"
     ]
    },
    {
     "data": {
      "text/plain": [
       "GridSearchCV(cv=KFold(n_splits=5, random_state=None, shuffle=False),\n",
       "             error_score=nan,\n",
       "             estimator=MLPClassifier(activation='relu', alpha=0.0001,\n",
       "                                     batch_size='auto', beta_1=0.9,\n",
       "                                     beta_2=0.999, early_stopping=False,\n",
       "                                     epsilon=1e-08, hidden_layer_sizes=(100,),\n",
       "                                     learning_rate='constant',\n",
       "                                     learning_rate_init=0.001, max_fun=15000,\n",
       "                                     max_iter=200, momentum=0.9,\n",
       "                                     n_iter_no_change=10,\n",
       "                                     nesterovs_momentum=True, power_t=0.5,\n",
       "                                     random_state=None, shuffle=True,\n",
       "                                     solver='adam', tol=0.0001,\n",
       "                                     validation_fraction=0.1, verbose=False,\n",
       "                                     warm_start=False),\n",
       "             iid='deprecated', n_jobs=-1,\n",
       "             param_grid={'hidden_layer_sizes': [(50, 50, 50), (50, 10), (100,),\n",
       "                                                (10,), (1,)]},\n",
       "             pre_dispatch='2*n_jobs', refit=True, return_train_score=False,\n",
       "             scoring=None, verbose=10)"
      ]
     },
     "execution_count": 20,
     "metadata": {},
     "output_type": "execute_result"
    }
   ],
   "source": [
    "mlpclassfier_grid = GridSearchCV(mlpclassfier_model, mlpclassfier_parameters, verbose = 10, n_jobs=-1, cv=KFold())\n",
    "mlpclassfier_grid.fit(X_train, y_train)"
   ]
  },
  {
   "cell_type": "code",
   "execution_count": 21,
   "metadata": {},
   "outputs": [
    {
     "name": "stdout",
     "output_type": "stream",
     "text": [
      "mean 0.652 std (+/-0.004) for {'C': 0.0001}\n",
      "mean 0.652 std (+/-0.004) for {'C': 0.1}\n",
      "mean 0.652 std (+/-0.004) for {'C': 1}\n",
      "mean 0.652 std (+/-0.004) for {'C': 10}\n",
      "mean 0.652 std (+/-0.004) for {'C': 100}\n",
      "mean 0.652 std (+/-0.004) for {'C': 10000}\n",
      "mean 0.520 std (+/-0.004) for {'C': 0.001}\n",
      "mean 0.652 std (+/-0.003) for {'C': 1}\n",
      "mean 0.652 std (+/-0.004) for {'C': 100}\n",
      "mean 0.621 std (+/-0.028) for {'hidden_layer_sizes': (50, 50, 50)}\n",
      "mean 0.531 std (+/-0.048) for {'hidden_layer_sizes': (50, 10)}\n",
      "mean 0.545 std (+/-0.040) for {'hidden_layer_sizes': (100,)}\n",
      "mean 0.531 std (+/-0.018) for {'hidden_layer_sizes': (10,)}\n",
      "mean 0.520 std (+/-0.005) for {'hidden_layer_sizes': (1,)}\n"
     ]
    }
   ],
   "source": [
    "def get_mean_std_parameters(grid):\n",
    "    means = grid.cv_results_['mean_test_score']\n",
    "    stds = grid.cv_results_['std_test_score']\n",
    "    for mean, std, params in zip(means, stds, grid.cv_results_['params']):\n",
    "        print(\"mean %0.3f std (+/-%0.03f) for %r\" % (mean, std, params))\n",
    "\n",
    "get_mean_std_parameters(log_reg_grid)\n",
    "get_mean_std_parameters(svm_grid)\n",
    "get_mean_std_parameters(mlpclassfier_grid)"
   ]
  },
  {
   "cell_type": "code",
   "execution_count": 22,
   "metadata": {},
   "outputs": [
    {
     "data": {
      "image/png": "[encoded data removed]",
      "text/plain": [
       "<Figure size 1600x480 with 1 Axes>"
      ]
     },
     "metadata": {},
     "output_type": "display_data"
    }
   ],
   "source": [
    "def make_labels(number, estimator):\n",
    "    return list('est ' + str(estimator) + '\\n pr ' + str(i) for i in range(number))\n",
    "\n",
    "    \n",
    "from matplotlib.pyplot import figure\n",
    "    \n",
    "def show_hyper_parameters_new(title, grids):\n",
    "    fig = figure(num=None, figsize=(20, 6), dpi=80, facecolor='w', edgecolor='k')\n",
    "    \n",
    "    variations_of_parameters = 0\n",
    "    for grid in grids:\n",
    "        variations_of_parameters += len(grid.cv_results_['params'])\n",
    "        \n",
    "    ticks = list(range(variations_of_parameters))\n",
    "    all_labels = []\n",
    "    for i, grid in enumerate(grids):\n",
    "        all_labels += make_labels(len(grid.cv_results_['params']), i)\n",
    "    plt.xticks(ticks, all_labels)\n",
    "    \n",
    "    cur_len = 0\n",
    "    p = [0] * len(grids)\n",
    "    for i, grid in enumerate(grids):\n",
    "        y = np.array(grid.cv_results_['mean_test_score']) \n",
    "        e = np.array(grid.cv_results_['std_test_score'])\n",
    "        p[i] = plt.errorbar(range(cur_len, cur_len + len(grid.cv_results_['params'])), y, e, linestyle='None', marker='o')\n",
    "        cur_len += len(grid.cv_results_['params'])\n",
    "\n",
    "    fig.suptitle(title, fontsize=20)\n",
    "    plt.xlabel('hyperparameters for models', fontsize=18)\n",
    "    plt.ylabel('Mean score + std', fontsize=16)\n",
    "    fig.legend((i for i in p), ('log', 'svm', 'mlp'), loc=2, prop={'size': 20})\n",
    "    plt.show()\n",
    "\n",
    "show_hyper_parameters_new('GridSearch for log_reg svm mlp', [log_reg_grid, svm_grid, mlpclassfier_grid])"
   ]
  },
  {
   "cell_type": "markdown",
   "metadata": {},
   "source": [
    "Наибольшее среднее значение качества получилось у лог регрессии и свм-а, а наибольший доверительный интервал у MLP"
   ]
  },
  {
   "cell_type": "markdown",
   "metadata": {},
   "source": [
    "При обучении алгоритмов стоит обращать внимание не только на их качество, но и каким образом они работают с данными. В этой задаче получилось так, что некоторые из используемых алгоритмов чувствительны к масштабу признаков. Чтобы убедиться, что это могло повлиять на качество, давайте посмотрим на значения самих признаков."
   ]
  },
  {
   "cell_type": "markdown",
   "metadata": {},
   "source": [
    "**Задание 4** (1 балл) \n",
    "\n",
    "Посмотрите на значения признаков по gold и lh. В чем заключается особенность данных? На какие из рассматриваемых алгоритмов это может повлиять? Может ли масштабирование повлиять на работу этих алгоритмов?"
   ]
  },
  {
   "cell_type": "code",
   "execution_count": 12,
   "metadata": {},
   "outputs": [
    {
     "data": {
      "text/html": [
       "<div>\n",
       "<style scoped>\n",
       "    .dataframe tbody tr th:only-of-type {\n",
       "        vertical-align: middle;\n",
       "    }\n",
       "\n",
       "    .dataframe tbody tr th {\n",
       "        vertical-align: top;\n",
       "    }\n",
       "\n",
       "    .dataframe thead th {\n",
       "        text-align: right;\n",
       "    }\n",
       "</style>\n",
       "<table border=\"1\" class=\"dataframe\">\n",
       "  <thead>\n",
       "    <tr style=\"text-align: right;\">\n",
       "      <th></th>\n",
       "      <th>gold_team_radiant</th>\n",
       "      <th>gold_team_dire</th>\n",
       "      <th>max_gold_team_radiant</th>\n",
       "      <th>max_gold_team_dire</th>\n",
       "      <th>lh_team_radiant</th>\n",
       "      <th>lh_team_dire</th>\n",
       "    </tr>\n",
       "  </thead>\n",
       "  <tbody>\n",
       "    <tr>\n",
       "      <th>0</th>\n",
       "      <td>21454</td>\n",
       "      <td>22095</td>\n",
       "      <td>5755</td>\n",
       "      <td>6384</td>\n",
       "      <td>148</td>\n",
       "      <td>192</td>\n",
       "    </tr>\n",
       "    <tr>\n",
       "      <th>1</th>\n",
       "      <td>22165</td>\n",
       "      <td>24536</td>\n",
       "      <td>5760</td>\n",
       "      <td>7659</td>\n",
       "      <td>157</td>\n",
       "      <td>144</td>\n",
       "    </tr>\n",
       "    <tr>\n",
       "      <th>2</th>\n",
       "      <td>21392</td>\n",
       "      <td>15548</td>\n",
       "      <td>8581</td>\n",
       "      <td>5130</td>\n",
       "      <td>174</td>\n",
       "      <td>99</td>\n",
       "    </tr>\n",
       "    <tr>\n",
       "      <th>3</th>\n",
       "      <td>18038</td>\n",
       "      <td>17484</td>\n",
       "      <td>5154</td>\n",
       "      <td>4458</td>\n",
       "      <td>143</td>\n",
       "      <td>101</td>\n",
       "    </tr>\n",
       "    <tr>\n",
       "      <th>4</th>\n",
       "      <td>16017</td>\n",
       "      <td>22041</td>\n",
       "      <td>4264</td>\n",
       "      <td>5389</td>\n",
       "      <td>96</td>\n",
       "      <td>145</td>\n",
       "    </tr>\n",
       "  </tbody>\n",
       "</table>\n",
       "</div>"
      ],
      "text/plain": [
       "   gold_team_radiant  gold_team_dire  max_gold_team_radiant  \\\n",
       "0              21454           22095                   5755   \n",
       "1              22165           24536                   5760   \n",
       "2              21392           15548                   8581   \n",
       "3              18038           17484                   5154   \n",
       "4              16017           22041                   4264   \n",
       "\n",
       "   max_gold_team_dire  lh_team_radiant  lh_team_dire  \n",
       "0                6384              148           192  \n",
       "1                7659              157           144  \n",
       "2                5130              174            99  \n",
       "3                4458              143           101  \n",
       "4                5389               96           145  "
      ]
     },
     "execution_count": 12,
     "metadata": {},
     "output_type": "execute_result"
    }
   ],
   "source": [
    "import seaborn as sns\n",
    "X_train.head()"
   ]
  },
  {
   "cell_type": "markdown",
   "metadata": {},
   "source": [
    "Буду смотреть сразу для агрегаты. Для изначальных данных я посмотрел, но ничего того, чего нет на агрегатах не увидел."
   ]
  },
  {
   "cell_type": "code",
   "execution_count": 13,
   "metadata": {},
   "outputs": [
    {
     "name": "stdout",
     "output_type": "stream",
     "text": [
      "(24974, 6)\n"
     ]
    },
    {
     "data": {
      "image/png": "[encoded data removed]",
      "text/plain": [
       "<Figure size 1008x1008 with 6 Axes>"
      ]
     },
     "metadata": {
      "needs_background": "light"
     },
     "output_type": "display_data"
    }
   ],
   "source": [
    "print(X_train.shape)\n",
    "outliers_checker, axs = plt.subplots(len(X_train.columns) // 2, 2, figsize = (14, 14))\n",
    "outliers_checker.suptitle('Each column in X_train')\n",
    "for i, col in enumerate(X_train.columns):\n",
    "    axs[i // 2][i % 2].boxplot(X_train[col])\n",
    "    axs[i // 2][i % 2].set_title(col)\n",
    "for ax in axs.flat:\n",
    "    ax.set(xlabel='value')\n",
    "for ax in axs.flat:\n",
    "    ax.label_outer()    \n",
    "   \n",
    "plt.show()"
   ]
  },
  {
   "cell_type": "code",
   "execution_count": 14,
   "metadata": {},
   "outputs": [
    {
     "data": {
      "image/png": "[encoded data removed]",
      "text/plain": [
       "<Figure size 1440x360 with 6 Axes>"
      ]
     },
     "metadata": {
      "needs_background": "light"
     },
     "output_type": "display_data"
    }
   ],
   "source": [
    "fig_hist, axes_hist = plt.subplots(2, 3, figsize=(20, 5))\n",
    "colors = ['tab:red', 'tab:blue', 'tab:green', 'tab:pink', 'tab:olive', 'tab:blue']\n",
    "n_bins = 20\n",
    "\n",
    "for i, col in enumerate(X_train.columns):   \n",
    "    axes_hist[i // 3][i % 3].hist(X_train[col], bins=100, label=str(col), color=colors[i])\n",
    "    axes_hist[i // 3][i % 3].set_title(col)\n",
    "\n",
    "plt.suptitle('Probability Histogram of Values', y=1.05, size=16)\n",
    "plt.tight_layout();"
   ]
  },
  {
   "cell_type": "markdown",
   "metadata": {},
   "source": [
    "### Поиск выбросов\n",
    "\n",
    "Сделал некотору проверку на выбросы, т.к. они могут очень сильно помешать при масштабировании, особенно если данные ну уж сооовсем неадекватные (при вводе человек добавил лишних пару нулей к примеру, или ещё что :) )\n",
    "\n",
    "На самом деле данные реальны, но видно, что одна игра выделяется среди всех, не то, чтобы очень сильно, но на графиках для 25000 игр она единственная такая, где игроки успели столько золота заработать (есть подозрение что адекватная такая игра невозможна, т.к. чтобы к 10 минутам заработать столько голды нужно чтобы все герои убивали своих крипов и потом сразу же умирали друг для друга, и при том чтобы так делали все из обоих команд на протяжении всех 10 минут! может я конечно и ошибаюсь, но если найти сколько голды получаешь за крипов и убийство, и как часто появляются крипы, плюс время на рес и т.д., то легко можно было бы найти те игры где происходило что-то совсем непонятное, и не характерное для нормальной игры, и возможно у нас такие есть и такие данные об играх)"
   ]
  },
  {
   "cell_type": "markdown",
   "metadata": {},
   "source": [
    "### Как данные влияют на алгоритмы и стоит ли их масштабировать\n",
    "\n",
    "Для одних фич значения между первым и третьим квартилем лежат в диапазоне 18000-22000, а для других в 120-160, что может повлиять на работу наших алгоритмов. У всех данных распределение нормальное.\n",
    "\n",
    "Logistic_regression - для оптимизации мы используем градиентный спуск (значение градиента! а не просто его знак как в некоторых нейронках), а в шаге градинтного спуска при подсчётах мы учитываем какие значения у наших данных. Если данные не отмаштабированны, то может возникнуть такая фича с огромным значением, что она будет доминировать в влиянии на градиент некоторое количество шагов, а если мы отмаштабируем данные, то весы для всех фич будут сразу настраиваться вместе на более менее похожей скорости, что значительно ускорит схождение алгоритма. А ещё важно от чего мы считаем градиент, Как ты Витя говорил, если у нас функция активации - сигмоида, то производная для большого значения будет равна примерно 0, и в итоге наше обучение вообще будет стоять на месте в некоторых местах. Так что для этих двух алгоритмов масштабирование не влияет на качество ответа, но влияет на процесс обучения (ну и конечно такие моменты, когда у нас не сходится алгоритм из-за значений данных, то тут и на ответ повлияет, как никак шагов же ограниченное количество, или нашли локальный оптимум и не можем из него выбраться, но лог регрессия всё же легче переживает немасштабированные в отличие от MLP, и ниже это будет видно).\n",
    "\n",
    "SVM - тут для нас величины вообще очень важны, т.к. в алгоритме мы смотрим на расстояние между точками. \"важность\" фичи будет сильно зависеть от её значения, поэтому если данные неотмасштабированны, то на результат алгоритма значительно сильнее будет влиять та фича, у которой просто больше значения, а мы явно такого не хотим. Тут масштабирование влияет на точность.\n",
    "\n",
    "MLPClassifier - по сути то же, что сказано и для лог регрессии, и про локальный оптимум, и про угасание и взрыв градиента, очень нужно масштабирование данных.\n",
    "\n",
    "Документация, это касается SVM с rbf ядром, поэтому фича с большей дисперсией не даёт модели учиться на фичах с меньшей дисперсией:\n",
    "https://scikit-learn.org/stable/modules/preprocessing.html#standardization-or-mean-removal-and-variance-scaling\n",
    "Standardization of datasets is a common requirement for many machine learning estimators implemented in scikit-learn; they might behave badly if the individual features do not more or less look like standard normally distributed data: Gaussian with zero mean and unit variance.\n",
    "\n",
    "Так же ещё из одного источника нашёл про NN, что нормализация может ускорить обучение, как я понимаю MLPClassifier это касается?:\n",
    "If you have a neural network and just apply an affine transformation to your data, the network does not lose or gain anything in theory. In practice, however, a neural network works best if the inputs are centered and white. That means that their covariance is diagonal and the mean is the zero vector. Why does it improve things? It is only because the optimisation of the neural net works more gracefully, since the hidden activation functions don't saturate that fast and thus do not give you near zero gradients early on in learning."
   ]
  },
  {
   "cell_type": "markdown",
   "metadata": {},
   "source": [
    "Масштабирование признаков можно выполнить, например, одним из следующих способов:\n",
    " - $x_{new} = \\dfrac{x - \\mu}{\\sigma}$, где $\\mu, \\sigma$ — среднее и стандартное отклонение значения признака по всей выборке (см. функцию [scale](http://scikit-learn.org/stable/modules/generated/sklearn.preprocessing.scale.html))\n",
    " - $x_{new} = \\dfrac{x - x_{min}}{x_{max} - x_{min}}$, где $[x_{min}, x_{max}]$ — минимальный интервал значений признака\n",
    "\n",
    "Похожие схемы масштабирования приведены в классах [StandardScaler](http://scikit-learn.org/stable/modules/generated/sklearn.preprocessing.StandardScaler.html#sklearn.preprocessing.StandardScaler) и [MinMaxScaler](http://scikit-learn.org/stable/modules/generated/sklearn.preprocessing.MinMaxScaler.html#sklearn.preprocessing.MinMaxScaler).\n",
    " "
   ]
  },
  {
   "cell_type": "markdown",
   "metadata": {},
   "source": [
    "**Задание 5** (1.5 балла) \n",
    "\n",
    "Отмасштабируйте все вещественные признаки одним из указанных выше способов и подберите оптимальные значения гиперпараметров аналогично пункту выше.\n",
    "\n",
    "Изменилось ли качество алгоритмов и почему?"
   ]
  },
  {
   "cell_type": "code",
   "execution_count": 15,
   "metadata": {},
   "outputs": [],
   "source": [
    "from sklearn.preprocessing import StandardScaler, MinMaxScaler\n",
    "from sklearn.pipeline import Pipeline"
   ]
  },
  {
   "cell_type": "code",
   "execution_count": 720,
   "metadata": {},
   "outputs": [
    {
     "name": "stdout",
     "output_type": "stream",
     "text": [
      "Fitting 5 folds for each of 6 candidates, totalling 30 fits\n"
     ]
    },
    {
     "name": "stderr",
     "output_type": "stream",
     "text": [
      "[Parallel(n_jobs=-1)]: Using backend LokyBackend with 4 concurrent workers.\n",
      "[Parallel(n_jobs=-1)]: Batch computation too fast (0.1969s.) Setting batch_size=2.\n",
      "[Parallel(n_jobs=-1)]: Done   5 tasks      | elapsed:    0.2s\n",
      "[Parallel(n_jobs=-1)]: Batch computation too fast (0.1131s.) Setting batch_size=4.\n",
      "[Parallel(n_jobs=-1)]: Done  12 tasks      | elapsed:    0.3s\n"
     ]
    },
    {
     "name": "stdout",
     "output_type": "stream",
     "text": [
      "\n"
     ]
    },
    {
     "name": "stderr",
     "output_type": "stream",
     "text": [
      "[Parallel(n_jobs=-1)]: Done  27 out of  30 | elapsed:    0.5s remaining:    0.1s\n",
      "[Parallel(n_jobs=-1)]: Done  30 out of  30 | elapsed:    0.5s finished\n"
     ]
    }
   ],
   "source": [
    "log_reg_parameters = {'est__C':[0.0001, 0.1, 1, 10, 100, 10000]}\n",
    "\n",
    "log_reg_pipe = Pipeline([\n",
    "    ('scale', StandardScaler()),\n",
    "    ('est', LogisticRegression())\n",
    "])\n",
    "\n",
    "log_reg_grid_std_scaler = GridSearchCV(log_reg_pipe, log_reg_parameters, verbose = 10, n_jobs=-1, cv=KFold())\n",
    "log_reg_grid_std_scaler.fit(X_train, y_train)\n",
    "print()"
   ]
  },
  {
   "cell_type": "code",
   "execution_count": 721,
   "metadata": {},
   "outputs": [
    {
     "name": "stderr",
     "output_type": "stream",
     "text": [
      "[Parallel(n_jobs=-1)]: Using backend LokyBackend with 4 concurrent workers.\n"
     ]
    },
    {
     "name": "stdout",
     "output_type": "stream",
     "text": [
      "Fitting 5 folds for each of 5 candidates, totalling 25 fits\n"
     ]
    },
    {
     "name": "stderr",
     "output_type": "stream",
     "text": [
      "[Parallel(n_jobs=-1)]: Done   5 tasks      | elapsed:  1.1min\n",
      "[Parallel(n_jobs=-1)]: Done  10 tasks      | elapsed:  1.5min\n",
      "[Parallel(n_jobs=-1)]: Done  17 tasks      | elapsed:  1.6min\n",
      "[Parallel(n_jobs=-1)]: Done  21 out of  25 | elapsed:  1.7min remaining:   19.6s\n",
      "[Parallel(n_jobs=-1)]: Done  25 out of  25 | elapsed:  1.8min finished\n"
     ]
    },
    {
     "data": {
      "text/plain": [
       "GridSearchCV(cv=KFold(n_splits=5, random_state=None, shuffle=False),\n",
       "             error_score=nan,\n",
       "             estimator=Pipeline(memory=None,\n",
       "                                steps=[('scale',\n",
       "                                        StandardScaler(copy=True,\n",
       "                                                       with_mean=True,\n",
       "                                                       with_std=True)),\n",
       "                                       ('est',\n",
       "                                        MLPClassifier(activation='relu',\n",
       "                                                      alpha=0.0001,\n",
       "                                                      batch_size='auto',\n",
       "                                                      beta_1=0.9, beta_2=0.999,\n",
       "                                                      early_stopping=False,\n",
       "                                                      epsilon=1e-08,\n",
       "                                                      hidden_layer_sizes=(100,),\n",
       "                                                      learning_r...\n",
       "                                                      nesterovs_momentum=True,\n",
       "                                                      power_t=0.5,\n",
       "                                                      random_state=None,\n",
       "                                                      shuffle=True,\n",
       "                                                      solver='adam', tol=0.0001,\n",
       "                                                      validation_fraction=0.1,\n",
       "                                                      verbose=False,\n",
       "                                                      warm_start=False))],\n",
       "                                verbose=False),\n",
       "             iid='deprecated', n_jobs=-1,\n",
       "             param_grid={'est__hidden_layer_sizes': [(50, 50, 50), (50, 10),\n",
       "                                                     (100,), (10,), (1,)]},\n",
       "             pre_dispatch='2*n_jobs', refit=True, return_train_score=False,\n",
       "             scoring=None, verbose=10)"
      ]
     },
     "execution_count": 721,
     "metadata": {},
     "output_type": "execute_result"
    }
   ],
   "source": [
    "mlpclassfier_parameters = {'est__hidden_layer_sizes': [(50,50,50), (50,10), (100,), (10,), (1,)]}\n",
    "\n",
    "# mlpclassfier_parameters = {'est__hidden_layer_sizes': [(50,50,50), (50,100,50), (100,), (150,), (200,)]}\n",
    "\n",
    "mlp_pipe = Pipeline([\n",
    "    ('scale', StandardScaler()),\n",
    "    ('est', MLPClassifier())\n",
    "])\n",
    "mlpclassfier_grid_std_scaler = GridSearchCV(mlp_pipe, mlpclassfier_parameters, verbose = 10, n_jobs=-1, cv=KFold())\n",
    "mlpclassfier_grid_std_scaler.fit(X_train, y_train)\n",
    "print()"
   ]
  },
  {
   "cell_type": "code",
   "execution_count": 734,
   "metadata": {},
   "outputs": [
    {
     "name": "stdout",
     "output_type": "stream",
     "text": [
      "Fitting 5 folds for each of 3 candidates, totalling 15 fits\n"
     ]
    },
    {
     "name": "stderr",
     "output_type": "stream",
     "text": [
      "[Parallel(n_jobs=-1)]: Using backend LokyBackend with 4 concurrent workers.\n",
      "/home/elephant/anaconda3/lib/python3.7/site-packages/joblib/externals/loky/process_executor.py:706: UserWarning: A worker stopped while some jobs were given to the executor. This can be caused by a too short worker timeout or by a memory leak.\n",
      "  \"timeout or by a memory leak.\", UserWarning\n",
      "[Parallel(n_jobs=-1)]: Done   5 tasks      | elapsed:   48.3s\n",
      "[Parallel(n_jobs=-1)]: Done  10 out of  15 | elapsed:  1.2min remaining:   35.5s\n",
      "[Parallel(n_jobs=-1)]: Done  12 out of  15 | elapsed:  3.1min remaining:   45.8s\n",
      "[Parallel(n_jobs=-1)]: Done  15 out of  15 | elapsed:  4.1min finished\n"
     ]
    },
    {
     "name": "stdout",
     "output_type": "stream",
     "text": [
      "\n"
     ]
    }
   ],
   "source": [
    "svm_parameters = {'est__C':[0.001, 1, 100]}\n",
    "\n",
    "svm_pipe = Pipeline([\n",
    "    ('scale', StandardScaler()),\n",
    "    ('est', sklearn.svm.SVC())\n",
    "])\n",
    "\n",
    "svm_grid_std_scaler = GridSearchCV(svm_pipe, svm_parameters, verbose = 10, n_jobs=-1, cv=KFold())\n",
    "svm_grid_std_scaler.fit(X_train, y_train)\n",
    "print()"
   ]
  },
  {
   "cell_type": "code",
   "execution_count": 735,
   "metadata": {},
   "outputs": [
    {
     "data": {
      "image/png": "[encoded data removed]",
      "text/plain": [
       "<Figure size 1600x480 with 1 Axes>"
      ]
     },
     "metadata": {},
     "output_type": "display_data"
    }
   ],
   "source": [
    "show_hyper_parameters_new('GridSearch for log svm mlp on standarized data', [log_reg_grid_std_scaler, svm_grid_std_scaler, mlpclassfier_grid_std_scaler])"
   ]
  },
  {
   "cell_type": "code",
   "execution_count": 28,
   "metadata": {},
   "outputs": [
    {
     "name": "stdout",
     "output_type": "stream",
     "text": [
      "Fitting 5 folds for each of 6 candidates, totalling 30 fits\n"
     ]
    },
    {
     "name": "stderr",
     "output_type": "stream",
     "text": [
      "[Parallel(n_jobs=-1)]: Using backend LokyBackend with 4 concurrent workers.\n",
      "[Parallel(n_jobs=-1)]: Done   5 tasks      | elapsed:    0.8s\n",
      "[Parallel(n_jobs=-1)]: Done  10 tasks      | elapsed:    0.9s\n",
      "[Parallel(n_jobs=-1)]: Done  17 tasks      | elapsed:    1.0s\n",
      "[Parallel(n_jobs=-1)]: Batch computation too fast (0.1814s.) Setting batch_size=2.\n",
      "[Parallel(n_jobs=-1)]: Done  27 out of  30 | elapsed:    1.2s remaining:    0.1s\n",
      "[Parallel(n_jobs=-1)]: Done  30 out of  30 | elapsed:    1.2s finished\n",
      "[Parallel(n_jobs=-1)]: Using backend LokyBackend with 4 concurrent workers.\n"
     ]
    },
    {
     "name": "stdout",
     "output_type": "stream",
     "text": [
      "Fitting 5 folds for each of 3 candidates, totalling 15 fits\n"
     ]
    },
    {
     "name": "stderr",
     "output_type": "stream",
     "text": [
      "[Parallel(n_jobs=-1)]: Done   5 tasks      | elapsed:   42.5s\n",
      "[Parallel(n_jobs=-1)]: Done  10 out of  15 | elapsed:  1.0min remaining:   31.4s\n",
      "/home/elephant/anaconda3/lib/python3.7/site-packages/joblib/externals/loky/process_executor.py:706: UserWarning: A worker stopped while some jobs were given to the executor. This can be caused by a too short worker timeout or by a memory leak.\n",
      "  \"timeout or by a memory leak.\", UserWarning\n",
      "[Parallel(n_jobs=-1)]: Done  12 out of  15 | elapsed:  2.1min remaining:   31.4s\n",
      "[Parallel(n_jobs=-1)]: Done  15 out of  15 | elapsed:  2.7min finished\n"
     ]
    },
    {
     "name": "stdout",
     "output_type": "stream",
     "text": [
      "Fitting 5 folds for each of 5 candidates, totalling 25 fits\n"
     ]
    },
    {
     "name": "stderr",
     "output_type": "stream",
     "text": [
      "[Parallel(n_jobs=-1)]: Using backend LokyBackend with 4 concurrent workers.\n",
      "[Parallel(n_jobs=-1)]: Done   5 tasks      | elapsed:   10.7s\n",
      "[Parallel(n_jobs=-1)]: Done  10 tasks      | elapsed:   15.5s\n",
      "[Parallel(n_jobs=-1)]: Done  17 tasks      | elapsed:   23.2s\n",
      "[Parallel(n_jobs=-1)]: Done  21 out of  25 | elapsed:   24.7s remaining:    4.7s\n",
      "[Parallel(n_jobs=-1)]: Done  25 out of  25 | elapsed:   27.6s finished\n"
     ]
    },
    {
     "name": "stdout",
     "output_type": "stream",
     "text": [
      "\n"
     ]
    }
   ],
   "source": [
    "log_reg_parameters = {'est__C':[0.0001, 0.1, 1, 10, 100, 10000]}\n",
    "mlpclassfier_parameters = {'est__hidden_layer_sizes': [(50,50,50), (50,10), (100,), (10,), (1,)]}\n",
    "svm_parameters = {'est__C':[0.001, 1, 100]}\n",
    "\n",
    "log_reg_pipe = Pipeline([\n",
    "    ('scale', MinMaxScaler()),\n",
    "    ('est', LogisticRegression())\n",
    "])\n",
    "\n",
    "svm_pipe = Pipeline([\n",
    "    ('scale', MinMaxScaler()),\n",
    "    ('est', sklearn.svm.SVC())\n",
    "])\n",
    "\n",
    "mlp_pipe = Pipeline([\n",
    "    ('scale', MinMaxScaler()),\n",
    "    ('est', MLPClassifier())\n",
    "])\n",
    "\n",
    "log_reg_grid_minmax = GridSearchCV(log_reg_pipe, log_reg_parameters, verbose = 10, n_jobs=-1, cv=KFold())\n",
    "log_reg_grid_minmax.fit(X_train, y_train)\n",
    "svm_grid_minmax = GridSearchCV(svm_pipe, svm_parameters, verbose = 10, n_jobs=-1, cv=KFold())\n",
    "svm_grid_minmax.fit(X_train, y_train)\n",
    "mlpclassfier_grid_minmax = GridSearchCV(mlp_pipe, mlpclassfier_parameters, verbose = 10, n_jobs=-1, cv=KFold())\n",
    "mlpclassfier_grid_minmax.fit(X_train, y_train)\n",
    "print()"
   ]
  },
  {
   "cell_type": "code",
   "execution_count": 29,
   "metadata": {},
   "outputs": [
    {
     "data": {
      "image/png": "[encoded data removed]",
      "text/plain": [
       "<Figure size 1600x480 with 1 Axes>"
      ]
     },
     "metadata": {},
     "output_type": "display_data"
    }
   ],
   "source": [
    "show_hyper_parameters_new('GridSearch for log svm mlp on normalized data', [log_reg_grid_minmax, svm_grid_minmax, mlpclassfier_grid_minmax])"
   ]
  },
  {
   "cell_type": "markdown",
   "metadata": {},
   "source": [
    "Качество работы для лог регресси не изменилось, хотя вот при нормализации с одним набором параметров оно то ли не успело сойтись до конца из-за ограничения шагов, ведь качество упало, но только для одного набора. Так же немало рассказано в прошлом пункте.\n",
    "\n",
    "Качество SVM сильно выросло, особенно для первого набора гиперпараметров, примерно на +0.1. Выше подробно описывал собственно с чем это связано.\n",
    "\n",
    "MLP качество тоже сильно выросло. Интерсно так, что в общем все наборы параметров одинаковый результат прмиерно показывают, но есть один набор для стандаризации который не очень подходит, и для нормализации, и наборы параметров разные. Возможно в этот раз было меньше угасания и взрывов градиента, и мы не остались в локальном оптимуме."
   ]
  },
  {
   "cell_type": "markdown",
   "metadata": {},
   "source": [
    "**Задание 6** (2 балла) \n",
    "\n",
    "Теперь сделайте перебор нескольких гиперпараметров по сетке и найдите оптимальные комбинации (лучшее среднее значение качества) для каждого алгоритма. Какие гиперпараметры вы настраивали? Удалось ли улучшить качество алгоритмов?"
   ]
  },
  {
   "cell_type": "code",
   "execution_count": 30,
   "metadata": {},
   "outputs": [
    {
     "name": "stdout",
     "output_type": "stream",
     "text": [
      "Fitting 5 folds for each of 18 candidates, totalling 90 fits\n"
     ]
    },
    {
     "name": "stderr",
     "output_type": "stream",
     "text": [
      "[Parallel(n_jobs=-1)]: Using backend LokyBackend with 4 concurrent workers.\n",
      "[Parallel(n_jobs=-1)]: Batch computation too fast (0.0872s.) Setting batch_size=2.\n",
      "[Parallel(n_jobs=-1)]: Done   5 tasks      | elapsed:    0.1s\n",
      "[Parallel(n_jobs=-1)]: Batch computation too fast (0.1191s.) Setting batch_size=4.\n",
      "[Parallel(n_jobs=-1)]: Done  12 tasks      | elapsed:    0.2s\n",
      "[Parallel(n_jobs=-1)]: Done  28 tasks      | elapsed:    0.6s\n",
      "[Parallel(n_jobs=-1)]: Done  56 tasks      | elapsed:    1.0s\n"
     ]
    },
    {
     "name": "stdout",
     "output_type": "stream",
     "text": [
      "\n"
     ]
    },
    {
     "name": "stderr",
     "output_type": "stream",
     "text": [
      "[Parallel(n_jobs=-1)]: Done  90 out of  90 | elapsed:    1.5s finished\n"
     ]
    }
   ],
   "source": [
    "log_reg_final_hyperparameters = {'est__C':[0.0001, 0.1, 1, 10, 100, 10000],\n",
    "                      'est__solver':['newton-cg', 'lbfgs', 'liblinear']}\n",
    "\n",
    "log_reg_pipe_final_hyperparameters = Pipeline([\n",
    "    ('scale', StandardScaler()),\n",
    "    ('est', LogisticRegression())\n",
    "])\n",
    "\n",
    "log_reg_grid_final = GridSearchCV(log_reg_pipe_final_hyperparameters, log_reg_final_hyperparameters, verbose = 10, n_jobs=-1, cv=KFold())\n",
    "log_reg_grid_final.fit(X_train, y_train)\n",
    "print()"
   ]
  },
  {
   "cell_type": "code",
   "execution_count": 31,
   "metadata": {},
   "outputs": [
    {
     "name": "stderr",
     "output_type": "stream",
     "text": [
      "[Parallel(n_jobs=-1)]: Using backend LokyBackend with 4 concurrent workers.\n"
     ]
    },
    {
     "name": "stdout",
     "output_type": "stream",
     "text": [
      "Fitting 5 folds for each of 90 candidates, totalling 450 fits\n"
     ]
    },
    {
     "name": "stderr",
     "output_type": "stream",
     "text": [
      "[Parallel(n_jobs=-1)]: Done   5 tasks      | elapsed:    2.5s\n",
      "[Parallel(n_jobs=-1)]: Done  10 tasks      | elapsed:   10.8s\n",
      "[Parallel(n_jobs=-1)]: Done  17 tasks      | elapsed:   14.7s\n",
      "[Parallel(n_jobs=-1)]: Done  24 tasks      | elapsed:   20.6s\n",
      "[Parallel(n_jobs=-1)]: Done  33 tasks      | elapsed:   31.3s\n",
      "[Parallel(n_jobs=-1)]: Done  42 tasks      | elapsed:  1.0min\n",
      "[Parallel(n_jobs=-1)]: Done  53 tasks      | elapsed:  1.2min\n",
      "[Parallel(n_jobs=-1)]: Done  64 tasks      | elapsed:  1.5min\n",
      "[Parallel(n_jobs=-1)]: Done  77 tasks      | elapsed:  1.6min\n",
      "[Parallel(n_jobs=-1)]: Done  90 tasks      | elapsed:  1.9min\n",
      "[Parallel(n_jobs=-1)]: Done 105 tasks      | elapsed:  2.6min\n",
      "[Parallel(n_jobs=-1)]: Done 120 tasks      | elapsed:  2.8min\n",
      "[Parallel(n_jobs=-1)]: Done 137 tasks      | elapsed:  3.1min\n",
      "[Parallel(n_jobs=-1)]: Done 154 tasks      | elapsed:  4.0min\n",
      "[Parallel(n_jobs=-1)]: Done 173 tasks      | elapsed:  4.3min\n",
      "[Parallel(n_jobs=-1)]: Done 192 tasks      | elapsed:  4.6min\n",
      "[Parallel(n_jobs=-1)]: Done 213 tasks      | elapsed:  5.7min\n",
      "[Parallel(n_jobs=-1)]: Done 234 tasks      | elapsed:  5.9min\n",
      "[Parallel(n_jobs=-1)]: Done 257 tasks      | elapsed:  6.9min\n",
      "[Parallel(n_jobs=-1)]: Done 280 tasks      | elapsed:  7.2min\n",
      "[Parallel(n_jobs=-1)]: Done 305 tasks      | elapsed:  7.9min\n",
      "[Parallel(n_jobs=-1)]: Done 330 tasks      | elapsed:  8.5min\n",
      "[Parallel(n_jobs=-1)]: Done 357 tasks      | elapsed: 10.1min\n",
      "[Parallel(n_jobs=-1)]: Done 384 tasks      | elapsed: 10.5min\n",
      "[Parallel(n_jobs=-1)]: Done 413 tasks      | elapsed: 12.0min\n",
      "[Parallel(n_jobs=-1)]: Done 442 tasks      | elapsed: 12.5min\n",
      "[Parallel(n_jobs=-1)]: Done 450 out of 450 | elapsed: 13.3min finished\n"
     ]
    },
    {
     "name": "stdout",
     "output_type": "stream",
     "text": [
      "\n"
     ]
    }
   ],
   "source": [
    "mlpclassfier_final_hyperparameters = {'est__hidden_layer_sizes': [(10,30,10),(20,), (50), (100,), (100,50)],\n",
    "    'est__activation': ['logistic', 'tanh', 'relu'],\n",
    "    'est__solver': ['sgd', 'adam'],\n",
    "    'est__alpha': [0.00001, 0.0001, 0.05],}\n",
    "\n",
    "mlp_pipe_final_hyperparameters = Pipeline([\n",
    "    ('scale', StandardScaler()),\n",
    "    ('est', MLPClassifier())\n",
    "])\n",
    "\n",
    "mlpclassfier_grid_final = GridSearchCV(mlp_pipe_final_hyperparameters, mlpclassfier_final_hyperparameters, verbose = 10, n_jobs=-1, cv=KFold())\n",
    "mlpclassfier_grid_final.fit(X_train, y_train)\n",
    "print()"
   ]
  },
  {
   "cell_type": "code",
   "execution_count": 34,
   "metadata": {},
   "outputs": [
    {
     "name": "stdout",
     "output_type": "stream",
     "text": [
      "Fitting 5 folds for each of 9 candidates, totalling 45 fits\n"
     ]
    },
    {
     "name": "stderr",
     "output_type": "stream",
     "text": [
      "[Parallel(n_jobs=-1)]: Using backend LokyBackend with 4 concurrent workers.\n",
      "[Parallel(n_jobs=-1)]: Done   5 tasks      | elapsed:   42.9s\n",
      "[Parallel(n_jobs=-1)]: Done  10 tasks      | elapsed:  1.1min\n",
      "[Parallel(n_jobs=-1)]: Done  17 tasks      | elapsed:  1.9min\n",
      "/home/elephant/anaconda3/lib/python3.7/site-packages/joblib/externals/loky/process_executor.py:706: UserWarning: A worker stopped while some jobs were given to the executor. This can be caused by a too short worker timeout or by a memory leak.\n",
      "  \"timeout or by a memory leak.\", UserWarning\n",
      "[Parallel(n_jobs=-1)]: Done  24 tasks      | elapsed:  3.3min\n",
      "[Parallel(n_jobs=-1)]: Done  33 tasks      | elapsed:  6.3min\n",
      "[Parallel(n_jobs=-1)]: Done  43 out of  45 | elapsed: 15.9min remaining:   44.3s\n",
      "[Parallel(n_jobs=-1)]: Done  45 out of  45 | elapsed: 16.6min finished\n"
     ]
    },
    {
     "data": {
      "text/plain": [
       "GridSearchCV(cv=KFold(n_splits=5, random_state=None, shuffle=False),\n",
       "             error_score=nan,\n",
       "             estimator=Pipeline(memory=None,\n",
       "                                steps=[('scale',\n",
       "                                        StandardScaler(copy=True,\n",
       "                                                       with_mean=True,\n",
       "                                                       with_std=True)),\n",
       "                                       ('est',\n",
       "                                        SVC(C=1.0, break_ties=False,\n",
       "                                            cache_size=200, class_weight=None,\n",
       "                                            coef0=0.0,\n",
       "                                            decision_function_shape='ovr',\n",
       "                                            degree=3, gamma='scale',\n",
       "                                            kernel='rbf', max_iter=-1,\n",
       "                                            probability=False,\n",
       "                                            random_state=None, shrinking=True,\n",
       "                                            tol=0.001, verbose=False))],\n",
       "                                verbose=False),\n",
       "             iid='deprecated', n_jobs=-1,\n",
       "             param_grid={'est__C': [0.001, 10, 100],\n",
       "                         'est__gamma': [0.001, 1, 100]},\n",
       "             pre_dispatch='2*n_jobs', refit=True, return_train_score=False,\n",
       "             scoring=None, verbose=10)"
      ]
     },
     "execution_count": 34,
     "metadata": {},
     "output_type": "execute_result"
    }
   ],
   "source": [
    "svm_final_hyperparameters = {'est__C': [0.001, 10, 100],  \n",
    "              'est__gamma': [0.001, 1, 100], \n",
    "                    }\n",
    "\n",
    "svm_pipe_final_hyperparameters = Pipeline([\n",
    "    ('scale', StandardScaler()),\n",
    "    ('est', sklearn.svm.SVC())\n",
    "])\n",
    "\n",
    "svm_grid_final = GridSearchCV(svm_pipe_final_hyperparameters, svm_final_hyperparameters, verbose = 10, n_jobs=-1, cv=KFold())\n",
    "svm_grid_final.fit(X_train, y_train)\n"
   ]
  },
  {
   "cell_type": "code",
   "execution_count": 35,
   "metadata": {},
   "outputs": [
    {
     "data": {
      "image/png": "[encoded data removed]",
      "text/plain": [
       "<Figure size 1600x480 with 1 Axes>"
      ]
     },
     "metadata": {},
     "output_type": "display_data"
    }
   ],
   "source": [
    "show_hyper_parameters_new('Final Gr1idSearch for log svm mlp', [log_reg_grid_final, svm_grid_final, mlpclassfier_grid_final])"
   ]
  },
  {
   "cell_type": "code",
   "execution_count": 37,
   "metadata": {},
   "outputs": [
    {
     "name": "stdout",
     "output_type": "stream",
     "text": [
      "mean 0.652 std (+/-0.004) for {'est__C': 100, 'est__solver': 'newton-cg'}\n",
      "mean 0.653 std (+/-0.004) for {'est__C': 100, 'est__gamma': 0.001}\n",
      "mean 0.654 std (+/-0.003) for {'est__activation': 'relu', 'est__alpha': 0.0001, 'est__hidden_layer_sizes': (100,), 'est__solver': 'adam'}\n"
     ]
    }
   ],
   "source": [
    "for grid in [log_reg_grid_final, svm_grid_final, mlpclassfier_grid_final]:\n",
    "    idx = grid.best_index_\n",
    "    print(\"mean %0.3f std (+/-%0.03f) for %r\" % (grid.cv_results_['mean_test_score'][idx],\n",
    "                                                     grid.cv_results_['std_test_score'][idx],\n",
    "                                                     grid.cv_results_['params'][idx]))"
   ]
  },
  {
   "cell_type": "markdown",
   "metadata": {},
   "source": [
    "В каждом блоке кода хорошо виден набор параметров, качество улучшить получилось, правда ненамного, mlp на 0.001, а log reg ещё меньше."
   ]
  },
  {
   "cell_type": "markdown",
   "metadata": {},
   "source": [
    "### Добавление категориальных признаков в модели"
   ]
  },
  {
   "cell_type": "markdown",
   "metadata": {},
   "source": [
    "**Задание 7** (1.5 балла) \n",
    "\n",
    "Постройте для разных алгоритмов графики [кривых обучения](http://scikit-learn.org/stable/modules/generated/sklearn.model_selection.learning_curve.html), изображающие зависимость качества на тестовой и обучающей выборках от количества объектов, на которых обучаются модели. Посмотрите на поведение кривых и ответьте на вопросы:\n",
    "* Может ли с ростом числа объектов убывать качество на тестовой выборке? А на обучающей? Почему?\n",
    "* Для каких целей можно использовать знание качества на обучающей части выборки?\n",
    "* Какой из алгоритмов лучше обучается на меньшем числе объектов?\n",
    "* Может ли добавление новых объектов значительно повысить качество какого-то из алгоритмов или при существующем наборе данных для всех алгоритмов произошло насыщение?"
   ]
  },
  {
   "cell_type": "code",
   "execution_count": 23,
   "metadata": {},
   "outputs": [],
   "source": [
    "from sklearn.model_selection import learning_curve\n",
    "import matplotlib.pyplot as plt\n",
    "from sklearn.datasets import load_digits\n",
    "from sklearn.model_selection import learning_curve\n",
    "from sklearn.model_selection import ShuffleSplit"
   ]
  },
  {
   "cell_type": "code",
   "execution_count": 22,
   "metadata": {},
   "outputs": [],
   "source": [
    "mlp_pipe = Pipeline([\n",
    "    ('scale', StandardScaler()),\n",
    "    ('est', MLPClassifier(alpha = 0.0001, hidden_layer_sizes = (100,)))\n",
    "])\n",
    "\n",
    "log_reg_pipe = Pipeline([\n",
    "    ('scale', StandardScaler()),\n",
    "    ('est', LogisticRegression(C = 100, solver = 'newton-cg'))\n",
    "])"
   ]
  },
  {
   "cell_type": "markdown",
   "metadata": {},
   "source": [
    "Код для функции ниже взят из документации sklearn:\n",
    "\n",
    "https://scikit-learn.org/stable/auto_examples/model_selection/plot_learning_curve.html#sphx-glr-auto-examples-model-selection-plot-learning-curve-py"
   ]
  },
  {
   "cell_type": "code",
   "execution_count": 35,
   "metadata": {},
   "outputs": [
    {
     "data": {
      "image/png": "[encoded data removed]",
      "text/plain": [
       "<Figure size 1440x360 with 3 Axes>"
      ]
     },
     "metadata": {
      "needs_background": "light"
     },
     "output_type": "display_data"
    },
    {
     "data": {
      "image/png": "[encoded data removed]",
      "text/plain": [
       "<Figure size 1440x360 with 3 Axes>"
      ]
     },
     "metadata": {
      "needs_background": "light"
     },
     "output_type": "display_data"
    }
   ],
   "source": [
    "def plot_learning_curve(estimator, title, X, y, axes=None, ylim=None, cv=None,\n",
    "                        n_jobs=None, train_sizes=np.linspace(.1, 1.0, 5)):\n",
    "    \"\"\"\n",
    "    Generate 3 plots: the test and training learning curve, the training\n",
    "    samples vs fit times curve, the fit times vs score curve.\n",
    "\n",
    "    Parameters\n",
    "    ----------\n",
    "    estimator : estimator instance\n",
    "        An estimator instance implementing `fit` and `predict` methods which\n",
    "        will be cloned for each validation.\n",
    "\n",
    "    title : str\n",
    "        Title for the chart.\n",
    "\n",
    "    X : array-like of shape (n_samples, n_features)\n",
    "        Training vector, where ``n_samples`` is the number of samples and\n",
    "        ``n_features`` is the number of features.\n",
    "\n",
    "    y : array-like of shape (n_samples) or (n_samples, n_features)\n",
    "        Target relative to ``X`` for classification or regression;\n",
    "        None for unsupervised learning.\n",
    "\n",
    "    axes : array-like of shape (3,), default=None\n",
    "        Axes to use for plotting the curves.\n",
    "\n",
    "    ylim : tuple of shape (2,), default=None\n",
    "        Defines minimum and maximum y-values plotted, e.g. (ymin, ymax).\n",
    "\n",
    "    cv : int, cross-validation generator or an iterable, default=None\n",
    "        Determines the cross-validation splitting strategy.\n",
    "        Possible inputs for cv are:\n",
    "\n",
    "          - None, to use the default 5-fold cross-validation,\n",
    "          - integer, to specify the number of folds.\n",
    "          - :term:`CV splitter`,\n",
    "          - An iterable yielding (train, test) splits as arrays of indices.\n",
    "\n",
    "        For integer/None inputs, if ``y`` is binary or multiclass,\n",
    "        :class:`StratifiedKFold` used. If the estimator is not a classifier\n",
    "        or if ``y`` is neither binary nor multiclass, :class:`KFold` is used.\n",
    "\n",
    "        Refer :ref:`User Guide <cross_validation>` for the various\n",
    "        cross-validators that can be used here.\n",
    "\n",
    "    n_jobs : int or None, default=None\n",
    "        Number of jobs to run in parallel.\n",
    "        ``None`` means 1 unless in a :obj:`joblib.parallel_backend` context.\n",
    "        ``-1`` means using all processors. See :term:`Glossary <n_jobs>`\n",
    "        for more details.\n",
    "\n",
    "    train_sizes : array-like of shape (n_ticks,)\n",
    "        Relative or absolute numbers of training examples that will be used to\n",
    "        generate the learning curve. If the ``dtype`` is float, it is regarded\n",
    "        as a fraction of the maximum size of the training set (that is\n",
    "        determined by the selected validation method), i.e. it has to be within\n",
    "        (0, 1]. Otherwise it is interpreted as absolute sizes of the training\n",
    "        sets. Note that for classification the number of samples usually have\n",
    "        to be big enough to contain at least one sample from each class.\n",
    "        (default: np.linspace(0.1, 1.0, 5))\n",
    "    \"\"\"\n",
    "    if axes is None:\n",
    "        _, axes = plt.subplots(1, 3, figsize=(20, 5))\n",
    "\n",
    "    axes[0].set_title(title)\n",
    "    if ylim is not None:\n",
    "        axes[0].set_ylim(*ylim)\n",
    "    axes[0].set_xlabel(\"Training examples\")\n",
    "    axes[0].set_ylabel(\"Score\")\n",
    "\n",
    "    train_sizes, train_scores, test_scores, fit_times, _ = \\\n",
    "        learning_curve(estimator, X, y, cv=cv, n_jobs=n_jobs,\n",
    "                       train_sizes=train_sizes,\n",
    "                       return_times=True)\n",
    "    train_scores_mean = np.mean(train_scores, axis=1)\n",
    "    train_scores_std = np.std(train_scores, axis=1)\n",
    "    test_scores_mean = np.mean(test_scores, axis=1)\n",
    "    test_scores_std = np.std(test_scores, axis=1)\n",
    "    fit_times_mean = np.mean(fit_times, axis=1)\n",
    "    fit_times_std = np.std(fit_times, axis=1)\n",
    "\n",
    "    # Plot learning curve\n",
    "    axes[0].grid()\n",
    "    axes[0].fill_between(train_sizes, train_scores_mean - train_scores_std,\n",
    "                         train_scores_mean + train_scores_std, alpha=0.1,\n",
    "                         color=\"r\")\n",
    "    axes[0].fill_between(train_sizes, test_scores_mean - test_scores_std,\n",
    "                         test_scores_mean + test_scores_std, alpha=0.1,\n",
    "                         color=\"g\")\n",
    "    axes[0].plot(train_sizes, train_scores_mean, 'o-', color=\"r\",\n",
    "                 label=\"Training score\")\n",
    "    axes[0].plot(train_sizes, test_scores_mean, 'o-', color=\"g\",\n",
    "                 label=\"Cross-validation score\")\n",
    "    axes[0].legend(loc=\"best\")\n",
    "\n",
    "    # Plot n_samples vs fit_times\n",
    "    axes[1].grid()\n",
    "    axes[1].plot(train_sizes, fit_times_mean, 'o-')\n",
    "    axes[1].fill_between(train_sizes, fit_times_mean - fit_times_std,\n",
    "                         fit_times_mean + fit_times_std, alpha=0.1)\n",
    "    axes[1].set_xlabel(\"Training examples\")\n",
    "    axes[1].set_ylabel(\"fit_times\")\n",
    "    axes[1].set_title(\"Scalability of the model\")\n",
    "\n",
    "    # Plot fit_time vs score\n",
    "    axes[2].grid()\n",
    "    axes[2].plot(fit_times_mean, test_scores_mean, 'o-')\n",
    "    axes[2].fill_between(fit_times_mean, test_scores_mean - test_scores_std,\n",
    "                         test_scores_mean + test_scores_std, alpha=0.1)\n",
    "    axes[2].set_xlabel(\"fit_times\")\n",
    "    axes[2].set_ylabel(\"Score\")\n",
    "    axes[2].set_title(\"Performance of the model\")\n",
    "\n",
    "    return plt\n",
    "\n",
    "\n",
    "# fig, axes = plt.subplots(3, 2, figsize=(10, 15))\n",
    "\n",
    "title = \"Learning Curves (Log Reg)\"\n",
    "\n",
    "plot_learning_curve(log_reg_pipe, title, X_train, y_train, cv=KFold(), n_jobs=-1)\n",
    "\n",
    "#title = r\"Learning Curves (SVM, RBF kernel, $\\gamma=0.001$)\"\n",
    "title = \"Learning Curves for MLPClassifier\"\n",
    "\n",
    "plot_learning_curve(mlp_pipe, title, X_train, y_train, cv=KFold(), n_jobs=-1)\n",
    "\n",
    "plt.show()"
   ]
  },
  {
   "cell_type": "markdown",
   "metadata": {},
   "source": [
    "После выполнения данного блока вы получите решение, которое можно отправить в соревнование на [kaggle](https://www.kaggle.com/t/f2f20fc510f042dfa9751a03c6108805). \n",
    "\n",
    "Будьте внимательными, для части матчей из test.csv отсутствуют некоторые данные, для этих матчей все равно требуется что-то предсказать."
   ]
  },
  {
   "cell_type": "markdown",
   "metadata": {},
   "source": [
    "1. Может ли с ростом числа объектов убывать качество на тестовой выборке? А на обучающей? Почему?\n",
    "\n",
    "Может и там и там, качество на тестовой выборке может падать например с переобучением на обучающей, а на обучающей может падать если добавлять выбросы, они ещё более чувствительны в начале. Или например при классификации на обучающей в начале идёт ооооочень много сэмплов одного вида собак, а потом даётся одна фотка похожего вида, и тогда качество должно упасть.\n",
    "\n",
    "2. Для каких целей можно использовать знание качества на обучающей части выборки?\n",
    "\n",
    "Иметь некоторое представление, может ли быть переобучена модель, особенно сравнивая с результатами на тестовых данных. И в некоторых случаях можно понять насколько репрезентативна обучающая выборка.\n",
    "\n",
    "3. Какой из алгоритмов лучше обучается на меньшем числе объектов?\n",
    "\n",
    "В нашем случае logistic regression обучилась лучше на меньшем числе объектов.\n",
    "\n",
    "4. Может ли добавление новых объектов значительно повысить качество какого-то из алгоритмов или при существующем наборе данных для всех алгоритмов произошло насыщение?\n",
    "\n",
    "Добавление новых алгоритмов может повысить качество работы. Алгоритмы далеко не насыщены, у нас что-то около 25000 тысяч сэмплов, и только 6 параметров. И зная то с чем мы работаем такие данные как опыт и события (events.csv) ОЧЕНЬ сильно влияют на происходящее. Скажем так, по сути, у нас хоть и 6 фич, они реально показывают по большей части только один аттрибут, это разница по голде между командами, по которой мы +- определяем результат игры, но на самом деле имея даже гигантское отставание по голде, команды, собравшая ивент может запросто выиграть игру, и есть ещё множество фич, которые влияют на результат. \n",
    "\n",
    "P.S. Голда и опыт имеют разное распределние в игре, в отличии от lh и gold, эти два почти всегда идут рука об руку."
   ]
  },
  {
   "cell_type": "markdown",
   "metadata": {},
   "source": [
    "Пока мы не использовали нечисловые признаки, которые есть в датасете. Давайте посмотрим, правильно ли мы сделали и увеличится ли качество моделей после добавлениях этих признаков. \n",
    "\n",
    "**Задание 8** (1.5 балла) \n",
    "\n",
    "Преобразуйте все категориальные признаки с помощью метода one-hot-encoding (например, это можно сделать с помощью функции [pandas.get_dummies](http://pandas.pydata.org/pandas-docs/stable/generated/pandas.get_dummies.html) или [DictVectorizer](http://scikit-learn.org/stable/modules/generated/sklearn.feature_extraction.DictVectorizer.html) / [OneHotEncoder](http://scikit-learn.org/stable/modules/generated/sklearn.preprocessing.OneHotEncoder.html) из sklearn). Это задание предлагается делать с использованием *heroes.csv*. Представьте каждую из команд в виде one-hot-encoded вектора с пятью единицами и остальными нулями."
   ]
  },
  {
   "cell_type": "code",
   "execution_count": 120,
   "metadata": {},
   "outputs": [
    {
     "data": {
      "text/html": [
       "<div>\n",
       "<style scoped>\n",
       "    .dataframe tbody tr th:only-of-type {\n",
       "        vertical-align: middle;\n",
       "    }\n",
       "\n",
       "    .dataframe tbody tr th {\n",
       "        vertical-align: top;\n",
       "    }\n",
       "\n",
       "    .dataframe thead th {\n",
       "        text-align: right;\n",
       "    }\n",
       "</style>\n",
       "<table border=\"1\" class=\"dataframe\">\n",
       "  <thead>\n",
       "    <tr style=\"text-align: right;\">\n",
       "      <th></th>\n",
       "      <th>mid</th>\n",
       "      <th>player_0</th>\n",
       "      <th>player_1</th>\n",
       "      <th>player_2</th>\n",
       "      <th>player_3</th>\n",
       "      <th>player_4</th>\n",
       "      <th>player_5</th>\n",
       "      <th>player_6</th>\n",
       "      <th>player_7</th>\n",
       "      <th>player_8</th>\n",
       "      <th>player_9</th>\n",
       "    </tr>\n",
       "  </thead>\n",
       "  <tbody>\n",
       "    <tr>\n",
       "      <th>0</th>\n",
       "      <td>0</td>\n",
       "      <td>91</td>\n",
       "      <td>42</td>\n",
       "      <td>87</td>\n",
       "      <td>15</td>\n",
       "      <td>65</td>\n",
       "      <td>11</td>\n",
       "      <td>6</td>\n",
       "      <td>34</td>\n",
       "      <td>69</td>\n",
       "      <td>74</td>\n",
       "    </tr>\n",
       "    <tr>\n",
       "      <th>1</th>\n",
       "      <td>1</td>\n",
       "      <td>69</td>\n",
       "      <td>85</td>\n",
       "      <td>71</td>\n",
       "      <td>24</td>\n",
       "      <td>64</td>\n",
       "      <td>74</td>\n",
       "      <td>68</td>\n",
       "      <td>39</td>\n",
       "      <td>65</td>\n",
       "      <td>11</td>\n",
       "    </tr>\n",
       "    <tr>\n",
       "      <th>2</th>\n",
       "      <td>2</td>\n",
       "      <td>17</td>\n",
       "      <td>40</td>\n",
       "      <td>31</td>\n",
       "      <td>67</td>\n",
       "      <td>99</td>\n",
       "      <td>32</td>\n",
       "      <td>7</td>\n",
       "      <td>72</td>\n",
       "      <td>48</td>\n",
       "      <td>104</td>\n",
       "    </tr>\n",
       "    <tr>\n",
       "      <th>3</th>\n",
       "      <td>3</td>\n",
       "      <td>80</td>\n",
       "      <td>43</td>\n",
       "      <td>101</td>\n",
       "      <td>71</td>\n",
       "      <td>94</td>\n",
       "      <td>69</td>\n",
       "      <td>70</td>\n",
       "      <td>98</td>\n",
       "      <td>24</td>\n",
       "      <td>39</td>\n",
       "    </tr>\n",
       "    <tr>\n",
       "      <th>4</th>\n",
       "      <td>4</td>\n",
       "      <td>25</td>\n",
       "      <td>15</td>\n",
       "      <td>75</td>\n",
       "      <td>29</td>\n",
       "      <td>95</td>\n",
       "      <td>3</td>\n",
       "      <td>32</td>\n",
       "      <td>55</td>\n",
       "      <td>64</td>\n",
       "      <td>86</td>\n",
       "    </tr>\n",
       "  </tbody>\n",
       "</table>\n",
       "</div>"
      ],
      "text/plain": [
       "   mid  player_0  player_1  player_2  player_3  player_4  player_5  player_6  \\\n",
       "0    0        91        42        87        15        65        11         6   \n",
       "1    1        69        85        71        24        64        74        68   \n",
       "2    2        17        40        31        67        99        32         7   \n",
       "3    3        80        43       101        71        94        69        70   \n",
       "4    4        25        15        75        29        95         3        32   \n",
       "\n",
       "   player_7  player_8  player_9  \n",
       "0        34        69        74  \n",
       "1        39        65        11  \n",
       "2        72        48       104  \n",
       "3        98        24        39  \n",
       "4        55        64        86  "
      ]
     },
     "execution_count": 120,
     "metadata": {},
     "output_type": "execute_result"
    }
   ],
   "source": [
    "heroes = pd.read_csv(\"heroes.csv\")\n",
    "heroes.head()"
   ]
  },
  {
   "cell_type": "code",
   "execution_count": 121,
   "metadata": {},
   "outputs": [],
   "source": [
    "from sklearn.preprocessing import LabelEncoder\n",
    "from sklearn.preprocessing import OneHotEncoder"
   ]
  },
  {
   "cell_type": "markdown",
   "metadata": {},
   "source": [
    "https://machinelearningmastery.com/how-to-one-hot-encode-sequence-data-in-python/"
   ]
  },
  {
   "cell_type": "code",
   "execution_count": 122,
   "metadata": {},
   "outputs": [
    {
     "name": "stdout",
     "output_type": "stream",
     "text": [
      "[91 69 17 ... 87 59 48]\n",
      "(499480,)\n",
      "[[0. 0. 0. ... 0. 0. 0.]\n",
      " [0. 0. 0. ... 0. 0. 0.]\n",
      " [0. 0. 0. ... 0. 0. 0.]\n",
      " ...\n",
      " [0. 0. 0. ... 0. 0. 0.]\n",
      " [0. 0. 0. ... 0. 0. 0.]\n",
      " [0. 0. 0. ... 0. 0. 0.]]\n",
      "(499480, 111)\n"
     ]
    }
   ],
   "source": [
    "all_heroes_from_table = np.array([])\n",
    "for col in heroes.columns[1:]:\n",
    "    all_heroes_from_table = np.concatenate([all_heroes_from_table, heroes[col].values]) \n",
    "\n",
    "label_encoder = LabelEncoder()\n",
    "integer_encoded = label_encoder.fit_transform(all_heroes_from_table)\n",
    "print(integer_encoded)\n",
    "print(integer_encoded.shape)\n",
    "onehot_encoder = OneHotEncoder(sparse=False)\n",
    "integer_encoded = integer_encoded.reshape(len(integer_encoded), 1)\n",
    "onehot_encoded = onehot_encoder.fit_transform(integer_encoded)\n",
    "print(onehot_encoded)\n",
    "print(onehot_encoded.shape)"
   ]
  },
  {
   "cell_type": "code",
   "execution_count": 138,
   "metadata": {},
   "outputs": [
    {
     "data": {
      "text/plain": [
       "49948"
      ]
     },
     "execution_count": 138,
     "metadata": {},
     "output_type": "execute_result"
    }
   ],
   "source": [
    "heroes['mid'].size"
   ]
  },
  {
   "cell_type": "code",
   "execution_count": 139,
   "metadata": {},
   "outputs": [],
   "source": [
    "# add radiant heroes as 111 feauters\n",
    "for hero in range(111):\n",
    "    col_name = 'radiant_hero_' + str(hero)\n",
    "    new_feauters = [0] * 49948\n",
    "    for i in range(49948):\n",
    "        for j in range(i, 499480 // 2, 49948):\n",
    "            if onehot_encoded[j][hero]:\n",
    "                new_feauters[i] = 1\n",
    "    heroes[col_name] = new_feauters"
   ]
  },
  {
   "cell_type": "code",
   "execution_count": 141,
   "metadata": {},
   "outputs": [],
   "source": [
    "# same for dire\n",
    "for hero in range(111):\n",
    "    col_name = 'dire_hero_' + str(hero)\n",
    "    new_feauters = [0] * 49948\n",
    "    for i in range(49948):\n",
    "        for j in range(499480 // 2 + i, 499480, 49948):\n",
    "            if onehot_encoded[j][hero]:\n",
    "                new_feauters[i] = 1\n",
    "    heroes[col_name] = new_feauters"
   ]
  },
  {
   "cell_type": "code",
   "execution_count": 142,
   "metadata": {},
   "outputs": [
    {
     "data": {
      "text/html": [
       "<div>\n",
       "<style scoped>\n",
       "    .dataframe tbody tr th:only-of-type {\n",
       "        vertical-align: middle;\n",
       "    }\n",
       "\n",
       "    .dataframe tbody tr th {\n",
       "        vertical-align: top;\n",
       "    }\n",
       "\n",
       "    .dataframe thead th {\n",
       "        text-align: right;\n",
       "    }\n",
       "</style>\n",
       "<table border=\"1\" class=\"dataframe\">\n",
       "  <thead>\n",
       "    <tr style=\"text-align: right;\">\n",
       "      <th></th>\n",
       "      <th>mid</th>\n",
       "      <th>player_0</th>\n",
       "      <th>player_1</th>\n",
       "      <th>player_2</th>\n",
       "      <th>player_3</th>\n",
       "      <th>player_4</th>\n",
       "      <th>player_5</th>\n",
       "      <th>player_6</th>\n",
       "      <th>player_7</th>\n",
       "      <th>player_8</th>\n",
       "      <th>...</th>\n",
       "      <th>dire_hero_101</th>\n",
       "      <th>dire_hero_102</th>\n",
       "      <th>dire_hero_103</th>\n",
       "      <th>dire_hero_104</th>\n",
       "      <th>dire_hero_105</th>\n",
       "      <th>dire_hero_106</th>\n",
       "      <th>dire_hero_107</th>\n",
       "      <th>dire_hero_108</th>\n",
       "      <th>dire_hero_109</th>\n",
       "      <th>dire_hero_110</th>\n",
       "    </tr>\n",
       "  </thead>\n",
       "  <tbody>\n",
       "    <tr>\n",
       "      <th>0</th>\n",
       "      <td>0</td>\n",
       "      <td>91</td>\n",
       "      <td>42</td>\n",
       "      <td>87</td>\n",
       "      <td>15</td>\n",
       "      <td>65</td>\n",
       "      <td>11</td>\n",
       "      <td>6</td>\n",
       "      <td>34</td>\n",
       "      <td>69</td>\n",
       "      <td>...</td>\n",
       "      <td>0</td>\n",
       "      <td>0</td>\n",
       "      <td>0</td>\n",
       "      <td>0</td>\n",
       "      <td>0</td>\n",
       "      <td>0</td>\n",
       "      <td>0</td>\n",
       "      <td>0</td>\n",
       "      <td>0</td>\n",
       "      <td>0</td>\n",
       "    </tr>\n",
       "    <tr>\n",
       "      <th>1</th>\n",
       "      <td>1</td>\n",
       "      <td>69</td>\n",
       "      <td>85</td>\n",
       "      <td>71</td>\n",
       "      <td>24</td>\n",
       "      <td>64</td>\n",
       "      <td>74</td>\n",
       "      <td>68</td>\n",
       "      <td>39</td>\n",
       "      <td>65</td>\n",
       "      <td>...</td>\n",
       "      <td>0</td>\n",
       "      <td>0</td>\n",
       "      <td>0</td>\n",
       "      <td>0</td>\n",
       "      <td>0</td>\n",
       "      <td>0</td>\n",
       "      <td>0</td>\n",
       "      <td>0</td>\n",
       "      <td>0</td>\n",
       "      <td>0</td>\n",
       "    </tr>\n",
       "    <tr>\n",
       "      <th>2</th>\n",
       "      <td>2</td>\n",
       "      <td>17</td>\n",
       "      <td>40</td>\n",
       "      <td>31</td>\n",
       "      <td>67</td>\n",
       "      <td>99</td>\n",
       "      <td>32</td>\n",
       "      <td>7</td>\n",
       "      <td>72</td>\n",
       "      <td>48</td>\n",
       "      <td>...</td>\n",
       "      <td>0</td>\n",
       "      <td>0</td>\n",
       "      <td>0</td>\n",
       "      <td>1</td>\n",
       "      <td>0</td>\n",
       "      <td>0</td>\n",
       "      <td>0</td>\n",
       "      <td>0</td>\n",
       "      <td>0</td>\n",
       "      <td>0</td>\n",
       "    </tr>\n",
       "    <tr>\n",
       "      <th>3</th>\n",
       "      <td>3</td>\n",
       "      <td>80</td>\n",
       "      <td>43</td>\n",
       "      <td>101</td>\n",
       "      <td>71</td>\n",
       "      <td>94</td>\n",
       "      <td>69</td>\n",
       "      <td>70</td>\n",
       "      <td>98</td>\n",
       "      <td>24</td>\n",
       "      <td>...</td>\n",
       "      <td>0</td>\n",
       "      <td>0</td>\n",
       "      <td>0</td>\n",
       "      <td>0</td>\n",
       "      <td>0</td>\n",
       "      <td>0</td>\n",
       "      <td>0</td>\n",
       "      <td>0</td>\n",
       "      <td>0</td>\n",
       "      <td>0</td>\n",
       "    </tr>\n",
       "    <tr>\n",
       "      <th>4</th>\n",
       "      <td>4</td>\n",
       "      <td>25</td>\n",
       "      <td>15</td>\n",
       "      <td>75</td>\n",
       "      <td>29</td>\n",
       "      <td>95</td>\n",
       "      <td>3</td>\n",
       "      <td>32</td>\n",
       "      <td>55</td>\n",
       "      <td>64</td>\n",
       "      <td>...</td>\n",
       "      <td>0</td>\n",
       "      <td>0</td>\n",
       "      <td>0</td>\n",
       "      <td>0</td>\n",
       "      <td>0</td>\n",
       "      <td>0</td>\n",
       "      <td>0</td>\n",
       "      <td>0</td>\n",
       "      <td>0</td>\n",
       "      <td>0</td>\n",
       "    </tr>\n",
       "  </tbody>\n",
       "</table>\n",
       "<p>5 rows × 234 columns</p>\n",
       "</div>"
      ],
      "text/plain": [
       "   mid  player_0  player_1  player_2  player_3  player_4  player_5  player_6  \\\n",
       "0    0        91        42        87        15        65        11         6   \n",
       "1    1        69        85        71        24        64        74        68   \n",
       "2    2        17        40        31        67        99        32         7   \n",
       "3    3        80        43       101        71        94        69        70   \n",
       "4    4        25        15        75        29        95         3        32   \n",
       "\n",
       "   player_7  player_8  ...  dire_hero_101  dire_hero_102  dire_hero_103  \\\n",
       "0        34        69  ...              0              0              0   \n",
       "1        39        65  ...              0              0              0   \n",
       "2        72        48  ...              0              0              0   \n",
       "3        98        24  ...              0              0              0   \n",
       "4        55        64  ...              0              0              0   \n",
       "\n",
       "   dire_hero_104  dire_hero_105  dire_hero_106  dire_hero_107  dire_hero_108  \\\n",
       "0              0              0              0              0              0   \n",
       "1              0              0              0              0              0   \n",
       "2              1              0              0              0              0   \n",
       "3              0              0              0              0              0   \n",
       "4              0              0              0              0              0   \n",
       "\n",
       "   dire_hero_109  dire_hero_110  \n",
       "0              0              0  \n",
       "1              0              0  \n",
       "2              0              0  \n",
       "3              0              0  \n",
       "4              0              0  \n",
       "\n",
       "[5 rows x 234 columns]"
      ]
     },
     "execution_count": 142,
     "metadata": {},
     "output_type": "execute_result"
    }
   ],
   "source": [
    "heroes.head()"
   ]
  },
  {
   "cell_type": "code",
   "execution_count": 144,
   "metadata": {},
   "outputs": [
    {
     "data": {
      "text/html": [
       "<div>\n",
       "<style scoped>\n",
       "    .dataframe tbody tr th:only-of-type {\n",
       "        vertical-align: middle;\n",
       "    }\n",
       "\n",
       "    .dataframe tbody tr th {\n",
       "        vertical-align: top;\n",
       "    }\n",
       "\n",
       "    .dataframe thead th {\n",
       "        text-align: right;\n",
       "    }\n",
       "</style>\n",
       "<table border=\"1\" class=\"dataframe\">\n",
       "  <thead>\n",
       "    <tr style=\"text-align: right;\">\n",
       "      <th></th>\n",
       "      <th>mid</th>\n",
       "      <th>radiant_hero_0</th>\n",
       "      <th>radiant_hero_1</th>\n",
       "      <th>radiant_hero_2</th>\n",
       "      <th>radiant_hero_3</th>\n",
       "      <th>radiant_hero_4</th>\n",
       "      <th>radiant_hero_5</th>\n",
       "      <th>radiant_hero_6</th>\n",
       "      <th>radiant_hero_7</th>\n",
       "      <th>radiant_hero_8</th>\n",
       "      <th>...</th>\n",
       "      <th>dire_hero_101</th>\n",
       "      <th>dire_hero_102</th>\n",
       "      <th>dire_hero_103</th>\n",
       "      <th>dire_hero_104</th>\n",
       "      <th>dire_hero_105</th>\n",
       "      <th>dire_hero_106</th>\n",
       "      <th>dire_hero_107</th>\n",
       "      <th>dire_hero_108</th>\n",
       "      <th>dire_hero_109</th>\n",
       "      <th>dire_hero_110</th>\n",
       "    </tr>\n",
       "  </thead>\n",
       "  <tbody>\n",
       "    <tr>\n",
       "      <th>0</th>\n",
       "      <td>0</td>\n",
       "      <td>0</td>\n",
       "      <td>0</td>\n",
       "      <td>0</td>\n",
       "      <td>0</td>\n",
       "      <td>0</td>\n",
       "      <td>0</td>\n",
       "      <td>0</td>\n",
       "      <td>0</td>\n",
       "      <td>0</td>\n",
       "      <td>...</td>\n",
       "      <td>0</td>\n",
       "      <td>0</td>\n",
       "      <td>0</td>\n",
       "      <td>0</td>\n",
       "      <td>0</td>\n",
       "      <td>0</td>\n",
       "      <td>0</td>\n",
       "      <td>0</td>\n",
       "      <td>0</td>\n",
       "      <td>0</td>\n",
       "    </tr>\n",
       "    <tr>\n",
       "      <th>1</th>\n",
       "      <td>1</td>\n",
       "      <td>0</td>\n",
       "      <td>0</td>\n",
       "      <td>0</td>\n",
       "      <td>0</td>\n",
       "      <td>0</td>\n",
       "      <td>0</td>\n",
       "      <td>0</td>\n",
       "      <td>0</td>\n",
       "      <td>0</td>\n",
       "      <td>...</td>\n",
       "      <td>0</td>\n",
       "      <td>0</td>\n",
       "      <td>0</td>\n",
       "      <td>0</td>\n",
       "      <td>0</td>\n",
       "      <td>0</td>\n",
       "      <td>0</td>\n",
       "      <td>0</td>\n",
       "      <td>0</td>\n",
       "      <td>0</td>\n",
       "    </tr>\n",
       "    <tr>\n",
       "      <th>2</th>\n",
       "      <td>2</td>\n",
       "      <td>0</td>\n",
       "      <td>0</td>\n",
       "      <td>0</td>\n",
       "      <td>0</td>\n",
       "      <td>0</td>\n",
       "      <td>0</td>\n",
       "      <td>0</td>\n",
       "      <td>0</td>\n",
       "      <td>0</td>\n",
       "      <td>...</td>\n",
       "      <td>0</td>\n",
       "      <td>0</td>\n",
       "      <td>0</td>\n",
       "      <td>1</td>\n",
       "      <td>0</td>\n",
       "      <td>0</td>\n",
       "      <td>0</td>\n",
       "      <td>0</td>\n",
       "      <td>0</td>\n",
       "      <td>0</td>\n",
       "    </tr>\n",
       "    <tr>\n",
       "      <th>3</th>\n",
       "      <td>3</td>\n",
       "      <td>0</td>\n",
       "      <td>0</td>\n",
       "      <td>0</td>\n",
       "      <td>0</td>\n",
       "      <td>0</td>\n",
       "      <td>0</td>\n",
       "      <td>0</td>\n",
       "      <td>0</td>\n",
       "      <td>0</td>\n",
       "      <td>...</td>\n",
       "      <td>0</td>\n",
       "      <td>0</td>\n",
       "      <td>0</td>\n",
       "      <td>0</td>\n",
       "      <td>0</td>\n",
       "      <td>0</td>\n",
       "      <td>0</td>\n",
       "      <td>0</td>\n",
       "      <td>0</td>\n",
       "      <td>0</td>\n",
       "    </tr>\n",
       "    <tr>\n",
       "      <th>4</th>\n",
       "      <td>4</td>\n",
       "      <td>0</td>\n",
       "      <td>0</td>\n",
       "      <td>0</td>\n",
       "      <td>0</td>\n",
       "      <td>0</td>\n",
       "      <td>0</td>\n",
       "      <td>0</td>\n",
       "      <td>0</td>\n",
       "      <td>0</td>\n",
       "      <td>...</td>\n",
       "      <td>0</td>\n",
       "      <td>0</td>\n",
       "      <td>0</td>\n",
       "      <td>0</td>\n",
       "      <td>0</td>\n",
       "      <td>0</td>\n",
       "      <td>0</td>\n",
       "      <td>0</td>\n",
       "      <td>0</td>\n",
       "      <td>0</td>\n",
       "    </tr>\n",
       "  </tbody>\n",
       "</table>\n",
       "<p>5 rows × 223 columns</p>\n",
       "</div>"
      ],
      "text/plain": [
       "   mid  radiant_hero_0  radiant_hero_1  radiant_hero_2  radiant_hero_3  \\\n",
       "0    0               0               0               0               0   \n",
       "1    1               0               0               0               0   \n",
       "2    2               0               0               0               0   \n",
       "3    3               0               0               0               0   \n",
       "4    4               0               0               0               0   \n",
       "\n",
       "   radiant_hero_4  radiant_hero_5  radiant_hero_6  radiant_hero_7  \\\n",
       "0               0               0               0               0   \n",
       "1               0               0               0               0   \n",
       "2               0               0               0               0   \n",
       "3               0               0               0               0   \n",
       "4               0               0               0               0   \n",
       "\n",
       "   radiant_hero_8  ...  dire_hero_101  dire_hero_102  dire_hero_103  \\\n",
       "0               0  ...              0              0              0   \n",
       "1               0  ...              0              0              0   \n",
       "2               0  ...              0              0              0   \n",
       "3               0  ...              0              0              0   \n",
       "4               0  ...              0              0              0   \n",
       "\n",
       "   dire_hero_104  dire_hero_105  dire_hero_106  dire_hero_107  dire_hero_108  \\\n",
       "0              0              0              0              0              0   \n",
       "1              0              0              0              0              0   \n",
       "2              1              0              0              0              0   \n",
       "3              0              0              0              0              0   \n",
       "4              0              0              0              0              0   \n",
       "\n",
       "   dire_hero_109  dire_hero_110  \n",
       "0              0              0  \n",
       "1              0              0  \n",
       "2              0              0  \n",
       "3              0              0  \n",
       "4              0              0  \n",
       "\n",
       "[5 rows x 223 columns]"
      ]
     },
     "execution_count": 144,
     "metadata": {},
     "output_type": "execute_result"
    }
   ],
   "source": [
    "heroes = heroes.drop(columns=heroes.columns[1:2])\n",
    "heroes.head()"
   ]
  },
  {
   "cell_type": "code",
   "execution_count": 162,
   "metadata": {},
   "outputs": [
    {
     "data": {
      "text/html": [
       "<div>\n",
       "<style scoped>\n",
       "    .dataframe tbody tr th:only-of-type {\n",
       "        vertical-align: middle;\n",
       "    }\n",
       "\n",
       "    .dataframe tbody tr th {\n",
       "        vertical-align: top;\n",
       "    }\n",
       "\n",
       "    .dataframe thead th {\n",
       "        text-align: right;\n",
       "    }\n",
       "</style>\n",
       "<table border=\"1\" class=\"dataframe\">\n",
       "  <thead>\n",
       "    <tr style=\"text-align: right;\">\n",
       "      <th></th>\n",
       "      <th>mid</th>\n",
       "      <th>gold_team_radiant</th>\n",
       "      <th>gold_team_dire</th>\n",
       "      <th>max_gold_team_radiant</th>\n",
       "      <th>max_gold_team_dire</th>\n",
       "      <th>lh_team_radiant</th>\n",
       "      <th>lh_team_dire</th>\n",
       "    </tr>\n",
       "  </thead>\n",
       "  <tbody>\n",
       "    <tr>\n",
       "      <th>0</th>\n",
       "      <td>0</td>\n",
       "      <td>21454</td>\n",
       "      <td>22095</td>\n",
       "      <td>5755</td>\n",
       "      <td>6384</td>\n",
       "      <td>148</td>\n",
       "      <td>192</td>\n",
       "    </tr>\n",
       "    <tr>\n",
       "      <th>1</th>\n",
       "      <td>1</td>\n",
       "      <td>22165</td>\n",
       "      <td>24536</td>\n",
       "      <td>5760</td>\n",
       "      <td>7659</td>\n",
       "      <td>157</td>\n",
       "      <td>144</td>\n",
       "    </tr>\n",
       "    <tr>\n",
       "      <th>2</th>\n",
       "      <td>2</td>\n",
       "      <td>21392</td>\n",
       "      <td>15548</td>\n",
       "      <td>8581</td>\n",
       "      <td>5130</td>\n",
       "      <td>174</td>\n",
       "      <td>99</td>\n",
       "    </tr>\n",
       "    <tr>\n",
       "      <th>3</th>\n",
       "      <td>4</td>\n",
       "      <td>18038</td>\n",
       "      <td>17484</td>\n",
       "      <td>5154</td>\n",
       "      <td>4458</td>\n",
       "      <td>143</td>\n",
       "      <td>101</td>\n",
       "    </tr>\n",
       "    <tr>\n",
       "      <th>4</th>\n",
       "      <td>5</td>\n",
       "      <td>16017</td>\n",
       "      <td>22041</td>\n",
       "      <td>4264</td>\n",
       "      <td>5389</td>\n",
       "      <td>96</td>\n",
       "      <td>145</td>\n",
       "    </tr>\n",
       "  </tbody>\n",
       "</table>\n",
       "</div>"
      ],
      "text/plain": [
       "   mid  gold_team_radiant  gold_team_dire  max_gold_team_radiant  \\\n",
       "0    0              21454           22095                   5755   \n",
       "1    1              22165           24536                   5760   \n",
       "2    2              21392           15548                   8581   \n",
       "3    4              18038           17484                   5154   \n",
       "4    5              16017           22041                   4264   \n",
       "\n",
       "   max_gold_team_dire  lh_team_radiant  lh_team_dire  \n",
       "0                6384              148           192  \n",
       "1                7659              157           144  \n",
       "2                5130              174            99  \n",
       "3                4458              143           101  \n",
       "4                5389               96           145  "
      ]
     },
     "execution_count": 162,
     "metadata": {},
     "output_type": "execute_result"
    }
   ],
   "source": [
    "X_train_for_categories = train_new_parameters\n",
    "X_train_for_categories = X_train_for_categories.drop(columns=['radiant_won'])\n",
    "X_train_for_categories.head()"
   ]
  },
  {
   "cell_type": "code",
   "execution_count": 165,
   "metadata": {},
   "outputs": [
    {
     "data": {
      "text/html": [
       "<div>\n",
       "<style scoped>\n",
       "    .dataframe tbody tr th:only-of-type {\n",
       "        vertical-align: middle;\n",
       "    }\n",
       "\n",
       "    .dataframe tbody tr th {\n",
       "        vertical-align: top;\n",
       "    }\n",
       "\n",
       "    .dataframe thead th {\n",
       "        text-align: right;\n",
       "    }\n",
       "</style>\n",
       "<table border=\"1\" class=\"dataframe\">\n",
       "  <thead>\n",
       "    <tr style=\"text-align: right;\">\n",
       "      <th></th>\n",
       "      <th>mid</th>\n",
       "      <th>gold_team_radiant</th>\n",
       "      <th>gold_team_dire</th>\n",
       "      <th>max_gold_team_radiant</th>\n",
       "      <th>max_gold_team_dire</th>\n",
       "      <th>lh_team_radiant</th>\n",
       "      <th>lh_team_dire</th>\n",
       "      <th>radiant_hero_0</th>\n",
       "      <th>radiant_hero_1</th>\n",
       "      <th>radiant_hero_2</th>\n",
       "      <th>...</th>\n",
       "      <th>dire_hero_101</th>\n",
       "      <th>dire_hero_102</th>\n",
       "      <th>dire_hero_103</th>\n",
       "      <th>dire_hero_104</th>\n",
       "      <th>dire_hero_105</th>\n",
       "      <th>dire_hero_106</th>\n",
       "      <th>dire_hero_107</th>\n",
       "      <th>dire_hero_108</th>\n",
       "      <th>dire_hero_109</th>\n",
       "      <th>dire_hero_110</th>\n",
       "    </tr>\n",
       "  </thead>\n",
       "  <tbody>\n",
       "    <tr>\n",
       "      <th>0</th>\n",
       "      <td>0</td>\n",
       "      <td>21454</td>\n",
       "      <td>22095</td>\n",
       "      <td>5755</td>\n",
       "      <td>6384</td>\n",
       "      <td>148</td>\n",
       "      <td>192</td>\n",
       "      <td>0</td>\n",
       "      <td>0</td>\n",
       "      <td>0</td>\n",
       "      <td>...</td>\n",
       "      <td>0</td>\n",
       "      <td>0</td>\n",
       "      <td>0</td>\n",
       "      <td>0</td>\n",
       "      <td>0</td>\n",
       "      <td>0</td>\n",
       "      <td>0</td>\n",
       "      <td>0</td>\n",
       "      <td>0</td>\n",
       "      <td>0</td>\n",
       "    </tr>\n",
       "    <tr>\n",
       "      <th>1</th>\n",
       "      <td>1</td>\n",
       "      <td>22165</td>\n",
       "      <td>24536</td>\n",
       "      <td>5760</td>\n",
       "      <td>7659</td>\n",
       "      <td>157</td>\n",
       "      <td>144</td>\n",
       "      <td>0</td>\n",
       "      <td>0</td>\n",
       "      <td>0</td>\n",
       "      <td>...</td>\n",
       "      <td>0</td>\n",
       "      <td>0</td>\n",
       "      <td>0</td>\n",
       "      <td>0</td>\n",
       "      <td>0</td>\n",
       "      <td>0</td>\n",
       "      <td>0</td>\n",
       "      <td>0</td>\n",
       "      <td>0</td>\n",
       "      <td>0</td>\n",
       "    </tr>\n",
       "    <tr>\n",
       "      <th>2</th>\n",
       "      <td>2</td>\n",
       "      <td>21392</td>\n",
       "      <td>15548</td>\n",
       "      <td>8581</td>\n",
       "      <td>5130</td>\n",
       "      <td>174</td>\n",
       "      <td>99</td>\n",
       "      <td>0</td>\n",
       "      <td>0</td>\n",
       "      <td>0</td>\n",
       "      <td>...</td>\n",
       "      <td>0</td>\n",
       "      <td>0</td>\n",
       "      <td>0</td>\n",
       "      <td>1</td>\n",
       "      <td>0</td>\n",
       "      <td>0</td>\n",
       "      <td>0</td>\n",
       "      <td>0</td>\n",
       "      <td>0</td>\n",
       "      <td>0</td>\n",
       "    </tr>\n",
       "    <tr>\n",
       "      <th>3</th>\n",
       "      <td>4</td>\n",
       "      <td>18038</td>\n",
       "      <td>17484</td>\n",
       "      <td>5154</td>\n",
       "      <td>4458</td>\n",
       "      <td>143</td>\n",
       "      <td>101</td>\n",
       "      <td>0</td>\n",
       "      <td>0</td>\n",
       "      <td>0</td>\n",
       "      <td>...</td>\n",
       "      <td>0</td>\n",
       "      <td>0</td>\n",
       "      <td>0</td>\n",
       "      <td>0</td>\n",
       "      <td>0</td>\n",
       "      <td>0</td>\n",
       "      <td>0</td>\n",
       "      <td>0</td>\n",
       "      <td>0</td>\n",
       "      <td>0</td>\n",
       "    </tr>\n",
       "    <tr>\n",
       "      <th>4</th>\n",
       "      <td>5</td>\n",
       "      <td>16017</td>\n",
       "      <td>22041</td>\n",
       "      <td>4264</td>\n",
       "      <td>5389</td>\n",
       "      <td>96</td>\n",
       "      <td>145</td>\n",
       "      <td>0</td>\n",
       "      <td>0</td>\n",
       "      <td>0</td>\n",
       "      <td>...</td>\n",
       "      <td>1</td>\n",
       "      <td>0</td>\n",
       "      <td>0</td>\n",
       "      <td>0</td>\n",
       "      <td>0</td>\n",
       "      <td>0</td>\n",
       "      <td>0</td>\n",
       "      <td>0</td>\n",
       "      <td>1</td>\n",
       "      <td>0</td>\n",
       "    </tr>\n",
       "  </tbody>\n",
       "</table>\n",
       "<p>5 rows × 229 columns</p>\n",
       "</div>"
      ],
      "text/plain": [
       "   mid  gold_team_radiant  gold_team_dire  max_gold_team_radiant  \\\n",
       "0    0              21454           22095                   5755   \n",
       "1    1              22165           24536                   5760   \n",
       "2    2              21392           15548                   8581   \n",
       "3    4              18038           17484                   5154   \n",
       "4    5              16017           22041                   4264   \n",
       "\n",
       "   max_gold_team_dire  lh_team_radiant  lh_team_dire  radiant_hero_0  \\\n",
       "0                6384              148           192               0   \n",
       "1                7659              157           144               0   \n",
       "2                5130              174            99               0   \n",
       "3                4458              143           101               0   \n",
       "4                5389               96           145               0   \n",
       "\n",
       "   radiant_hero_1  radiant_hero_2  ...  dire_hero_101  dire_hero_102  \\\n",
       "0               0               0  ...              0              0   \n",
       "1               0               0  ...              0              0   \n",
       "2               0               0  ...              0              0   \n",
       "3               0               0  ...              0              0   \n",
       "4               0               0  ...              1              0   \n",
       "\n",
       "   dire_hero_103  dire_hero_104  dire_hero_105  dire_hero_106  dire_hero_107  \\\n",
       "0              0              0              0              0              0   \n",
       "1              0              0              0              0              0   \n",
       "2              0              1              0              0              0   \n",
       "3              0              0              0              0              0   \n",
       "4              0              0              0              0              0   \n",
       "\n",
       "   dire_hero_108  dire_hero_109  dire_hero_110  \n",
       "0              0              0              0  \n",
       "1              0              0              0  \n",
       "2              0              0              0  \n",
       "3              0              0              0  \n",
       "4              0              1              0  \n",
       "\n",
       "[5 rows x 229 columns]"
      ]
     },
     "execution_count": 165,
     "metadata": {},
     "output_type": "execute_result"
    }
   ],
   "source": [
    "X_train_for_categories = X_train_for_categories.join(heroes.set_index('mid'), on='mid')\n",
    "X_train_for_categories.head()"
   ]
  },
  {
   "cell_type": "code",
   "execution_count": 166,
   "metadata": {},
   "outputs": [
    {
     "data": {
      "text/html": [
       "<div>\n",
       "<style scoped>\n",
       "    .dataframe tbody tr th:only-of-type {\n",
       "        vertical-align: middle;\n",
       "    }\n",
       "\n",
       "    .dataframe tbody tr th {\n",
       "        vertical-align: top;\n",
       "    }\n",
       "\n",
       "    .dataframe thead th {\n",
       "        text-align: right;\n",
       "    }\n",
       "</style>\n",
       "<table border=\"1\" class=\"dataframe\">\n",
       "  <thead>\n",
       "    <tr style=\"text-align: right;\">\n",
       "      <th></th>\n",
       "      <th>gold_team_radiant</th>\n",
       "      <th>gold_team_dire</th>\n",
       "      <th>max_gold_team_radiant</th>\n",
       "      <th>max_gold_team_dire</th>\n",
       "      <th>lh_team_radiant</th>\n",
       "      <th>lh_team_dire</th>\n",
       "      <th>radiant_hero_0</th>\n",
       "      <th>radiant_hero_1</th>\n",
       "      <th>radiant_hero_2</th>\n",
       "      <th>radiant_hero_3</th>\n",
       "      <th>...</th>\n",
       "      <th>dire_hero_101</th>\n",
       "      <th>dire_hero_102</th>\n",
       "      <th>dire_hero_103</th>\n",
       "      <th>dire_hero_104</th>\n",
       "      <th>dire_hero_105</th>\n",
       "      <th>dire_hero_106</th>\n",
       "      <th>dire_hero_107</th>\n",
       "      <th>dire_hero_108</th>\n",
       "      <th>dire_hero_109</th>\n",
       "      <th>dire_hero_110</th>\n",
       "    </tr>\n",
       "  </thead>\n",
       "  <tbody>\n",
       "    <tr>\n",
       "      <th>0</th>\n",
       "      <td>21454</td>\n",
       "      <td>22095</td>\n",
       "      <td>5755</td>\n",
       "      <td>6384</td>\n",
       "      <td>148</td>\n",
       "      <td>192</td>\n",
       "      <td>0</td>\n",
       "      <td>0</td>\n",
       "      <td>0</td>\n",
       "      <td>0</td>\n",
       "      <td>...</td>\n",
       "      <td>0</td>\n",
       "      <td>0</td>\n",
       "      <td>0</td>\n",
       "      <td>0</td>\n",
       "      <td>0</td>\n",
       "      <td>0</td>\n",
       "      <td>0</td>\n",
       "      <td>0</td>\n",
       "      <td>0</td>\n",
       "      <td>0</td>\n",
       "    </tr>\n",
       "    <tr>\n",
       "      <th>1</th>\n",
       "      <td>22165</td>\n",
       "      <td>24536</td>\n",
       "      <td>5760</td>\n",
       "      <td>7659</td>\n",
       "      <td>157</td>\n",
       "      <td>144</td>\n",
       "      <td>0</td>\n",
       "      <td>0</td>\n",
       "      <td>0</td>\n",
       "      <td>0</td>\n",
       "      <td>...</td>\n",
       "      <td>0</td>\n",
       "      <td>0</td>\n",
       "      <td>0</td>\n",
       "      <td>0</td>\n",
       "      <td>0</td>\n",
       "      <td>0</td>\n",
       "      <td>0</td>\n",
       "      <td>0</td>\n",
       "      <td>0</td>\n",
       "      <td>0</td>\n",
       "    </tr>\n",
       "    <tr>\n",
       "      <th>2</th>\n",
       "      <td>21392</td>\n",
       "      <td>15548</td>\n",
       "      <td>8581</td>\n",
       "      <td>5130</td>\n",
       "      <td>174</td>\n",
       "      <td>99</td>\n",
       "      <td>0</td>\n",
       "      <td>0</td>\n",
       "      <td>0</td>\n",
       "      <td>0</td>\n",
       "      <td>...</td>\n",
       "      <td>0</td>\n",
       "      <td>0</td>\n",
       "      <td>0</td>\n",
       "      <td>1</td>\n",
       "      <td>0</td>\n",
       "      <td>0</td>\n",
       "      <td>0</td>\n",
       "      <td>0</td>\n",
       "      <td>0</td>\n",
       "      <td>0</td>\n",
       "    </tr>\n",
       "    <tr>\n",
       "      <th>3</th>\n",
       "      <td>18038</td>\n",
       "      <td>17484</td>\n",
       "      <td>5154</td>\n",
       "      <td>4458</td>\n",
       "      <td>143</td>\n",
       "      <td>101</td>\n",
       "      <td>0</td>\n",
       "      <td>0</td>\n",
       "      <td>0</td>\n",
       "      <td>0</td>\n",
       "      <td>...</td>\n",
       "      <td>0</td>\n",
       "      <td>0</td>\n",
       "      <td>0</td>\n",
       "      <td>0</td>\n",
       "      <td>0</td>\n",
       "      <td>0</td>\n",
       "      <td>0</td>\n",
       "      <td>0</td>\n",
       "      <td>0</td>\n",
       "      <td>0</td>\n",
       "    </tr>\n",
       "    <tr>\n",
       "      <th>4</th>\n",
       "      <td>16017</td>\n",
       "      <td>22041</td>\n",
       "      <td>4264</td>\n",
       "      <td>5389</td>\n",
       "      <td>96</td>\n",
       "      <td>145</td>\n",
       "      <td>0</td>\n",
       "      <td>0</td>\n",
       "      <td>0</td>\n",
       "      <td>0</td>\n",
       "      <td>...</td>\n",
       "      <td>1</td>\n",
       "      <td>0</td>\n",
       "      <td>0</td>\n",
       "      <td>0</td>\n",
       "      <td>0</td>\n",
       "      <td>0</td>\n",
       "      <td>0</td>\n",
       "      <td>0</td>\n",
       "      <td>1</td>\n",
       "      <td>0</td>\n",
       "    </tr>\n",
       "  </tbody>\n",
       "</table>\n",
       "<p>5 rows × 228 columns</p>\n",
       "</div>"
      ],
      "text/plain": [
       "   gold_team_radiant  gold_team_dire  max_gold_team_radiant  \\\n",
       "0              21454           22095                   5755   \n",
       "1              22165           24536                   5760   \n",
       "2              21392           15548                   8581   \n",
       "3              18038           17484                   5154   \n",
       "4              16017           22041                   4264   \n",
       "\n",
       "   max_gold_team_dire  lh_team_radiant  lh_team_dire  radiant_hero_0  \\\n",
       "0                6384              148           192               0   \n",
       "1                7659              157           144               0   \n",
       "2                5130              174            99               0   \n",
       "3                4458              143           101               0   \n",
       "4                5389               96           145               0   \n",
       "\n",
       "   radiant_hero_1  radiant_hero_2  radiant_hero_3  ...  dire_hero_101  \\\n",
       "0               0               0               0  ...              0   \n",
       "1               0               0               0  ...              0   \n",
       "2               0               0               0  ...              0   \n",
       "3               0               0               0  ...              0   \n",
       "4               0               0               0  ...              1   \n",
       "\n",
       "   dire_hero_102  dire_hero_103  dire_hero_104  dire_hero_105  dire_hero_106  \\\n",
       "0              0              0              0              0              0   \n",
       "1              0              0              0              0              0   \n",
       "2              0              0              1              0              0   \n",
       "3              0              0              0              0              0   \n",
       "4              0              0              0              0              0   \n",
       "\n",
       "   dire_hero_107  dire_hero_108  dire_hero_109  dire_hero_110  \n",
       "0              0              0              0              0  \n",
       "1              0              0              0              0  \n",
       "2              0              0              0              0  \n",
       "3              0              0              0              0  \n",
       "4              0              0              1              0  \n",
       "\n",
       "[5 rows x 228 columns]"
      ]
     },
     "execution_count": 166,
     "metadata": {},
     "output_type": "execute_result"
    }
   ],
   "source": [
    "X_train_for_categories = X_train_for_categories.drop(columns=['mid'])\n",
    "X_train_for_categories.head()"
   ]
  },
  {
   "cell_type": "markdown",
   "metadata": {},
   "source": [
    "После кодирования признаков получилось достаточно много и правильно будет заново подобрать оптимальные гиперпараметры для моделей. \n",
    "\n",
    "**Задание 9** (1.5 балла)\n",
    "\n",
    "Добавьте к масштабированным вещественным признакам закодированные категориальные и подберите гиперпараметры заново. Дало ли добавление новых признаков прирост качества? Измеряйте качество, как и раньше, используя 5-Fold CV. Для этого удобно воспользоваться функцией [cross_val_score](http://scikit-learn.org/stable/modules/generated/sklearn.cross_validation.cross_val_score.html#sklearn.cross_validation.cross_val_score).\n",
    "\n",
    "Отличается ли теперь наилучший классификатор от наилучшего в предыдущем пункте?\n",
    "\n",
    "One-hot encoding значительно увеличил количество входных данных. \n",
    "\n",
    "Как изменилось количество параметров у моделей? Наблюдается ли переобучение?"
   ]
  },
  {
   "cell_type": "code",
   "execution_count": 167,
   "metadata": {},
   "outputs": [
    {
     "name": "stdout",
     "output_type": "stream",
     "text": [
      "Fitting 5 folds for each of 18 candidates, totalling 90 fits\n"
     ]
    },
    {
     "name": "stderr",
     "output_type": "stream",
     "text": [
      "[Parallel(n_jobs=-1)]: Using backend LokyBackend with 4 concurrent workers.\n",
      "[Parallel(n_jobs=-1)]: Done   5 tasks      | elapsed:    2.5s\n",
      "[Parallel(n_jobs=-1)]: Done  10 tasks      | elapsed:    3.3s\n",
      "[Parallel(n_jobs=-1)]: Done  17 tasks      | elapsed:    5.4s\n",
      "[Parallel(n_jobs=-1)]: Done  24 tasks      | elapsed:    6.6s\n",
      "[Parallel(n_jobs=-1)]: Done  33 tasks      | elapsed:   10.2s\n",
      "[Parallel(n_jobs=-1)]: Done  42 tasks      | elapsed:   12.7s\n",
      "[Parallel(n_jobs=-1)]: Done  53 tasks      | elapsed:   16.1s\n",
      "[Parallel(n_jobs=-1)]: Done  64 tasks      | elapsed:   20.2s\n",
      "[Parallel(n_jobs=-1)]: Done  77 tasks      | elapsed:   25.0s\n",
      "[Parallel(n_jobs=-1)]: Done  90 out of  90 | elapsed:   29.0s finished\n"
     ]
    },
    {
     "data": {
      "text/plain": [
       "GridSearchCV(cv=KFold(n_splits=5, random_state=None, shuffle=False),\n",
       "             error_score=nan,\n",
       "             estimator=Pipeline(memory=None,\n",
       "                                steps=[('scale',\n",
       "                                        StandardScaler(copy=True,\n",
       "                                                       with_mean=True,\n",
       "                                                       with_std=True)),\n",
       "                                       ('est',\n",
       "                                        LogisticRegression(C=1.0,\n",
       "                                                           class_weight=None,\n",
       "                                                           dual=False,\n",
       "                                                           fit_intercept=True,\n",
       "                                                           intercept_scaling=1,\n",
       "                                                           l1_ratio=None,\n",
       "                                                           max_iter=100,\n",
       "                                                           multi_class='auto',\n",
       "                                                           n_jobs=None,\n",
       "                                                           penalty='l2',\n",
       "                                                           random_state=None,\n",
       "                                                           solver='lbfgs',\n",
       "                                                           tol=0.0001,\n",
       "                                                           verbose=0,\n",
       "                                                           warm_start=False))],\n",
       "                                verbose=False),\n",
       "             iid='deprecated', n_jobs=-1,\n",
       "             param_grid={'est__C': [0.0001, 0.1, 1, 10, 100, 10000],\n",
       "                         'est__solver': ['newton-cg', 'lbfgs', 'liblinear']},\n",
       "             pre_dispatch='2*n_jobs', refit=True, return_train_score=False,\n",
       "             scoring=None, verbose=10)"
      ]
     },
     "execution_count": 167,
     "metadata": {},
     "output_type": "execute_result"
    }
   ],
   "source": [
    "log_reg_categ = {'est__C':[0.0001, 0.1, 1, 10, 100, 10000],\n",
    "                      'est__solver':['newton-cg', 'lbfgs', 'liblinear']}\n",
    "\n",
    "log_reg_pipe_categ = Pipeline([\n",
    "    ('scale', StandardScaler()),\n",
    "    ('est', LogisticRegression())\n",
    "])\n",
    "\n",
    "log_reg_grid_categ = GridSearchCV(log_reg_pipe_categ, log_reg_categ, verbose = 10, n_jobs=-1, cv=KFold())\n",
    "log_reg_grid_categ.fit(X_train_for_categories, y_train)"
   ]
  },
  {
   "cell_type": "code",
   "execution_count": 170,
   "metadata": {},
   "outputs": [
    {
     "name": "stdout",
     "output_type": "stream",
     "text": [
      "Fitting 5 folds for each of 9 candidates, totalling 45 fits\n"
     ]
    },
    {
     "name": "stderr",
     "output_type": "stream",
     "text": [
      "[Parallel(n_jobs=-1)]: Using backend LokyBackend with 4 concurrent workers.\n",
      "[Parallel(n_jobs=-1)]: Done   5 tasks      | elapsed:   48.5s\n",
      "[Parallel(n_jobs=-1)]: Done  10 tasks      | elapsed:  1.2min\n",
      "[Parallel(n_jobs=-1)]: Done  17 tasks      | elapsed:  2.1min\n",
      "[Parallel(n_jobs=-1)]: Done  24 tasks      | elapsed:  2.7min\n",
      "[Parallel(n_jobs=-1)]: Done  33 tasks      | elapsed:  3.6min\n",
      "[Parallel(n_jobs=-1)]: Done  43 out of  45 | elapsed:  4.5min remaining:   12.7s\n",
      "[Parallel(n_jobs=-1)]: Done  45 out of  45 | elapsed:  4.7min finished\n",
      "/home/elephant/anaconda3/lib/python3.7/site-packages/sklearn/neural_network/_multilayer_perceptron.py:571: ConvergenceWarning: Stochastic Optimizer: Maximum iterations (200) reached and the optimization hasn't converged yet.\n",
      "  % self.max_iter, ConvergenceWarning)\n"
     ]
    },
    {
     "data": {
      "text/plain": [
       "GridSearchCV(cv=KFold(n_splits=5, random_state=None, shuffle=False),\n",
       "             error_score=nan,\n",
       "             estimator=Pipeline(memory=None,\n",
       "                                steps=[('scale',\n",
       "                                        StandardScaler(copy=True,\n",
       "                                                       with_mean=True,\n",
       "                                                       with_std=True)),\n",
       "                                       ('est',\n",
       "                                        MLPClassifier(activation='relu',\n",
       "                                                      alpha=0.0001,\n",
       "                                                      batch_size='auto',\n",
       "                                                      beta_1=0.9, beta_2=0.999,\n",
       "                                                      early_stopping=False,\n",
       "                                                      epsilon=1e-08,\n",
       "                                                      hidden_layer_sizes=(100,),\n",
       "                                                      learning_r...\n",
       "                                                      power_t=0.5,\n",
       "                                                      random_state=None,\n",
       "                                                      shuffle=True,\n",
       "                                                      solver='adam', tol=0.0001,\n",
       "                                                      validation_fraction=0.1,\n",
       "                                                      verbose=False,\n",
       "                                                      warm_start=False))],\n",
       "                                verbose=False),\n",
       "             iid='deprecated', n_jobs=-1,\n",
       "             param_grid={'est__alpha': [1e-05, 0.0001, 0.05],\n",
       "                         'est__hidden_layer_sizes': [(10, 10), (10,),\n",
       "                                                     (100, 30, 10)]},\n",
       "             pre_dispatch='2*n_jobs', refit=True, return_train_score=False,\n",
       "             scoring=None, verbose=10)"
      ]
     },
     "execution_count": 170,
     "metadata": {},
     "output_type": "execute_result"
    }
   ],
   "source": [
    "mlpclassfier_final_categ = {'est__hidden_layer_sizes': [(10,10,), (10,), (100,30,10)],\n",
    "    'est__alpha': [0.00001, 0.0001, 0.05],}\n",
    "\n",
    "mlp_pipe_categ = Pipeline([\n",
    "    ('scale', StandardScaler()),\n",
    "    ('est', MLPClassifier())\n",
    "])\n",
    "\n",
    "mlpclassfier_grid_categ = GridSearchCV(mlp_pipe_categ, mlpclassfier_final_categ, verbose = 10, n_jobs=-1, cv=KFold())\n",
    "mlpclassfier_grid_categ.fit(X_train_for_categories, y_train)"
   ]
  },
  {
   "cell_type": "code",
   "execution_count": 172,
   "metadata": {},
   "outputs": [
    {
     "data": {
      "image/png": "[encoded data removed]",
      "text/plain": [
       "<Figure size 1600x480 with 1 Axes>"
      ]
     },
     "metadata": {},
     "output_type": "display_data"
    }
   ],
   "source": [
    "def make_labels(number, estimator):\n",
    "    return list('est ' + str(estimator) + '\\n pr ' + str(i) for i in range(number))\n",
    "\n",
    "    \n",
    "from matplotlib.pyplot import figure\n",
    "    \n",
    "def show_hyper_parameters_new(title, grids):\n",
    "    fig = figure(num=None, figsize=(20, 6), dpi=80, facecolor='w', edgecolor='k')\n",
    "    \n",
    "    variations_of_parameters = 0\n",
    "    for grid in grids:\n",
    "        variations_of_parameters += len(grid.cv_results_['params'])\n",
    "        \n",
    "    ticks = list(range(variations_of_parameters))\n",
    "    all_labels = []\n",
    "    for i, grid in enumerate(grids):\n",
    "        all_labels += make_labels(len(grid.cv_results_['params']), i)\n",
    "    plt.xticks(ticks, all_labels)\n",
    "    \n",
    "    cur_len = 0\n",
    "    p = [0] * len(grids)\n",
    "    for i, grid in enumerate(grids):\n",
    "        y = np.array(grid.cv_results_['mean_test_score']) \n",
    "        e = np.array(grid.cv_results_['std_test_score'])\n",
    "        p[i] = plt.errorbar(range(cur_len, cur_len + len(grid.cv_results_['params'])), y, e, linestyle='None', marker='o')\n",
    "        cur_len += len(grid.cv_results_['params'])\n",
    "\n",
    "    fig.suptitle(title, fontsize=20)\n",
    "    plt.xlabel('hyperparameters for models', fontsize=18)\n",
    "    plt.ylabel('Mean score + std', fontsize=16)\n",
    "    fig.legend((i for i in p), ('log', 'mlp'), loc=2, prop={'size': 20})\n",
    "    plt.show()\n",
    "\n",
    "show_hyper_parameters_new('Gr1idSearch for log mlp after added heroes.csv one-hot encoding', [log_reg_grid_categ, mlpclassfier_grid_categ])"
   ]
  },
  {
   "cell_type": "code",
   "execution_count": 173,
   "metadata": {},
   "outputs": [
    {
     "name": "stdout",
     "output_type": "stream",
     "text": [
      "mean 0.690 std (+/-0.004) for {'est__C': 1, 'est__solver': 'newton-cg'}\n",
      "mean 0.643 std (+/-0.006) for {'est__alpha': 1e-05, 'est__hidden_layer_sizes': (10,)}\n"
     ]
    }
   ],
   "source": [
    "for grid in [log_reg_grid_categ, mlpclassfier_grid_categ]:\n",
    "    idx = grid.best_index_\n",
    "    print(\"mean %0.3f std (+/-%0.03f) for %r\" % (grid.cv_results_['mean_test_score'][idx],\n",
    "                                                     grid.cv_results_['std_test_score'][idx],\n",
    "                                                     grid.cv_results_['params'][idx]))"
   ]
  },
  {
   "cell_type": "markdown",
   "metadata": {},
   "source": [
    "1. Дало ли добавление новых признаков прирост качества? \n",
    "\n",
    "Да! Для logistic reg\n",
    "\n",
    "2. Отличается ли теперь наилучший классификатор от наилучшего в предыдущем пункте?\n",
    "\n",
    "Да! log reg сильно выбился вперёд\n",
    "\n",
    "3. Как изменилось количество параметров у моделей? \n",
    "\n",
    "log_reg получила + 222 фичи\n",
    "у mlp мы сами кол-во нейронов определяем, а входные тоже + 222\n",
    "\n",
    "4. Наблюдается ли переобучение?\n",
    "\n",
    "mlp переобучилось, снизу видно"
   ]
  },
  {
   "cell_type": "code",
   "execution_count": 174,
   "metadata": {},
   "outputs": [
    {
     "data": {
      "image/png": "[encoded data removed]",
      "text/plain": [
       "<Figure size 1440x360 with 3 Axes>"
      ]
     },
     "metadata": {
      "needs_background": "light"
     },
     "output_type": "display_data"
    },
    {
     "data": {
      "image/png": "[encoded data removed]",
      "text/plain": [
       "<Figure size 1440x360 with 3 Axes>"
      ]
     },
     "metadata": {
      "needs_background": "light"
     },
     "output_type": "display_data"
    }
   ],
   "source": [
    "title = \"Learning Curves (Log Reg)\"\n",
    "\n",
    "plot_learning_curve(log_reg_pipe_categ, title, X_train_for_categories, y_train, cv=KFold(), n_jobs=-1)\n",
    "\n",
    "title = \"Learning Curves for MLPClassifier\"\n",
    "\n",
    "plot_learning_curve(mlp_pipe_categ, title, X_train_for_categories, y_train, cv=KFold(), n_jobs=-1)\n",
    "\n",
    "plt.show()"
   ]
  },
  {
   "cell_type": "markdown",
   "metadata": {},
   "source": [
    "### Смешивание моделей (blending)\n",
    "\n",
    "Часто на практике оказывается возможным увеличить качество предсказания путем смешивания разных моделей. Давайте посмотрим, действительно ли такой подход дает прирост в качестве.\n",
    "\n",
    "Выберите из построенных моделей двух предыдущих пунктов две, которые дали наибольшее начество на кросс-валидации (обозначим их $clf_1$ и $clf_2$). Далее постройте новый классификатор, ответ которого на некотором объекте $x$ будет выглядеть следующим образом:\n",
    "\n",
    "$$result(x) = clf_1(x) * \\alpha + clf_2(x) * (1 - \\alpha)$$\n",
    "\n",
    "где $\\alpha$ — гиперпараметр нового классификатора."
   ]
  },
  {
   "cell_type": "markdown",
   "metadata": {},
   "source": [
    "**Задание 10** (3 балла)\n",
    "\n",
    "При реализации своих моделей хорошей практикой является создание sklearn-совместимых классов. Во-первых, такая реализация будет иметь стандартный интерфейс и позволит другим людям безболезненно обучать реализованные вами модели. Во-вторых, появляется возможность использовать любой функционал пакета sklearn, принимающий на вход модель.\n",
    "\n",
    "Создайте классификатор, который инициализируется двумя произвольными классификаторами и параметром $\\alpha$. Во время обучения такой классификатор должен обучать обе базовые модели, а на этапе предсказания замешивать предсказания базовых моделей по формуле, указанной выше. \n",
    "\n",
    "Для создания пользовательского классификатора необходимо отнаследоваться от базовых классов *[BaseEstimator](http://scikit-learn.org/stable/modules/generated/sklearn.base.BaseEstimator.html), [ClassifierMixin](http://scikit-learn.org/stable/modules/generated/sklearn.base.ClassifierMixin.html)* и реализовать методы *\\_\\_init\\_\\_, fit, predict и predict_proba*. Пример sklearn-совместимого классификатора с комментариями можно найти [здесь](http://scikit-learn.org/stable/developers/contributing.html#rolling-your-own-estimator) "
   ]
  },
  {
   "cell_type": "code",
   "execution_count": null,
   "metadata": {},
   "outputs": [],
   "source": []
  },
  {
   "cell_type": "markdown",
   "metadata": {},
   "source": [
    "**Задание 11** (1.5 балла)\n",
    "\n",
    "Подберите по сетке от 0 до 1 значение $\\alpha$ для этого классификатора. Если класс реализован правильно, то вы cможете использовать *GridSearchCV*, как в случае с обычными классификаторами.\n",
    "\n",
    "Изобразите на графике среднее качество по фолдам и доверительный интервал в зависимости от $\\alpha$.\n",
    "\n",
    "Дал ли этот подход прирост к качеству по сравнению с моделями, обученными по-отдельности? Поясните, почему даже простой блендинг моделей может влять на итоговое качество?"
   ]
  },
  {
   "cell_type": "code",
   "execution_count": null,
   "metadata": {
    "jupyter": {
     "outputs_hidden": true
    }
   },
   "outputs": [],
   "source": []
  },
  {
   "cell_type": "markdown",
   "metadata": {},
   "source": [
    "### Сравнение построенных моделей\n",
    "\n",
    "![](http://cdn.shopify.com/s/files/1/0870/1066/files/compare_e8b89647-3cb6-4871-a976-2e36e5987773.png?1750043340268621065)\n",
    "\n",
    "После того как было построено много моделей, правильным продолжением является сравнение их между собой.  Воспользуйтесь диаграммой размаха (\"ящик с усами\") для сравнения алгоритмов между собой. Эту диаграмму можно построить при помощи [boxplot](https://matplotlib.org/3.1.0/api/_as_gen/matplotlib.pyplot.boxplot.html) из matplotlib либо через [обертку](https://pandas.pydata.org/pandas-docs/stable/reference/api/pandas.DataFrame.boxplot.html) над ней из pandas."
   ]
  },
  {
   "cell_type": "markdown",
   "metadata": {},
   "source": [
    "**Задание 12** (3 балла) \n",
    "\n",
    "Для каждого типа классификатора, а так же смешанной модели, выберите тот, которых давал наилучшее качество на кросс-валидации и постройте диаграмму размаха. Все классификаторы должны быть изображены на одном графике.\n",
    " \n",
    "Сделайте общие итоговые выводы о классификаторах с точки зрения их работы с признаками и сложности самой модели (какие гиперпараметры есть у модели, сильно ли изменение значения гиперпараметра влияет на качество модели)."
   ]
  },
  {
   "cell_type": "code",
   "execution_count": null,
   "metadata": {},
   "outputs": [],
   "source": []
  },
  {
   "cell_type": "markdown",
   "metadata": {},
   "source": [
    "Не забудьте продолжить участвовать в соревнование, воспользовавшись всеми полученными наработками."
   ]
  }
 ],
 "metadata": {
  "kernelspec": {
   "display_name": "Python 3",
   "language": "python",
   "name": "python3"
  },
  "language_info": {
   "codemirror_mode": {
    "name": "ipython",
    "version": 3
   },
   "file_extension": ".py",
   "mimetype": "text/x-python",
   "name": "python",
   "nbconvert_exporter": "python",
   "pygments_lexer": "ipython3",
   "version": "3.8.8"
  }
 },
 "nbformat": 4,
 "nbformat_minor": 4
}
